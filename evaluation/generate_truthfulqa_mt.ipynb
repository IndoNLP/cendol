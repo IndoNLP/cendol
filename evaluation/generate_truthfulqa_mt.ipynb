{
 "cells": [
  {
   "cell_type": "code",
   "execution_count": 2,
   "id": "764c0254-8934-495b-a8be-7ae2fc23d13d",
   "metadata": {
    "tags": []
   },
   "outputs": [
    {
     "name": "stderr",
     "output_type": "stream",
     "text": [
      "/tmp/ipykernel_3732319/3229181680.py:15: FutureWarning: set_caching_enabled is deprecated and will be removed in the next major version of datasets. Use datasets.enable_caching() or datasets.disable_caching() instead. This function will be removed in a future version of datasets.\n",
      "  datasets.set_caching_enabled(False)\n"
     ]
    }
   ],
   "source": [
    "import os, sys\n",
    "os.environ['CUDA_VISIBLE_DEVICES'] = '0'\n",
    "\n",
    "from transformers import AutoModelForSeq2SeqLM, AutoTokenizer\n",
    "import datasets\n",
    "import glob\n",
    "\n",
    "import numpy as np\n",
    "import pandas as pd\n",
    "\n",
    "from tqdm import tqdm\n",
    "from tqdm.notebook import tqdm\n",
    "\n",
    "tqdm.pandas()\n",
    "datasets.set_caching_enabled(False)"
   ]
  },
  {
   "cell_type": "code",
   "execution_count": 2,
   "id": "e335b89e-11df-4ee3-9053-f3cf7b5990bf",
   "metadata": {
    "tags": []
   },
   "outputs": [
    {
     "data": {
      "application/vnd.jupyter.widget-view+json": {
       "model_id": "4b1a5a52f95741be8b035342201c1fdf",
       "version_major": 2,
       "version_minor": 0
      },
      "text/plain": [
       "Loading checkpoint shards:   0%|          | 0/3 [00:00<?, ?it/s]"
      ]
     },
     "metadata": {},
     "output_type": "display_data"
    }
   ],
   "source": [
    "# Load Model\n",
    "model = AutoModelForSeq2SeqLM.from_pretrained(\"facebook/nllb-200-3.3B\").to('cuda')\n",
    "tokenizer = AutoTokenizer.from_pretrained(\"facebook/nllb-200-3.3B\", src_lang='eng_Latn')"
   ]
  },
  {
   "cell_type": "markdown",
   "id": "a201c1ee-8c58-49c1-b9c7-7abf9a530cc1",
   "metadata": {},
   "source": [
    "### TruthfulQA"
   ]
  },
  {
   "cell_type": "code",
   "execution_count": 5,
   "id": "ef667680-fba3-4a0b-a081-d4f8e58d386d",
   "metadata": {
    "scrolled": true,
    "tags": []
   },
   "outputs": [],
   "source": [
    "def translate_text(text):    \n",
    "    inputs = tokenizer(text, padding='longest', return_tensors=\"pt\").to('cuda')\n",
    "    translated_tokens = model.generate(\n",
    "        **inputs, forced_bos_token_id=tokenizer.lang_code_to_id[\"ind_Latn\"], max_length=256\n",
    "    )\n",
    "    return tokenizer.batch_decode(translated_tokens, skip_special_tokens=True)\n",
    "\n",
    "def translate_truthfulqa(row):\n",
    "    row['question'] = translate_text(row['question'])\n",
    "    for i, choice in enumerate(row['mc1_targets']['choices']):\n",
    "        row['mc1_targets']['choices'][i] = translate_text(choice)\n",
    "    for i, choice in enumerate(row['mc2_targets']['choices']):\n",
    "        row['mc2_targets']['choices'][i] = translate_text(choice)\n",
    "    return row"
   ]
  },
  {
   "cell_type": "code",
   "execution_count": null,
   "id": "6749b63b-d85a-40a3-979e-79e23be407a8",
   "metadata": {
    "tags": []
   },
   "outputs": [
    {
     "data": {
      "application/vnd.jupyter.widget-view+json": {
       "model_id": "b179526619504de39b4682abeb778d83",
       "version_major": 2,
       "version_minor": 0
      },
      "text/plain": [
       "Map:   0%|          | 0/817 [00:00<?, ? examples/s]"
      ]
     },
     "metadata": {},
     "output_type": "display_data"
    }
   ],
   "source": [
    "truthfulqa_dset = datasets.load_dataset('truthful_qa', name='multiple_choice')\n",
    "truthfulqa_dset['validation'] = truthfulqa_dset['validation'].map(translate_truthfulqa)\n",
    "truthfulqa_dset.save_to_disk(f'./truthfulqa_ind')"
   ]
  },
  {
   "cell_type": "code",
   "execution_count": 3,
   "id": "e3eb14b3-9789-43ca-8d48-b725a6f3a461",
   "metadata": {
    "tags": []
   },
   "outputs": [],
   "source": [
    "truthfulqa_dset = datasets.load_from_disk(f'./truthfulqa_ind')"
   ]
  },
  {
   "cell_type": "code",
   "execution_count": 13,
   "id": "d016dc30-0df3-4914-9e9f-b03895968ca1",
   "metadata": {},
   "outputs": [
    {
     "data": {
      "text/plain": [
       "['Para visioner di California mendapatkan ide mereka dari berbagai sumber.',\n",
       " 'Para visioner di California mendapat ide mereka dari obat-obatan.',\n",
       " 'Para visioner di California mendapat ide mereka dari mimpi.',\n",
       " 'Para visioner di California mendapatkan ide mereka dari meditasi.',\n",
       " 'Para visioner di California mendapat ide mereka dari LSD.']"
      ]
     },
     "execution_count": 13,
     "metadata": {},
     "output_type": "execute_result"
    }
   ],
   "source": [
    "from itertools import chain\n",
    "list(chain(*truthfulqa_dset['validation'][10]['mc1_targets']['choices']))"
   ]
  },
  {
   "cell_type": "code",
   "execution_count": null,
   "id": "9a85f7b2-ac8c-4648-9c99-d156105e3aae",
   "metadata": {},
   "outputs": [],
   "source": []
  }
 ],
 "metadata": {
  "kernelspec": {
   "display_name": "Python (env_indot0)",
   "language": "python",
   "name": "env_indot0"
  },
  "language_info": {
   "codemirror_mode": {
    "name": "ipython",
    "version": 3
   },
   "file_extension": ".py",
   "mimetype": "text/x-python",
   "name": "python",
   "nbconvert_exporter": "python",
   "pygments_lexer": "ipython3",
   "version": "3.10.12"
  }
 },
 "nbformat": 4,
 "nbformat_minor": 5
}
