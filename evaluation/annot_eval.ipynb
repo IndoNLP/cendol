{
 "cells": [
  {
   "cell_type": "code",
   "execution_count": 1,
   "id": "0a52ecea",
   "metadata": {},
   "outputs": [],
   "source": [
    "import random\n",
    "import glob\n",
    "import pandas as pd"
   ]
  },
  {
   "cell_type": "markdown",
   "id": "1bd8b34f",
   "metadata": {},
   "source": [
    "### Phase 1"
   ]
  },
  {
   "cell_type": "code",
   "execution_count": 2,
   "id": "be2ffa9b",
   "metadata": {},
   "outputs": [
    {
     "name": "stdout",
     "output_type": "stream",
     "text": [
      "cendol-mt5-small_v2.csv\n",
      "Int64Index([14, 95, 92, 21, 56, 86, 48, 40, 44, 29, 19, 38, 70, 60, 78, 83,  0,\n",
      "            98, 63, 36, 23, 22,  6, 49, 84, 66, 33, 73, 88,  8],\n",
      "           dtype='int64')\n",
      "cendol-mt5-large_v1.csv\n",
      "Int64Index([14, 95, 92, 21, 56, 86, 48, 40, 44, 29, 19, 38, 70, 60, 78, 83,  0,\n",
      "            98, 63, 36, 23, 22,  6, 49, 84, 66, 33, 73, 88,  8],\n",
      "           dtype='int64')\n",
      "cendol-mt5-base_v2.csv\n",
      "Int64Index([14, 95, 92, 21, 56, 86, 48, 40, 44, 29, 19, 38, 70, 60, 78, 83,  0,\n",
      "            98, 63, 36, 23, 22,  6, 49, 84, 66, 33, 73, 88,  8],\n",
      "           dtype='int64')\n",
      "cendol-mt5-large_v2.csv\n",
      "Int64Index([14, 95, 92, 21, 56, 86, 48, 40, 44, 29, 19, 38, 70, 60, 78, 83,  0,\n",
      "            98, 63, 36, 23, 22,  6, 49, 84, 66, 33, 73, 88,  8],\n",
      "           dtype='int64')\n",
      "cendol-mt5-xl_v1.csv\n",
      "Int64Index([14, 95, 92, 21, 56, 86, 48, 40, 44, 29, 19, 38, 70, 60, 78, 83,  0,\n",
      "            98, 63, 36, 23, 22,  6, 49, 84, 66, 33, 73, 88,  8],\n",
      "           dtype='int64')\n",
      "cendol-mt5-xxl-merged_v2.csv\n",
      "Int64Index([14, 95, 92, 21, 56, 86, 48, 40, 44, 29, 19, 38, 70, 60, 78, 83,  0,\n",
      "            98, 63, 36, 23, 22,  6, 49, 84, 66, 33, 73, 88,  8],\n",
      "           dtype='int64')\n",
      "cendol-mt5-xxl-merged_v1.csv\n",
      "Int64Index([14, 95, 92, 21, 56, 86, 48, 40, 44, 29, 19, 38, 70, 60, 78, 83,  0,\n",
      "            98, 63, 36, 23, 22,  6, 49, 84, 66, 33, 73, 88,  8],\n",
      "           dtype='int64')\n",
      "cendol-mt5-xl_v2.csv\n",
      "Int64Index([14, 95, 92, 21, 56, 86, 48, 40, 44, 29, 19, 38, 70, 60, 78, 83,  0,\n",
      "            98, 63, 36, 23, 22,  6, 49, 84, 66, 33, 73, 88,  8],\n",
      "           dtype='int64')\n",
      "cendol-mt5-base_v1.csv\n",
      "Int64Index([14, 95, 92, 21, 56, 86, 48, 40, 44, 29, 19, 38, 70, 60, 78, 83,  0,\n",
      "            98, 63, 36, 23, 22,  6, 49, 84, 66, 33, 73, 88,  8],\n",
      "           dtype='int64')\n",
      "cendol-mt5-small_v1.csv\n",
      "Int64Index([14, 95, 92, 21, 56, 86, 48, 40, 44, 29, 19, 38, 70, 60, 78, 83,  0,\n",
      "            98, 63, 36, 23, 22,  6, 49, 84, 66, 33, 73, 88,  8],\n",
      "           dtype='int64')\n"
     ]
    }
   ],
   "source": [
    "paths = list(filter(lambda x: 'cendol-mt5' in x, glob.glob('*.csv')))\n",
    "random.shuffle(paths)\n",
    "\n",
    "dfs = []\n",
    "for path in paths:\n",
    "    print(path)\n",
    "    df = pd.read_csv(path)\n",
    "    df = df.sample(30, random_state=14045)\n",
    "    print(df.index)\n",
    "    dfs.append(df)\n",
    "pd.concat(dfs).to_csv('human_eval_arxiv.csv', index=False)"
   ]
  },
  {
   "cell_type": "code",
   "execution_count": null,
   "id": "5060b1b2",
   "metadata": {},
   "outputs": [],
   "source": [
    "paths"
   ]
  },
  {
   "cell_type": "code",
   "execution_count": 3,
   "id": "d8a51ac9",
   "metadata": {},
   "outputs": [
    {
     "data": {
      "text/plain": [
       "['cendol-mt5-xxl-merged_v2.csv',\n",
       " 'cendol-mt5-large_v1.csv',\n",
       " 'cendol-mt5-base_v1.csv',\n",
       " 'cendol-mt5-xxl-merged_v1.csv',\n",
       " 'cendol-mt5-xl_v2.csv',\n",
       " 'cendol-mt5-xl_v1.csv',\n",
       " 'cendol-mt5-small_v1.csv',\n",
       " 'cendol-mt5-large_v2.csv',\n",
       " 'cendol-mt5-base_v2.csv',\n",
       " 'cendol-mt5-small_v2.csv']"
      ]
     },
     "execution_count": 3,
     "metadata": {},
     "output_type": "execute_result"
    }
   ],
   "source": [
    "['cendol-mt5-xxl-merged_v2.csv',\n",
    " 'cendol-mt5-large_v1.csv',\n",
    " 'cendol-mt5-base_v1.csv',\n",
    " 'cendol-mt5-xxl-merged_v1.csv',\n",
    " 'cendol-mt5-xl_v2.csv',\n",
    " 'cendol-mt5-xl_v1.csv',\n",
    " 'cendol-mt5-small_v1.csv',\n",
    " 'cendol-mt5-large_v2.csv',\n",
    " 'cendol-mt5-base_v2.csv',\n",
    " 'cendol-mt5-small_v2.csv']"
   ]
  },
  {
   "cell_type": "code",
   "execution_count": null,
   "id": "2029c2be",
   "metadata": {},
   "outputs": [],
   "source": []
  },
  {
   "cell_type": "markdown",
   "id": "790c1cca",
   "metadata": {},
   "source": [
    "### Phase 2"
   ]
  },
  {
   "cell_type": "code",
   "execution_count": 2,
   "id": "8135183c",
   "metadata": {},
   "outputs": [
    {
     "name": "stdout",
     "output_type": "stream",
     "text": [
      "Int64Index([14, 95, 92, 21, 56, 86, 48, 40, 44, 29, 19, 38, 70, 60, 78, 83,  0,\n",
      "            98, 63, 36, 23, 22,  6, 49, 84, 66, 33, 73, 88,  8],\n",
      "           dtype='int64')\n",
      "Int64Index([14, 95, 92, 21, 56, 86, 48, 40, 44, 29, 19, 38, 70, 60, 78, 83,  0,\n",
      "            98, 63, 36, 23, 22,  6, 49, 84, 66, 33, 73, 88,  8],\n",
      "           dtype='int64')\n",
      "Int64Index([14, 95, 92, 21, 56, 86, 48, 40, 44, 29, 19, 38, 70, 60, 78, 83,  0,\n",
      "            98, 63, 36, 23, 22,  6, 49, 84, 66, 33, 73, 88,  8],\n",
      "           dtype='int64')\n",
      "Int64Index([14, 95, 92, 21, 56, 86, 48, 40, 44, 29, 19, 38, 70, 60, 78, 83,  0,\n",
      "            98, 63, 36, 23, 22,  6, 49, 84, 66, 33, 73, 88,  8],\n",
      "           dtype='int64')\n",
      "Int64Index([14, 95, 92, 21, 56, 86, 48, 40, 44, 29, 19, 38, 70, 60, 78, 83,  0,\n",
      "            98, 63, 36, 23, 22,  6, 49, 84, 66, 33, 73, 88,  8],\n",
      "           dtype='int64')\n",
      "Int64Index([14, 95, 92, 21, 56, 86, 48, 40, 44, 29, 19, 38, 70, 60, 78, 83,  0,\n",
      "            98, 63, 36, 23, 22,  6, 49, 84, 66, 33, 73, 88,  8],\n",
      "           dtype='int64')\n",
      "Int64Index([14, 95, 92, 21, 56, 86, 48, 40, 44, 29, 19, 38, 70, 60, 78, 83,  0,\n",
      "            98, 63, 36, 23, 22,  6, 49, 84, 66, 33, 73, 88,  8],\n",
      "           dtype='int64')\n",
      "Int64Index([14, 95, 92, 21, 56, 86, 48, 40, 44, 29, 19, 38, 70, 60, 78, 83,  0,\n",
      "            98, 63, 36, 23, 22,  6, 49, 84, 66, 33, 73, 88,  8],\n",
      "           dtype='int64')\n",
      "Int64Index([14, 95, 92, 21, 56, 86, 48, 40, 44, 29, 19, 38, 70, 60, 78, 83,  0,\n",
      "            98, 63, 36, 23, 22,  6, 49, 84, 66, 33, 73, 88,  8],\n",
      "           dtype='int64')\n",
      "Int64Index([14, 95, 92, 21, 56, 86, 48, 40, 44, 29, 19, 38, 70, 60, 78, 83,  0,\n",
      "            98, 63, 36, 23, 22,  6, 49, 84, 66, 33, 73, 88,  8],\n",
      "           dtype='int64')\n",
      "Int64Index([14, 95, 92, 21, 56, 86, 48, 40, 44, 29, 19, 38, 70, 60, 78, 83,  0,\n",
      "            98, 63, 36, 23, 22,  6, 49, 84, 66, 33, 73, 88,  8],\n",
      "           dtype='int64')\n",
      "Int64Index([14, 95, 92, 21, 56, 86, 48, 40, 44, 29, 19, 38, 70, 60, 78, 83,  0,\n",
      "            98, 63, 36, 23, 22,  6, 49, 84, 66, 33, 73, 88,  8],\n",
      "           dtype='int64')\n"
     ]
    }
   ],
   "source": [
    "paths = list(filter(lambda x: 'cendol-mt5' not in x and 'human' not in x, glob.glob('*.csv')))\n",
    "random.shuffle(paths)\n",
    "\n",
    "dfs = []\n",
    "for path in paths:\n",
    "    df = pd.read_csv(path)\n",
    "    df['responses'] = df['responses'].fillna('').apply(lambda x: x.replace('<s>', '').replace('</s>', '').strip())\n",
    "    df = df.sample(30, random_state=14045)\n",
    "    print(df.index)\n",
    "    dfs.append(df)\n",
    "pd.concat(dfs).to_csv('human_eval_arxiv_p2.csv', index=False)"
   ]
  },
  {
   "cell_type": "code",
   "execution_count": 3,
   "id": "83ba5ecb",
   "metadata": {},
   "outputs": [
    {
     "data": {
      "text/plain": [
       "['baseline_bloomz-7b1.csv',\n",
       " 'baseline_Llama-2-7b-chat-hf.csv',\n",
       " 'baseline_SeaLLM-7B-Chat.csv',\n",
       " 'cendol-llama2-7b_v1.csv',\n",
       " 'baseline_Merak-7B-v4.csv',\n",
       " 'baseline_sealion7b-instruct-nc.csv',\n",
       " 'baseline_Llama-2-13b-chat-hf.csv',\n",
       " 'baseline_bactrian-id-bloom-7b1-lora.csv',\n",
       " 'cendol-llama2-13b-merged-chat_v2.csv',\n",
       " 'baseline_bactrian-x-bloom-7b1-lora.csv',\n",
       " 'cendol-llama2-13b-merged_v1.csv',\n",
       " 'cendol-llama2-7b-chat_v2.csv']"
      ]
     },
     "execution_count": 3,
     "metadata": {},
     "output_type": "execute_result"
    }
   ],
   "source": [
    "paths"
   ]
  },
  {
   "cell_type": "code",
   "execution_count": 7,
   "id": "8e2b1967",
   "metadata": {},
   "outputs": [
    {
     "data": {
      "text/plain": [
       "['baseline_bloomz-7b1.csv',\n",
       " 'baseline_Llama-2-7b-chat-hf.csv',\n",
       " 'baseline_SeaLLM-7B-Chat.csv',\n",
       " 'cendol-llama2-7b_v1.csv',\n",
       " 'baseline_Merak-7B-v4.csv',\n",
       " 'baseline_sealion7b-instruct-nc.csv',\n",
       " 'baseline_Llama-2-13b-chat-hf.csv',\n",
       " 'baseline_bactrian-id-bloom-7b1-lora.csv',\n",
       " 'cendol-llama2-13b-merged-chat_v2.csv',\n",
       " 'baseline_bactrian-x-bloom-7b1-lora.csv',\n",
       " 'cendol-llama2-13b-merged_v1.csv',\n",
       " 'cendol-llama2-7b-chat_v2.csv']"
      ]
     },
     "execution_count": 7,
     "metadata": {},
     "output_type": "execute_result"
    }
   ],
   "source": [
    "['baseline_bloomz-7b1.csv',\n",
    " 'baseline_Llama-2-7b-chat-hf.csv',\n",
    " 'baseline_SeaLLM-7B-Chat.csv',\n",
    " 'cendol-llama2-7b_v1.csv',\n",
    " 'baseline_Merak-7B-v4.csv',\n",
    " 'baseline_sealion7b-instruct-nc.csv',\n",
    " 'baseline_Llama-2-13b-chat-hf.csv',\n",
    " 'baseline_bactrian-id-bloom-7b1-lora.csv',\n",
    " 'cendol-llama2-13b-merged-chat_v2.csv',\n",
    " 'baseline_bactrian-x-bloom-7b1-lora.csv',\n",
    " 'cendol-llama2-13b-merged_v1.csv',\n",
    " 'cendol-llama2-7b-chat_v2.csv']"
   ]
  },
  {
   "cell_type": "code",
   "execution_count": null,
   "id": "c7ea90ba",
   "metadata": {},
   "outputs": [],
   "source": []
  },
  {
   "cell_type": "markdown",
   "id": "64575893",
   "metadata": {},
   "source": [
    "# Human Recap"
   ]
  },
  {
   "cell_type": "code",
   "execution_count": 5,
   "id": "32838da4",
   "metadata": {},
   "outputs": [],
   "source": [
    "hdf = pd.read_csv('human_annotation_recap.csv')\n",
    "models = []\n",
    "for m in [\n",
    "    'cendol-mt5-xxl_v2',\n",
    "    'cendol-mt5-large_v1',\n",
    "    'cendol-mt5-base_v1',\n",
    "    'cendol-mt5-xxl_v1',\n",
    "    'cendol-mt5-xl_v2',\n",
    "    'cendol-mt5-xl_v1',\n",
    "    'cendol-mt5-small_v1',\n",
    "    'cendol-mt5-large_v2',\n",
    "    'cendol-mt5-base_v2',\n",
    "    'cendol-mt5-small_v2'\n",
    "]:\n",
    "    models += [m] * 30\n",
    "hdf['model'] = models\n",
    "hdf = hdf.reset_index()"
   ]
  },
  {
   "cell_type": "code",
   "execution_count": 6,
   "id": "8ca9638f",
   "metadata": {},
   "outputs": [
    {
     "data": {
      "text/html": [
       "<div>\n",
       "<style scoped>\n",
       "    .dataframe tbody tr th:only-of-type {\n",
       "        vertical-align: middle;\n",
       "    }\n",
       "\n",
       "    .dataframe tbody tr th {\n",
       "        vertical-align: top;\n",
       "    }\n",
       "\n",
       "    .dataframe thead th {\n",
       "        text-align: right;\n",
       "    }\n",
       "</style>\n",
       "<table border=\"1\" class=\"dataframe\">\n",
       "  <thead>\n",
       "    <tr style=\"text-align: right;\">\n",
       "      <th>R1</th>\n",
       "      <th>A</th>\n",
       "      <th>B</th>\n",
       "      <th>C</th>\n",
       "      <th>D</th>\n",
       "    </tr>\n",
       "    <tr>\n",
       "      <th>model</th>\n",
       "      <th></th>\n",
       "      <th></th>\n",
       "      <th></th>\n",
       "      <th></th>\n",
       "    </tr>\n",
       "  </thead>\n",
       "  <tbody>\n",
       "    <tr>\n",
       "      <th>cendol-mt5-base_v1</th>\n",
       "      <td>NaN</td>\n",
       "      <td>NaN</td>\n",
       "      <td>NaN</td>\n",
       "      <td>30.0</td>\n",
       "    </tr>\n",
       "    <tr>\n",
       "      <th>cendol-mt5-base_v2</th>\n",
       "      <td>1.0</td>\n",
       "      <td>NaN</td>\n",
       "      <td>13.0</td>\n",
       "      <td>16.0</td>\n",
       "    </tr>\n",
       "    <tr>\n",
       "      <th>cendol-mt5-large_v1</th>\n",
       "      <td>NaN</td>\n",
       "      <td>NaN</td>\n",
       "      <td>NaN</td>\n",
       "      <td>30.0</td>\n",
       "    </tr>\n",
       "    <tr>\n",
       "      <th>cendol-mt5-large_v2</th>\n",
       "      <td>3.0</td>\n",
       "      <td>10.0</td>\n",
       "      <td>10.0</td>\n",
       "      <td>7.0</td>\n",
       "    </tr>\n",
       "    <tr>\n",
       "      <th>cendol-mt5-small_v1</th>\n",
       "      <td>NaN</td>\n",
       "      <td>NaN</td>\n",
       "      <td>NaN</td>\n",
       "      <td>30.0</td>\n",
       "    </tr>\n",
       "    <tr>\n",
       "      <th>cendol-mt5-small_v2</th>\n",
       "      <td>NaN</td>\n",
       "      <td>4.0</td>\n",
       "      <td>8.0</td>\n",
       "      <td>18.0</td>\n",
       "    </tr>\n",
       "    <tr>\n",
       "      <th>cendol-mt5-xl_v1</th>\n",
       "      <td>NaN</td>\n",
       "      <td>NaN</td>\n",
       "      <td>NaN</td>\n",
       "      <td>30.0</td>\n",
       "    </tr>\n",
       "    <tr>\n",
       "      <th>cendol-mt5-xl_v2</th>\n",
       "      <td>3.0</td>\n",
       "      <td>10.0</td>\n",
       "      <td>11.0</td>\n",
       "      <td>6.0</td>\n",
       "    </tr>\n",
       "    <tr>\n",
       "      <th>cendol-mt5-xxl_v1</th>\n",
       "      <td>NaN</td>\n",
       "      <td>NaN</td>\n",
       "      <td>NaN</td>\n",
       "      <td>30.0</td>\n",
       "    </tr>\n",
       "    <tr>\n",
       "      <th>cendol-mt5-xxl_v2</th>\n",
       "      <td>3.0</td>\n",
       "      <td>6.0</td>\n",
       "      <td>13.0</td>\n",
       "      <td>8.0</td>\n",
       "    </tr>\n",
       "  </tbody>\n",
       "</table>\n",
       "</div>"
      ],
      "text/plain": [
       "R1                     A     B     C     D\n",
       "model                                     \n",
       "cendol-mt5-base_v1   NaN   NaN   NaN  30.0\n",
       "cendol-mt5-base_v2   1.0   NaN  13.0  16.0\n",
       "cendol-mt5-large_v1  NaN   NaN   NaN  30.0\n",
       "cendol-mt5-large_v2  3.0  10.0  10.0   7.0\n",
       "cendol-mt5-small_v1  NaN   NaN   NaN  30.0\n",
       "cendol-mt5-small_v2  NaN   4.0   8.0  18.0\n",
       "cendol-mt5-xl_v1     NaN   NaN   NaN  30.0\n",
       "cendol-mt5-xl_v2     3.0  10.0  11.0   6.0\n",
       "cendol-mt5-xxl_v1    NaN   NaN   NaN  30.0\n",
       "cendol-mt5-xxl_v2    3.0   6.0  13.0   8.0"
      ]
     },
     "execution_count": 6,
     "metadata": {},
     "output_type": "execute_result"
    }
   ],
   "source": [
    "hdf.groupby(['model', 'R1']).size().reset_index().pivot('model', 'R1', 0)"
   ]
  },
  {
   "cell_type": "code",
   "execution_count": 7,
   "id": "8b31f5ef",
   "metadata": {},
   "outputs": [
    {
     "data": {
      "text/html": [
       "<div>\n",
       "<style scoped>\n",
       "    .dataframe tbody tr th:only-of-type {\n",
       "        vertical-align: middle;\n",
       "    }\n",
       "\n",
       "    .dataframe tbody tr th {\n",
       "        vertical-align: top;\n",
       "    }\n",
       "\n",
       "    .dataframe thead th {\n",
       "        text-align: right;\n",
       "    }\n",
       "</style>\n",
       "<table border=\"1\" class=\"dataframe\">\n",
       "  <thead>\n",
       "    <tr style=\"text-align: right;\">\n",
       "      <th>R3</th>\n",
       "      <th>A</th>\n",
       "      <th>B</th>\n",
       "      <th>C</th>\n",
       "      <th>D</th>\n",
       "    </tr>\n",
       "    <tr>\n",
       "      <th>model</th>\n",
       "      <th></th>\n",
       "      <th></th>\n",
       "      <th></th>\n",
       "      <th></th>\n",
       "    </tr>\n",
       "  </thead>\n",
       "  <tbody>\n",
       "    <tr>\n",
       "      <th>cendol-mt5-base_v1</th>\n",
       "      <td>NaN</td>\n",
       "      <td>NaN</td>\n",
       "      <td>NaN</td>\n",
       "      <td>30.0</td>\n",
       "    </tr>\n",
       "    <tr>\n",
       "      <th>cendol-mt5-base_v2</th>\n",
       "      <td>NaN</td>\n",
       "      <td>4.0</td>\n",
       "      <td>6.0</td>\n",
       "      <td>20.0</td>\n",
       "    </tr>\n",
       "    <tr>\n",
       "      <th>cendol-mt5-large_v1</th>\n",
       "      <td>NaN</td>\n",
       "      <td>NaN</td>\n",
       "      <td>NaN</td>\n",
       "      <td>30.0</td>\n",
       "    </tr>\n",
       "    <tr>\n",
       "      <th>cendol-mt5-large_v2</th>\n",
       "      <td>NaN</td>\n",
       "      <td>12.0</td>\n",
       "      <td>5.0</td>\n",
       "      <td>13.0</td>\n",
       "    </tr>\n",
       "    <tr>\n",
       "      <th>cendol-mt5-small_v1</th>\n",
       "      <td>NaN</td>\n",
       "      <td>NaN</td>\n",
       "      <td>NaN</td>\n",
       "      <td>30.0</td>\n",
       "    </tr>\n",
       "    <tr>\n",
       "      <th>cendol-mt5-small_v2</th>\n",
       "      <td>NaN</td>\n",
       "      <td>7.0</td>\n",
       "      <td>16.0</td>\n",
       "      <td>7.0</td>\n",
       "    </tr>\n",
       "    <tr>\n",
       "      <th>cendol-mt5-xl_v1</th>\n",
       "      <td>NaN</td>\n",
       "      <td>NaN</td>\n",
       "      <td>NaN</td>\n",
       "      <td>30.0</td>\n",
       "    </tr>\n",
       "    <tr>\n",
       "      <th>cendol-mt5-xl_v2</th>\n",
       "      <td>2.0</td>\n",
       "      <td>13.0</td>\n",
       "      <td>11.0</td>\n",
       "      <td>4.0</td>\n",
       "    </tr>\n",
       "    <tr>\n",
       "      <th>cendol-mt5-xxl_v1</th>\n",
       "      <td>NaN</td>\n",
       "      <td>NaN</td>\n",
       "      <td>NaN</td>\n",
       "      <td>30.0</td>\n",
       "    </tr>\n",
       "    <tr>\n",
       "      <th>cendol-mt5-xxl_v2</th>\n",
       "      <td>1.0</td>\n",
       "      <td>6.0</td>\n",
       "      <td>8.0</td>\n",
       "      <td>15.0</td>\n",
       "    </tr>\n",
       "  </tbody>\n",
       "</table>\n",
       "</div>"
      ],
      "text/plain": [
       "R3                     A     B     C     D\n",
       "model                                     \n",
       "cendol-mt5-base_v1   NaN   NaN   NaN  30.0\n",
       "cendol-mt5-base_v2   NaN   4.0   6.0  20.0\n",
       "cendol-mt5-large_v1  NaN   NaN   NaN  30.0\n",
       "cendol-mt5-large_v2  NaN  12.0   5.0  13.0\n",
       "cendol-mt5-small_v1  NaN   NaN   NaN  30.0\n",
       "cendol-mt5-small_v2  NaN   7.0  16.0   7.0\n",
       "cendol-mt5-xl_v1     NaN   NaN   NaN  30.0\n",
       "cendol-mt5-xl_v2     2.0  13.0  11.0   4.0\n",
       "cendol-mt5-xxl_v1    NaN   NaN   NaN  30.0\n",
       "cendol-mt5-xxl_v2    1.0   6.0   8.0  15.0"
      ]
     },
     "execution_count": 7,
     "metadata": {},
     "output_type": "execute_result"
    }
   ],
   "source": [
    "hdf.groupby(['model', 'R3']).size().reset_index().pivot('model', 'R3', 0)"
   ]
  },
  {
   "cell_type": "code",
   "execution_count": 8,
   "id": "bf5b88ce",
   "metadata": {},
   "outputs": [
    {
     "data": {
      "text/html": [
       "<div>\n",
       "<style scoped>\n",
       "    .dataframe tbody tr th:only-of-type {\n",
       "        vertical-align: middle;\n",
       "    }\n",
       "\n",
       "    .dataframe tbody tr th {\n",
       "        vertical-align: top;\n",
       "    }\n",
       "\n",
       "    .dataframe thead th {\n",
       "        text-align: right;\n",
       "    }\n",
       "</style>\n",
       "<table border=\"1\" class=\"dataframe\">\n",
       "  <thead>\n",
       "    <tr style=\"text-align: right;\">\n",
       "      <th>R4</th>\n",
       "      <th>A</th>\n",
       "      <th>B</th>\n",
       "      <th>C</th>\n",
       "      <th>D</th>\n",
       "    </tr>\n",
       "    <tr>\n",
       "      <th>model</th>\n",
       "      <th></th>\n",
       "      <th></th>\n",
       "      <th></th>\n",
       "      <th></th>\n",
       "    </tr>\n",
       "  </thead>\n",
       "  <tbody>\n",
       "    <tr>\n",
       "      <th>cendol-mt5-base_v1</th>\n",
       "      <td>NaN</td>\n",
       "      <td>NaN</td>\n",
       "      <td>NaN</td>\n",
       "      <td>30.0</td>\n",
       "    </tr>\n",
       "    <tr>\n",
       "      <th>cendol-mt5-base_v2</th>\n",
       "      <td>2.0</td>\n",
       "      <td>1.0</td>\n",
       "      <td>2.0</td>\n",
       "      <td>25.0</td>\n",
       "    </tr>\n",
       "    <tr>\n",
       "      <th>cendol-mt5-large_v1</th>\n",
       "      <td>NaN</td>\n",
       "      <td>NaN</td>\n",
       "      <td>1.0</td>\n",
       "      <td>29.0</td>\n",
       "    </tr>\n",
       "    <tr>\n",
       "      <th>cendol-mt5-large_v2</th>\n",
       "      <td>5.0</td>\n",
       "      <td>3.0</td>\n",
       "      <td>10.0</td>\n",
       "      <td>12.0</td>\n",
       "    </tr>\n",
       "    <tr>\n",
       "      <th>cendol-mt5-small_v1</th>\n",
       "      <td>NaN</td>\n",
       "      <td>NaN</td>\n",
       "      <td>NaN</td>\n",
       "      <td>30.0</td>\n",
       "    </tr>\n",
       "    <tr>\n",
       "      <th>cendol-mt5-small_v2</th>\n",
       "      <td>NaN</td>\n",
       "      <td>NaN</td>\n",
       "      <td>7.0</td>\n",
       "      <td>23.0</td>\n",
       "    </tr>\n",
       "    <tr>\n",
       "      <th>cendol-mt5-xl_v1</th>\n",
       "      <td>NaN</td>\n",
       "      <td>NaN</td>\n",
       "      <td>1.0</td>\n",
       "      <td>29.0</td>\n",
       "    </tr>\n",
       "    <tr>\n",
       "      <th>cendol-mt5-xl_v2</th>\n",
       "      <td>4.0</td>\n",
       "      <td>5.0</td>\n",
       "      <td>14.0</td>\n",
       "      <td>7.0</td>\n",
       "    </tr>\n",
       "    <tr>\n",
       "      <th>cendol-mt5-xxl_v1</th>\n",
       "      <td>NaN</td>\n",
       "      <td>NaN</td>\n",
       "      <td>NaN</td>\n",
       "      <td>30.0</td>\n",
       "    </tr>\n",
       "    <tr>\n",
       "      <th>cendol-mt5-xxl_v2</th>\n",
       "      <td>1.0</td>\n",
       "      <td>6.0</td>\n",
       "      <td>13.0</td>\n",
       "      <td>10.0</td>\n",
       "    </tr>\n",
       "  </tbody>\n",
       "</table>\n",
       "</div>"
      ],
      "text/plain": [
       "R4                     A    B     C     D\n",
       "model                                    \n",
       "cendol-mt5-base_v1   NaN  NaN   NaN  30.0\n",
       "cendol-mt5-base_v2   2.0  1.0   2.0  25.0\n",
       "cendol-mt5-large_v1  NaN  NaN   1.0  29.0\n",
       "cendol-mt5-large_v2  5.0  3.0  10.0  12.0\n",
       "cendol-mt5-small_v1  NaN  NaN   NaN  30.0\n",
       "cendol-mt5-small_v2  NaN  NaN   7.0  23.0\n",
       "cendol-mt5-xl_v1     NaN  NaN   1.0  29.0\n",
       "cendol-mt5-xl_v2     4.0  5.0  14.0   7.0\n",
       "cendol-mt5-xxl_v1    NaN  NaN   NaN  30.0\n",
       "cendol-mt5-xxl_v2    1.0  6.0  13.0  10.0"
      ]
     },
     "execution_count": 8,
     "metadata": {},
     "output_type": "execute_result"
    }
   ],
   "source": [
    "hdf.groupby(['model', 'R4']).size().reset_index().pivot('model', 'R4', 0)"
   ]
  },
  {
   "cell_type": "code",
   "execution_count": 9,
   "id": "9433a91a",
   "metadata": {},
   "outputs": [],
   "source": [
    "rdfs = []\n",
    "for i, r in enumerate(['R1', 'R3', 'R4']):\n",
    "    rdf = hdf[['index', 'model', r]]\n",
    "    rdf = rdf.rename({r: 'score'}, axis='columns')\n",
    "    rdf.loc[:,'annot_id'] = i\n",
    "    rdfs.append(rdf)\n",
    "df = pd.concat(rdfs)"
   ]
  },
  {
   "cell_type": "markdown",
   "id": "8dfe2b34",
   "metadata": {},
   "source": [
    "### Analysis"
   ]
  },
  {
   "cell_type": "code",
   "execution_count": 10,
   "id": "7f00918e",
   "metadata": {},
   "outputs": [],
   "source": [
    "from agreement.utils.transform import pivot_table_frequency\n",
    "\n",
    "questions_answers_table = pivot_table_frequency(df.loc[:,'index'], df.loc[:,'score'])\n",
    "users_answers_table = pivot_table_frequency(df.loc[:,'annot_id'], df.loc[:,'score'])"
   ]
  },
  {
   "cell_type": "code",
   "execution_count": 11,
   "id": "23594797",
   "metadata": {},
   "outputs": [],
   "source": [
    "from agreement.utils.kernels import linear_kernel\n",
    "from agreement.metrics import cohens_kappa, krippendorffs_alpha\n",
    "\n",
    "kappa = cohens_kappa(questions_answers_table, users_answers_table)\n",
    "weighted_kappa = cohens_kappa(questions_answers_table, users_answers_table, weights_kernel=linear_kernel)\n",
    "\n",
    "alpha = krippendorffs_alpha(questions_answers_table)"
   ]
  },
  {
   "cell_type": "code",
   "execution_count": 12,
   "id": "04d74df8",
   "metadata": {},
   "outputs": [
    {
     "data": {
      "text/plain": [
       "(0.47542727294703496, 0.5882149496346892, 0.47457202572693663)"
      ]
     },
     "execution_count": 12,
     "metadata": {},
     "output_type": "execute_result"
    }
   ],
   "source": [
    "kappa, weighted_kappa, alpha"
   ]
  },
  {
   "cell_type": "code",
   "execution_count": 13,
   "id": "bf6098bc",
   "metadata": {},
   "outputs": [],
   "source": [
    "def get_model_id(model_name):\n",
    "    if 'small' in model_name:\n",
    "        return 0\n",
    "    if 'base' in model_name:\n",
    "        return 1\n",
    "    if 'large' in model_name:\n",
    "        return 2\n",
    "    if 'xl' in model_name:\n",
    "        return 3\n",
    "    if 'xxl' in model_name:\n",
    "        return 4\n",
    "\n",
    "pdf = df.groupby(['model', 'score']).size().reset_index().pivot('model', 'score', 0).fillna(0).reset_index()\n",
    "pdf['model_id'] = pdf['model'].apply(get_model_id)"
   ]
  },
  {
   "cell_type": "code",
   "execution_count": 14,
   "id": "d0a7bc50",
   "metadata": {},
   "outputs": [],
   "source": [
    "def get_model_name(mdl):\n",
    "    return mdl[7:].split('_')[0]\n",
    "\n",
    "import matplotlib.pyplot as plt\n",
    "plt.rcParams['axes.facecolor'] = 'white'\n",
    "plt.rcParams['figure.facecolor'] = 'white'"
   ]
  },
  {
   "cell_type": "code",
   "execution_count": 15,
   "id": "c28a417c",
   "metadata": {},
   "outputs": [
    {
     "name": "stderr",
     "output_type": "stream",
     "text": [
      "/tmp/ipykernel_595037/2392164422.py:8: MatplotlibDeprecationWarning: savefig() got unexpected keyword argument \"bbox_anchor\" which is no longer supported as of 3.3 and will become an error in 3.6\n",
      "  plt.savefig('v1_eval.pdf', bbox_anchor='tight')\n"
     ]
    },
    {
     "data": {
      "image/png": "[encoded data removed]",
      "text/plain": [
       "<Figure size 432x288 with 1 Axes>"
      ]
     },
     "metadata": {
      "needs_background": "light"
     },
     "output_type": "display_data"
    }
   ],
   "source": [
    "plt.rcParams[\"figure.figsize\"] = (7,4)\n",
    "\n",
    "v1_df = pdf.sort_values('model_id').loc[pdf['model'].str.contains('v1'), ['model', 'D', 'C', 'B','A']]\n",
    "v1_df.plot(kind='bar', stacked=True, color=['purple','navy','teal','gold'])\n",
    "plt.xticks([0, 1, 2, 3, 4], v1_df['model'].apply(get_model_name), fontsize=0, rotation=12)\n",
    "plt.yticks(fontsize=16)\n",
    "plt.legend(ncol=4, loc='upper center', bbox_to_anchor=(0.5,1.18), fontsize=16)\n",
    "plt.savefig('v1_eval.pdf', bbox_anchor='tight')\n",
    "plt.show()"
   ]
  },
  {
   "cell_type": "code",
   "execution_count": 16,
   "id": "45dc3eaf",
   "metadata": {},
   "outputs": [
    {
     "name": "stderr",
     "output_type": "stream",
     "text": [
      "/tmp/ipykernel_595037/1296634273.py:9: MatplotlibDeprecationWarning: savefig() got unexpected keyword argument \"bbox_anchor\" which is no longer supported as of 3.3 and will become an error in 3.6\n",
      "  plt.savefig('v2_eval.pdf', bbox_anchor='tight')\n"
     ]
    },
    {
     "data": {
      "image/png": "[encoded data removed]",
      "text/plain": [
       "<Figure size 504x288 with 1 Axes>"
      ]
     },
     "metadata": {
      "needs_background": "light"
     },
     "output_type": "display_data"
    }
   ],
   "source": [
    "plt.rcParams[\"figure.figsize\"] = (7,4)\n",
    "\n",
    "v2_df = pdf.sort_values('model_id').loc[pdf['model'].str.contains('v2'), ['model', 'D', 'C', 'B','A']]\n",
    "ax = v2_df.plot(kind='bar', stacked=True, color=['purple','navy','teal','gold'])\n",
    "ax.legend().set_visible(False)\n",
    "plt.xticks([0, 1, 2, 3, 4], v2_df['model'].apply(get_model_name), fontsize=16, rotation=12)\n",
    "plt.yticks(fontsize=16)\n",
    "# plt.legend(ncol=4, loc='upper center', bbox_to_anchor=(0.5,1.15), fontsize=12)\n",
    "plt.savefig('v2_eval.pdf', bbox_anchor='tight')\n",
    "plt.show()"
   ]
  },
  {
   "cell_type": "code",
   "execution_count": null,
   "id": "688e2ca7",
   "metadata": {},
   "outputs": [],
   "source": []
  }
 ],
 "metadata": {
  "kernelspec": {
   "display_name": "Python 3 (ipykernel)",
   "language": "python",
   "name": "python3"
  },
  "language_info": {
   "codemirror_mode": {
    "name": "ipython",
    "version": 3
   },
   "file_extension": ".py",
   "mimetype": "text/x-python",
   "name": "python",
   "nbconvert_exporter": "python",
   "pygments_lexer": "ipython3",
   "version": "3.8.13"
  }
 },
 "nbformat": 4,
 "nbformat_minor": 5
}
