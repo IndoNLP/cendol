{
 "cells": [
  {
   "cell_type": "code",
   "execution_count": 1,
   "id": "3177e906-429d-405e-a145-4cf13d252618",
   "metadata": {
    "tags": []
   },
   "outputs": [],
   "source": [
    "from transformers import AutoModelForCausalLM, AutoTokenizer"
   ]
  },
  {
   "cell_type": "code",
   "execution_count": 2,
   "id": "2f036608-08bf-480e-b245-b156ba9a60e6",
   "metadata": {
    "tags": []
   },
   "outputs": [
    {
     "data": {
      "application/vnd.jupyter.widget-view+json": {
       "model_id": "644b13f32fb649eb8af5e5dc976ca9c0",
       "version_major": 2,
       "version_minor": 0
      },
      "text/plain": [
       "Loading checkpoint shards:   0%|          | 0/2 [00:00<?, ?it/s]"
      ]
     },
     "metadata": {},
     "output_type": "display_data"
    },
    {
     "data": {
      "application/vnd.jupyter.widget-view+json": {
       "model_id": "01529c36f793476a8b9fd7b30481ae7f",
       "version_major": 2,
       "version_minor": 0
      },
      "text/plain": [
       "Loading checkpoint shards:   0%|          | 0/3 [00:00<?, ?it/s]"
      ]
     },
     "metadata": {},
     "output_type": "display_data"
    }
   ],
   "source": [
    "model_ori = AutoModelForCausalLM.from_pretrained('meta-llama/Llama-2-7b-hf')\n",
    "model_mod = AutoModelForCausalLM.from_pretrained('indonlp/cendol-llama2-7b-ind-vocab')\n",
    "\n",
    "tokenizer_ori = AutoTokenizer.from_pretrained('meta-llama/Llama-2-7b-hf')\n",
    "tokenizer_mod = AutoTokenizer.from_pretrained('indonlp/cendol-llama2-7b-ind-vocab')"
   ]
  },
  {
   "cell_type": "code",
   "execution_count": 3,
   "id": "fe8ac110-30cc-4ca3-8816-bc1da516a3e3",
   "metadata": {
    "tags": []
   },
   "outputs": [],
   "source": [
    "ori_vocab = tokenizer_ori.vocab.items()\n",
    "ori_vocab_list = sorted(ori_vocab, key=lambda x: x[1])"
   ]
  },
  {
   "cell_type": "code",
   "execution_count": 4,
   "id": "390f5bc5-87e1-4101-81ed-06b54425ee1f",
   "metadata": {
    "tags": []
   },
   "outputs": [],
   "source": [
    "mod_vocab = tokenizer_mod.vocab.items()\n",
    "mod_vocab_list = sorted(mod_vocab, key=lambda x: x[1])"
   ]
  },
  {
   "cell_type": "code",
   "execution_count": 11,
   "id": "255df6bd-d408-4f24-b784-e4bc85173d85",
   "metadata": {
    "tags": []
   },
   "outputs": [
    {
     "data": {
      "text/plain": [
       "torch.Size([4096])"
      ]
     },
     "execution_count": 11,
     "metadata": {},
     "output_type": "execute_result"
    }
   ],
   "source": []
  },
  {
   "cell_type": "code",
   "execution_count": 29,
   "id": "90988f99-786f-4d9c-8dfd-40abdaa6d3fa",
   "metadata": {
    "tags": []
   },
   "outputs": [
    {
     "data": {
      "text/plain": [
       "tensor([[2., 1., 1.],\n",
       "        [1., 2., 1.],\n",
       "        [1., 1., 2.]])"
      ]
     },
     "execution_count": 29,
     "metadata": {},
     "output_type": "execute_result"
    }
   ],
   "source": [
    "import torch\n"
   ]
  },
  {
   "cell_type": "code",
   "execution_count": 44,
   "id": "bb277e9f-1300-472b-95eb-b69fa1c4407b",
   "metadata": {
    "tags": []
   },
   "outputs": [
    {
     "data": {
      "text/plain": [
       "{True: 32000, False: 0}"
      ]
     },
     "execution_count": 44,
     "metadata": {},
     "output_type": "execute_result"
    }
   ],
   "source": [
    "c = {True: 0, False: 0}\n",
    "\n",
    "with torch.inference_mode():\n",
    "    for i, word in enumerate(mod_vocab_list):\n",
    "        idx = tokenizer_ori.convert_tokens_to_ids(word[0])\n",
    "        if i == tokenizer_mod.unk_token_id:\n",
    "            c[(model_ori.model.embed_tokens.weight.data[tokenizer_ori.unk_token_id,:] == model_mod.model.embed_tokens.weight.data[i,:]).all().item()] += 1\n",
    "        elif idx != tokenizer_mod.unk_token_id:\n",
    "            c[(model_ori.model.embed_tokens.weight.data[idx,:] == model_mod.model.embed_tokens.weight.data[i,:]).all().item()] += 1\n",
    "        else:\n",
    "            subword_embed = []\n",
    "            subwords_idx = tokenizer_ori.encode(word[0])[1:]\n",
    "            for subword_idx in subwords_idx:\n",
    "                subword_embed.append(model_ori.model.embed_tokens.weight.data[subword_idx,:])\n",
    "            subword_embed = torch.stack(subword_embed, dim=0).mean(dim=0)\n",
    "            c[((subword_embed - model_mod.model.embed_tokens.weight.data[i,:]).abs() < 1e-7).all().item()] += 1\n",
    "c"
   ]
  },
  {
   "cell_type": "code",
   "execution_count": 56,
   "id": "d7d91853-01f2-4707-906d-9e656e196ff5",
   "metadata": {
    "tags": []
   },
   "outputs": [
    {
     "data": {
      "text/plain": [
       "'▁membalas'"
      ]
     },
     "execution_count": 56,
     "metadata": {},
     "output_type": "execute_result"
    }
   ],
   "source": [
    "word[0]"
   ]
  },
  {
   "cell_type": "code",
   "execution_count": 57,
   "id": "74c70e9c-78f2-4ab6-88e5-6272238e64fe",
   "metadata": {},
   "outputs": [
    {
     "data": {
      "text/plain": [
       "['▁', '▁memb', 'al', 'as']"
      ]
     },
     "execution_count": 57,
     "metadata": {},
     "output_type": "execute_result"
    }
   ],
   "source": [
    "tokenizer_ori.tokenize(word[0])"
   ]
  },
  {
   "cell_type": "code",
   "execution_count": 58,
   "id": "e0b1a5f5-2a6f-4959-b49a-953619327182",
   "metadata": {},
   "outputs": [
    {
     "data": {
      "text/plain": [
       "['▁', '▁memb', 'al', 'as']"
      ]
     },
     "execution_count": 58,
     "metadata": {},
     "output_type": "execute_result"
    }
   ],
   "source": [
    "[tokenizer_ori.convert_ids_to_tokens(x) for x in tokenizer_ori.encode(word[0])[1:]]"
   ]
  },
  {
   "cell_type": "code",
   "execution_count": 59,
   "id": "13d61e30-b559-4d6f-a688-8cf6d8c787c4",
   "metadata": {},
   "outputs": [
    {
     "data": {
      "text/plain": [
       "['▁kan']"
      ]
     },
     "execution_count": 59,
     "metadata": {},
     "output_type": "execute_result"
    }
   ],
   "source": [
    "tokenizer_ori.tokenize('kan')"
   ]
  },
  {
   "cell_type": "code",
   "execution_count": 60,
   "id": "7bc2083e-5da5-411b-8082-936c31e601ff",
   "metadata": {},
   "outputs": [
    {
     "data": {
      "text/plain": [
       "['▁kan']"
      ]
     },
     "execution_count": 60,
     "metadata": {},
     "output_type": "execute_result"
    }
   ],
   "source": [
    "[tokenizer_ori.convert_ids_to_tokens(x) for x in tokenizer_ori.encode('kan')[1:]]"
   ]
  },
  {
   "cell_type": "markdown",
   "id": "904df922-cbe4-44f6-a42d-d99d3df0fa75",
   "metadata": {},
   "source": [
    "# Calculate Token Efficiency using the new tokenizer"
   ]
  },
  {
   "cell_type": "code",
   "execution_count": 26,
   "id": "0de3410a-8897-440a-968c-5ab016d6f05c",
   "metadata": {},
   "outputs": [],
   "source": [
    "stats = []"
   ]
  },
  {
   "cell_type": "code",
   "execution_count": 27,
   "id": "b13bea72-3b80-4925-9800-726fab230a1f",
   "metadata": {},
   "outputs": [
    {
     "name": "stderr",
     "output_type": "stream",
     "text": [
      "/home/samuel/anaconda2/envs/env_instruct_align/lib/python3.10/site-packages/transformers/models/auto/tokenization_auto.py:690: FutureWarning: The `use_auth_token` argument is deprecated and will be removed in v5 of Transformers. Please use `token` instead.\n",
      "  warnings.warn(\n"
     ]
    }
   ],
   "source": [
    "tokenizer = AutoTokenizer.from_pretrained('indonlp/cendol-llama2-7b-ind-vocab')\n",
    "llama_tokenizer = AutoTokenizer.from_pretrained('meta-llama/Llama-2-7b-hf', use_auth_token=True)"
   ]
  },
  {
   "cell_type": "code",
   "execution_count": 28,
   "id": "dc973de8-a074-4948-b9dd-e4396e85795b",
   "metadata": {},
   "outputs": [
    {
     "data": {
      "text/plain": [
       "{'split_count': 38880,\n",
       " 'cendol_count': 56496,\n",
       " 'llama_count': 106644,\n",
       " 'unk_count': 0,\n",
       " 'dset': 'flores-ind'}"
      ]
     },
     "execution_count": 28,
     "metadata": {},
     "output_type": "execute_result"
    }
   ],
   "source": [
    "data, stat = ind_data, { 'split_count': 0, 'cendol_count': 0, 'llama_count': 0, 'unk_count': 0 }\n",
    "for sent in (data['dev']['sentence'] + data['devtest']['sentence']):\n",
    "    split_toks = sent.split()\n",
    "    cendol_toks = tokenizer.tokenize(sent)\n",
    "    llama_toks = llama_tokenizer.tokenize(sent)\n",
    "    stat['split_count'] += len(split_toks)\n",
    "    stat['cendol_count'] += len(cendol_toks)\n",
    "    stat['llama_count'] += len(llama_toks)\n",
    "    stat['unk_count'] += len(list(filter(lambda x: x == tokenizer.unk_token, lang_toks)))\n",
    "stat['dset'] = 'flores-ind'\n",
    "stats.append(stat)\n",
    "stat"
   ]
  },
  {
   "cell_type": "code",
   "execution_count": 36,
   "id": "7ca8d126-6c7a-460e-b86d-e3a2191ad561",
   "metadata": {},
   "outputs": [
    {
     "data": {
      "text/plain": [
       "{'split_count': 211169,\n",
       " 'cendol_count': 474522,\n",
       " 'llama_count': 567920,\n",
       " 'unk_count': 0,\n",
       " 'dset': 'nt-ind'}"
      ]
     },
     "execution_count": 36,
     "metadata": {},
     "output_type": "execute_result"
    }
   ],
   "source": [
    "data, stat = datasets.load_dataset('indonlp/nusatranslation_mt'), { 'split_count': 0, 'cendol_count': 0, 'llama_count': 0, 'unk_count': 0 }\n",
    "for sent in (data['train']['text'] + data['validation']['text'] + data['test']['text']):\n",
    "    split_toks = sent.split()\n",
    "    cendol_toks = tokenizer.tokenize(sent)\n",
    "    llama_toks = llama_tokenizer.tokenize(sent)\n",
    "    stat['split_count'] += len(split_toks)\n",
    "    stat['cendol_count'] += len(cendol_toks)\n",
    "    stat['llama_count'] += len(llama_toks)\n",
    "    stat['unk_count'] += len(list(filter(lambda x: x == tokenizer.unk_token, lang_toks)))\n",
    "stat['dset'] = 'nt-ind'\n",
    "stats.append(stat)\n",
    "stat"
   ]
  },
  {
   "cell_type": "code",
   "execution_count": 33,
   "id": "22f3fa5e-f461-400c-8b5b-33ce2eba96b3",
   "metadata": {},
   "outputs": [],
   "source": [
    "# stats = []\n",
    "for subset in [\n",
    "    'nusatranslation_mt_abs_ind_nusantara_t2t', 'nusatranslation_mt_btk_ind_nusantara_t2t', 'nusatranslation_mt_bew_ind_nusantara_t2t',\n",
    "    'nusatranslation_mt_bhp_ind_nusantara_t2t', 'nusatranslation_mt_jav_ind_nusantara_t2t', 'nusatranslation_mt_mad_ind_nusantara_t2t', \n",
    "    'nusatranslation_mt_mak_ind_nusantara_t2t', 'nusatranslation_mt_min_ind_nusantara_t2t', 'nusatranslation_mt_mui_ind_nusantara_t2t', \n",
    "    'nusatranslation_mt_rej_ind_nusantara_t2t', 'nusatranslation_mt_sun_ind_nusantara_t2t'\n",
    "]:\n",
    "    data, stat = datasets.load_dataset('indonlp/nusatranslation_mt', name=subset), { 'dset': '', 'split_count': 0, 'cendol_count': 0, 'llama_count': 0, 'unk_count': 0 }\n",
    "    for sent in (data['train']['text_1'] + data['validation']['text_1'] + data['test']['text_1']):\n",
    "        split_toks = sent.split()\n",
    "        cendol_toks = tokenizer.tokenize(sent)\n",
    "        llama_toks = llama_tokenizer.tokenize(sent)\n",
    "        stat['dset'] = 'nt-' + subset.split('nusatranslation_mt_')[-1][:3]\n",
    "        stat['split_count'] += len(split_toks)\n",
    "        stat['cendol_count'] += len(cendol_toks)\n",
    "        stat['llama_count'] += len(llama_toks)\n",
    "        stat['unk_count'] += len(list(filter(lambda x: x == tokenizer.unk_token, lang_toks)))\n",
    "    stats.append(stat)"
   ]
  },
  {
   "cell_type": "code",
   "execution_count": 37,
   "id": "0944197f-20fc-46f0-b260-601aac44ecb9",
   "metadata": {},
   "outputs": [
    {
     "data": {
      "text/html": [
       "<div>\n",
       "<style scoped>\n",
       "    .dataframe tbody tr th:only-of-type {\n",
       "        vertical-align: middle;\n",
       "    }\n",
       "\n",
       "    .dataframe tbody tr th {\n",
       "        vertical-align: top;\n",
       "    }\n",
       "\n",
       "    .dataframe thead th {\n",
       "        text-align: right;\n",
       "    }\n",
       "</style>\n",
       "<table border=\"1\" class=\"dataframe\">\n",
       "  <thead>\n",
       "    <tr style=\"text-align: right;\">\n",
       "      <th></th>\n",
       "      <th>split_count</th>\n",
       "      <th>cendol_count</th>\n",
       "      <th>llama_count</th>\n",
       "      <th>unk_count</th>\n",
       "      <th>dset</th>\n",
       "    </tr>\n",
       "  </thead>\n",
       "  <tbody>\n",
       "    <tr>\n",
       "      <th>0</th>\n",
       "      <td>38880</td>\n",
       "      <td>56496</td>\n",
       "      <td>106644</td>\n",
       "      <td>0</td>\n",
       "      <td>flores-ind</td>\n",
       "    </tr>\n",
       "    <tr>\n",
       "      <th>1</th>\n",
       "      <td>38336</td>\n",
       "      <td>71046</td>\n",
       "      <td>90340</td>\n",
       "      <td>0</td>\n",
       "      <td>nt-abs</td>\n",
       "    </tr>\n",
       "    <tr>\n",
       "      <th>2</th>\n",
       "      <td>217281</td>\n",
       "      <td>493099</td>\n",
       "      <td>553066</td>\n",
       "      <td>0</td>\n",
       "      <td>nt-btk</td>\n",
       "    </tr>\n",
       "    <tr>\n",
       "      <th>3</th>\n",
       "      <td>213368</td>\n",
       "      <td>479957</td>\n",
       "      <td>610043</td>\n",
       "      <td>0</td>\n",
       "      <td>nt-bew</td>\n",
       "    </tr>\n",
       "    <tr>\n",
       "      <th>4</th>\n",
       "      <td>33597</td>\n",
       "      <td>78234</td>\n",
       "      <td>87223</td>\n",
       "      <td>0</td>\n",
       "      <td>nt-bhp</td>\n",
       "    </tr>\n",
       "    <tr>\n",
       "      <th>5</th>\n",
       "      <td>211169</td>\n",
       "      <td>474522</td>\n",
       "      <td>567920</td>\n",
       "      <td>0</td>\n",
       "      <td>nt-jav</td>\n",
       "    </tr>\n",
       "    <tr>\n",
       "      <th>6</th>\n",
       "      <td>215155</td>\n",
       "      <td>538931</td>\n",
       "      <td>604589</td>\n",
       "      <td>0</td>\n",
       "      <td>nt-mad</td>\n",
       "    </tr>\n",
       "    <tr>\n",
       "      <th>7</th>\n",
       "      <td>194351</td>\n",
       "      <td>543043</td>\n",
       "      <td>593848</td>\n",
       "      <td>0</td>\n",
       "      <td>nt-mak</td>\n",
       "    </tr>\n",
       "    <tr>\n",
       "      <th>8</th>\n",
       "      <td>214370</td>\n",
       "      <td>466615</td>\n",
       "      <td>578901</td>\n",
       "      <td>0</td>\n",
       "      <td>nt-min</td>\n",
       "    </tr>\n",
       "    <tr>\n",
       "      <th>9</th>\n",
       "      <td>37959</td>\n",
       "      <td>73366</td>\n",
       "      <td>97727</td>\n",
       "      <td>0</td>\n",
       "      <td>nt-mui</td>\n",
       "    </tr>\n",
       "    <tr>\n",
       "      <th>10</th>\n",
       "      <td>35069</td>\n",
       "      <td>92451</td>\n",
       "      <td>98891</td>\n",
       "      <td>0</td>\n",
       "      <td>nt-rej</td>\n",
       "    </tr>\n",
       "    <tr>\n",
       "      <th>11</th>\n",
       "      <td>212860</td>\n",
       "      <td>499946</td>\n",
       "      <td>590144</td>\n",
       "      <td>0</td>\n",
       "      <td>nt-sun</td>\n",
       "    </tr>\n",
       "    <tr>\n",
       "      <th>12</th>\n",
       "      <td>211169</td>\n",
       "      <td>474522</td>\n",
       "      <td>567920</td>\n",
       "      <td>0</td>\n",
       "      <td>nt-ind</td>\n",
       "    </tr>\n",
       "  </tbody>\n",
       "</table>\n",
       "</div>"
      ],
      "text/plain": [
       "    split_count  cendol_count  llama_count  unk_count        dset\n",
       "0         38880         56496       106644          0  flores-ind\n",
       "1         38336         71046        90340          0      nt-abs\n",
       "2        217281        493099       553066          0      nt-btk\n",
       "3        213368        479957       610043          0      nt-bew\n",
       "4         33597         78234        87223          0      nt-bhp\n",
       "5        211169        474522       567920          0      nt-jav\n",
       "6        215155        538931       604589          0      nt-mad\n",
       "7        194351        543043       593848          0      nt-mak\n",
       "8        214370        466615       578901          0      nt-min\n",
       "9         37959         73366        97727          0      nt-mui\n",
       "10        35069         92451        98891          0      nt-rej\n",
       "11       212860        499946       590144          0      nt-sun\n",
       "12       211169        474522       567920          0      nt-ind"
      ]
     },
     "execution_count": 37,
     "metadata": {},
     "output_type": "execute_result"
    }
   ],
   "source": [
    "import pandas as pd\n",
    "pd.DataFrame(stats).to_csv('cendol_efficiency.csv', index=False)\n",
    "pd.DataFrame(stats)"
   ]
  },
  {
   "cell_type": "code",
   "execution_count": null,
   "id": "64a089b8-f004-4d9b-ab7d-8d422906386f",
   "metadata": {},
   "outputs": [],
   "source": []
  }
 ],
 "metadata": {
  "kernelspec": {
   "display_name": "Python (env_indot0)",
   "language": "python",
   "name": "env_indot0"
  },
  "language_info": {
   "codemirror_mode": {
    "name": "ipython",
    "version": 3
   },
   "file_extension": ".py",
   "mimetype": "text/x-python",
   "name": "python",
   "nbconvert_exporter": "python",
   "pygments_lexer": "ipython3",
   "version": "3.10.12"
  }
 },
 "nbformat": 4,
 "nbformat_minor": 5
}
