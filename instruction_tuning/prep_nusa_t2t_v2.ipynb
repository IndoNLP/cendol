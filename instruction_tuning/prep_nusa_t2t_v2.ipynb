{
 "cells": [
  {
   "cell_type": "code",
   "execution_count": 1,
   "id": "0b247686-628a-4ab9-9bb6-bdcd7ddc6ae3",
   "metadata": {
    "tags": []
   },
   "outputs": [],
   "source": [
    "import pandas as pd\n",
    "import numpy as np\n",
    "import datasets"
   ]
  },
  {
   "cell_type": "code",
   "execution_count": 34,
   "id": "39fbc69e-f7a3-47eb-82b4-3217700a7c66",
   "metadata": {
    "tags": []
   },
   "outputs": [
    {
     "name": "stdout",
     "output_type": "stream",
     "text": [
      "Downloading and preparing dataset csv/indonlp--nusa_t2t to /home/scahyawijaya/.cache/huggingface/datasets/indonlp___csv/indonlp--nusa_t2t-9f34c86968dcf413/0.0.0/6954658bab30a358235fa864b05cf819af0e179325c740e4bc853bcc7ec513e1...\n"
     ]
    },
    {
     "data": {
      "application/vnd.jupyter.widget-view+json": {
       "model_id": "8e49a546270c4d709fb547bda7b35e81",
       "version_major": 2,
       "version_minor": 0
      },
      "text/plain": [
       "Downloading data files:   0%|          | 0/1 [00:00<?, ?it/s]"
      ]
     },
     "metadata": {},
     "output_type": "display_data"
    },
    {
     "data": {
      "application/vnd.jupyter.widget-view+json": {
       "model_id": "14661d2e66444ec8826b32035f118960",
       "version_major": 2,
       "version_minor": 0
      },
      "text/plain": [
       "Downloading data:   0%|          | 0.00/13.9G [00:00<?, ?B/s]"
      ]
     },
     "metadata": {},
     "output_type": "display_data"
    },
    {
     "data": {
      "application/vnd.jupyter.widget-view+json": {
       "model_id": "59681da371bf4a278da7720a7fbe7e98",
       "version_major": 2,
       "version_minor": 0
      },
      "text/plain": [
       "Downloading data:   0%|          | 0.00/9.29G [00:00<?, ?B/s]"
      ]
     },
     "metadata": {},
     "output_type": "display_data"
    },
    {
     "data": {
      "application/vnd.jupyter.widget-view+json": {
       "model_id": "4687980629ba479584bac8973cc1a912",
       "version_major": 2,
       "version_minor": 0
      },
      "text/plain": [
       "Extracting data files:   0%|          | 0/1 [00:00<?, ?it/s]"
      ]
     },
     "metadata": {},
     "output_type": "display_data"
    },
    {
     "data": {
      "application/vnd.jupyter.widget-view+json": {
       "model_id": "",
       "version_major": 2,
       "version_minor": 0
      },
      "text/plain": [
       "Generating train split: 0 examples [00:00, ? examples/s]"
      ]
     },
     "metadata": {},
     "output_type": "display_data"
    },
    {
     "name": "stdout",
     "output_type": "stream",
     "text": [
      "Dataset csv downloaded and prepared to /home/scahyawijaya/.cache/huggingface/datasets/indonlp___csv/indonlp--nusa_t2t-9f34c86968dcf413/0.0.0/6954658bab30a358235fa864b05cf819af0e179325c740e4bc853bcc7ec513e1. Subsequent calls will reuse this data.\n"
     ]
    },
    {
     "data": {
      "application/vnd.jupyter.widget-view+json": {
       "model_id": "c07bac58ea81413c839945be106895f5",
       "version_major": 2,
       "version_minor": 0
      },
      "text/plain": [
       "  0%|          | 0/1 [00:00<?, ?it/s]"
      ]
     },
     "metadata": {},
     "output_type": "display_data"
    }
   ],
   "source": [
    "dset = datasets.load_dataset('indonlp/nusa_t2t', 'train_t2t_data_v2.csv')"
   ]
  },
  {
   "cell_type": "code",
   "execution_count": 86,
   "id": "110fd238-3868-42b1-978a-aa36d8b3066c",
   "metadata": {
    "tags": []
   },
   "outputs": [
    {
     "data": {
      "application/vnd.jupyter.widget-view+json": {
       "model_id": "",
       "version_major": 2,
       "version_minor": 0
      },
      "text/plain": [
       "Filter:   0%|          | 0/41171900 [00:00<?, ? examples/s]"
      ]
     },
     "metadata": {},
     "output_type": "display_data"
    }
   ],
   "source": [
    "dset_v2 = dset['train'].filter(lambda ex: ex[\"dataset_name\"] == 'nusa_t2t_v2')\n",
    "df = dset_v2.to_pandas()\n",
    "df.groupby('subset_name').size()"
   ]
  },
  {
   "cell_type": "code",
   "execution_count": 100,
   "id": "b55f85b8-be33-4e95-ae60-544c02770c64",
   "metadata": {
    "tags": []
   },
   "outputs": [],
   "source": [
    "idf = pd.read_csv('v2_data/identity_prompt.csv')\n",
    "idf = idf.rename({'Prompt': 'input', 'Answer': 'output'}, axis='columns')\n",
    "idf['dataset_name'] = 'nusa_t2t_v2'\n",
    "idf['subset_name'] = 'identity_prompt'\n",
    "idf['prompt_id'] = 'identity_prompt'\n",
    "idf['template_name'] = 'identity_prompt'\n",
    "idf['dataset_key'] = 'identity_prompt'"
   ]
  },
  {
   "cell_type": "code",
   "execution_count": 105,
   "id": "5f7b69c9-1adf-4d63-bf93-454f93f7190a",
   "metadata": {
    "tags": []
   },
   "outputs": [],
   "source": [
    "ddf = pd.read_csv('v2_data/databricks-dolly-15k_mt_nllb-200-3.3B.csv')\n",
    "ddf['subset_name'] = 'dolly'"
   ]
  },
  {
   "cell_type": "code",
   "execution_count": 108,
   "id": "e49c4416-c021-4859-9505-e4433f341e0e",
   "metadata": {
    "tags": []
   },
   "outputs": [],
   "source": [
    "v2_df = pd.concat([df,idf, ddf])\n",
    "v2_df.groupby('subset_name').size().sort_values(ascending=False) / len(v2_df)"
   ]
  },
  {
   "cell_type": "code",
   "execution_count": 279,
   "id": "24d9bedd-ebab-44aa-a35d-cb90758e39d0",
   "metadata": {
    "tags": []
   },
   "outputs": [],
   "source": [
    "v2_dist_df = v2_df.groupby('subset_name').size().sort_values(ascending=False) / len(v2_df)\n",
    "sr_df = (v2_dist ** 0.5) / (v2_dist ** 0.5).sum()\n",
    "adj_sr_df= sr_df / v2_dist_df\n",
    "multiplier_df = np.ceil(adj_sr_df)"
   ]
  },
  {
   "cell_type": "code",
   "execution_count": 283,
   "id": "9b47a180-c22f-490e-86cf-326da53ae73b",
   "metadata": {
    "tags": []
   },
   "outputs": [],
   "source": [
    "dfs = []\n",
    "for name, multiplier in multiplier_df.items():\n",
    "    if multiplier < 1:\n",
    "        multiplier = 1\n",
    "    if name == 'identity_prompt':\n",
    "        multiplier = 1000\n",
    "    xdf = v2_df.loc[v2_df['subset_name'] == name]\n",
    "    dfs += [xdf for _ in range(int(multiplier))]\n",
    "adj_v2_df = pd.concat(dfs)"
   ]
  },
  {
   "cell_type": "code",
   "execution_count": 291,
   "id": "a94ba3b3-98d4-4d21-8144-b7e9d0964ff0",
   "metadata": {
    "tags": []
   },
   "outputs": [
    {
     "data": {
      "text/plain": [
       "subset_name\n",
       "wikipedia_id         0.368688\n",
       "wikipedia_min        0.173948\n",
       "wikipedia_ms         0.127253\n",
       "wikipedia_jv         0.068407\n",
       "wikipedia_su         0.056557\n",
       "indo_puisi           0.035102\n",
       "wikihow              0.029720\n",
       "wikipedia_ban        0.028180\n",
       "wikipedia_map-bms    0.023344\n",
       "wikipedia_gor        0.022625\n",
       "wikipedia_bjn        0.020260\n",
       "wikipedia_ace        0.012175\n",
       "dolly                0.010031\n",
       "identity_prompt      0.007593\n",
       "wikipedia_nia        0.007539\n",
       "wikipedia_tet        0.006617\n",
       "wikipedia_bug        0.001961\n",
       "dtype: float64"
      ]
     },
     "execution_count": 291,
     "metadata": {},
     "output_type": "execute_result"
    }
   ],
   "source": [
    "(adj_v2_df.groupby('subset_name').size() / len(adj_v2_df)).sort_values(ascending=False)"
   ]
  },
  {
   "cell_type": "code",
   "execution_count": null,
   "id": "281926d6-1565-4b0a-8c18-1b6d0220efb0",
   "metadata": {},
   "outputs": [],
   "source": []
  }
 ],
 "metadata": {
  "kernelspec": {
   "display_name": "Python 3 (ipykernel)",
   "language": "python",
   "name": "python3"
  },
  "language_info": {
   "codemirror_mode": {
    "name": "ipython",
    "version": 3
   },
   "file_extension": ".py",
   "mimetype": "text/x-python",
   "name": "python",
   "nbconvert_exporter": "python",
   "pygments_lexer": "ipython3",
   "version": "3.11.5"
  }
 },
 "nbformat": 4,
 "nbformat_minor": 5
}
