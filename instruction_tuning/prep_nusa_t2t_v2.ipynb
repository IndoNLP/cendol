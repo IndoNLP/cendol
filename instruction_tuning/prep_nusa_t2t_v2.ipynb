{
 "cells": [
  {
   "cell_type": "code",
   "execution_count": 1,
   "id": "06efc111",
   "metadata": {
    "tags": []
   },
   "outputs": [
    {
     "name": "stderr",
     "output_type": "stream",
     "text": [
      "/opt/conda/lib/python3.8/site-packages/tqdm/auto.py:22: TqdmWarning: IProgress not found. Please update jupyter and ipywidgets. See https://ipywidgets.readthedocs.io/en/stable/user_install.html\n",
      "  from .autonotebook import tqdm as notebook_tqdm\n"
     ]
    }
   ],
   "source": [
    "import pandas as pd\n",
    "import numpy as np\n",
    "import datasets"
   ]
  },
  {
   "cell_type": "code",
   "execution_count": 2,
   "id": "432fd94a",
   "metadata": {
    "scrolled": true,
    "tags": []
   },
   "outputs": [],
   "source": [
    "dset_v2 = datasets.load_dataset('indonlp/nusa_t2t', data_files='train_t2t_data_v2.csv')['train']"
   ]
  },
  {
   "cell_type": "code",
   "execution_count": 3,
   "id": "bed72ecd",
   "metadata": {
    "scrolled": true
   },
   "outputs": [],
   "source": [
    "nusa_paragraph_dset = datasets.load_dataset('indonlp/nusa_t2t', data_files='nusaparagraph_data.csv')['train']"
   ]
  },
  {
   "cell_type": "code",
   "execution_count": 17,
   "id": "9214c9c4",
   "metadata": {
    "tags": []
   },
   "outputs": [
    {
     "name": "stdout",
     "output_type": "stream",
     "text": [
      "CPU times: user 9.3 s, sys: 2.75 s, total: 12.1 s\n",
      "Wall time: 12 s\n"
     ]
    },
    {
     "data": {
      "text/plain": [
       "subset_name\n",
       "indo_puisi            144460\n",
       "wikihow                97848\n",
       "wikipedia_ace          22270\n",
       "wikipedia_ban          92778\n",
       "wikipedia_bjn          55585\n",
       "wikipedia_bug            633\n",
       "wikipedia_gor          62076\n",
       "wikipedia_id         6069267\n",
       "wikipedia_jv          375368\n",
       "wikipedia_map-bms      64048\n",
       "wikipedia_min        1431747\n",
       "wikipedia_ms         2094812\n",
       "wikipedia_nia           8865\n",
       "wikipedia_su          465517\n",
       "wikipedia_tet           7262\n",
       "dtype: int64"
      ]
     },
     "execution_count": 17,
     "metadata": {},
     "output_type": "execute_result"
    }
   ],
   "source": [
    "%%time\n",
    "df = dset_v2.to_pandas()\n",
    "df.groupby('subset_name').size()"
   ]
  },
  {
   "cell_type": "code",
   "execution_count": 10,
   "id": "5235af1b",
   "metadata": {
    "tags": []
   },
   "outputs": [],
   "source": [
    "idf = pd.read_csv('v2_data/identity_prompt.csv')\n",
    "idf = idf.rename({'Prompt': 'input', 'Answer': 'output'}, axis='columns')\n",
    "idf['dataset_name'] = 'nusa_t2t_v2'\n",
    "idf['subset_name'] = 'identity_prompt'\n",
    "idf['prompt_id'] = 'identity_prompt'\n",
    "idf['template_name'] = 'identity_prompt'\n",
    "idf['dataset_key'] = 'identity_prompt'\n",
    "\n",
    "# Upsampling\n",
    "idf = idf.loc[np.repeat(idf.index, 500)].reset_index(drop=True)"
   ]
  },
  {
   "cell_type": "code",
   "execution_count": 11,
   "id": "cfa3832e",
   "metadata": {},
   "outputs": [],
   "source": [
    "sdf = pd.read_csv('v2_data/safety_prompt.csv')\n",
    "sdf = sdf.rename({'Prompt': 'input', 'Answer': 'output'}, axis='columns')\n",
    "sdf['dataset_name'] = 'nusa_t2t_v2'\n",
    "sdf['subset_name'] = 'safety_prompt'\n",
    "sdf['prompt_id'] = 'safety_prompt'\n",
    "sdf['template_name'] = 'safety_prompt'\n",
    "sdf['dataset_key'] = 'safety_prompt'\n",
    "\n",
    "# Upsampling\n",
    "sdf = sdf.loc[np.repeat(sdf.index, 500)].reset_index(drop=True)"
   ]
  },
  {
   "cell_type": "code",
   "execution_count": 12,
   "id": "f4acfa1e",
   "metadata": {
    "tags": []
   },
   "outputs": [],
   "source": [
    "ddf = pd.read_csv('v2_data/databricks-dolly-15k_mt_nllb-200-3.3B.csv')\n",
    "ddf['subset_name'] = 'dolly'\n",
    "\n",
    "# Upsampling\n",
    "ddf = ddf.loc[np.repeat(ddf.index, 5)].reset_index(drop=True)"
   ]
  },
  {
   "cell_type": "code",
   "execution_count": 24,
   "id": "984ca752",
   "metadata": {},
   "outputs": [
    {
     "data": {
      "text/plain": [
       "((93500, 7), (62500, 7), (75055, 7), 10992536, 1586799)"
      ]
     },
     "execution_count": 24,
     "metadata": {},
     "output_type": "execute_result"
    }
   ],
   "source": [
    "sdf.shape, idf.shape, ddf.shape, len(dset_v2), len(nusa_paragraph_dset)"
   ]
  },
  {
   "cell_type": "code",
   "execution_count": 25,
   "id": "b2a47680",
   "metadata": {},
   "outputs": [],
   "source": [
    "dset_v2_aug = datasets.concatenate_datasets([\n",
    "    dset_v2, nusa_paragraph_dset,\n",
    "    datasets.Dataset.from_pandas(sdf), \n",
    "    datasets.Dataset.from_pandas(idf), \n",
    "    datasets.Dataset.from_pandas(ddf)\n",
    "])"
   ]
  },
  {
   "cell_type": "code",
   "execution_count": 27,
   "id": "c23cfc36",
   "metadata": {},
   "outputs": [
    {
     "name": "stderr",
     "output_type": "stream",
     "text": [
      "Saving the dataset (23/23 shards): 100%|██████████| 12810390/12810390 [00:12<00:00, 1067305.45 examples/s]\n"
     ]
    }
   ],
   "source": [
    "dset_v2_aug.save_to_disk('./cache/dset_v2_aug')"
   ]
  },
  {
   "cell_type": "code",
   "execution_count": 5,
   "id": "c2b171b5",
   "metadata": {},
   "outputs": [],
   "source": [
    "dset_v2_aug = datasets.load_from_disk('./cache/dset_v2_aug')"
   ]
  },
  {
   "cell_type": "code",
   "execution_count": 7,
   "id": "17fbc65a",
   "metadata": {},
   "outputs": [
    {
     "data": {
      "text/plain": [
       "Dataset({\n",
       "    features: ['dataset_name', 'subset_name', 'prompt_id', 'template_name', 'dataset_key', 'input', 'output'],\n",
       "    num_rows: 12810390\n",
       "})"
      ]
     },
     "execution_count": 7,
     "metadata": {},
     "output_type": "execute_result"
    }
   ],
   "source": [
    "dset_v2_aug"
   ]
  },
  {
   "cell_type": "code",
   "execution_count": null,
   "id": "5fb86aa0",
   "metadata": {},
   "outputs": [
    {
     "name": "stderr",
     "output_type": "stream",
     "text": [
      "Uploading the dataset shards:   0%|          | 0/23 [00:00<?, ?it/s]\n",
      "Creating parquet from Arrow format:   0%|          | 0/557 [00:00<?, ?ba/s]\u001b[A\n",
      "Creating parquet from Arrow format:   3%|▎         | 18/557 [00:00<00:03, 172.63ba/s]\u001b[A\n",
      "Creating parquet from Arrow format:   9%|▊         | 48/557 [00:00<00:02, 245.75ba/s]\u001b[A\n",
      "Creating parquet from Arrow format:  15%|█▍        | 81/557 [00:00<00:01, 280.89ba/s]\u001b[A\n",
      "Creating parquet from Arrow format:  20%|██        | 113/557 [00:00<00:01, 294.35ba/s]\u001b[A\n",
      "Creating parquet from Arrow format:  26%|██▌       | 145/557 [00:00<00:01, 302.82ba/s]\u001b[A\n",
      "Creating parquet from Arrow format:  36%|███▌      | 199/557 [00:00<00:00, 382.56ba/s]\u001b[A\n",
      "Creating parquet from Arrow format:  47%|████▋     | 260/557 [00:00<00:00, 456.20ba/s]\u001b[A\n",
      "Creating parquet from Arrow format:  61%|██████    | 339/557 [00:00<00:00, 561.65ba/s]\u001b[A\n",
      "Creating parquet from Arrow format:  76%|███████▌  | 424/557 [00:00<00:00, 650.39ba/s]\u001b[A\n",
      "Creating parquet from Arrow format: 100%|██████████| 557/557 [00:01<00:00, 498.88ba/s]\u001b[A\n",
      "Uploading the dataset shards:   4%|▍         | 1/23 [00:27<10:06, 27.59s/it]\n",
      "Creating parquet from Arrow format:   0%|          | 0/557 [00:00<?, ?ba/s]\u001b[A\n",
      "Creating parquet from Arrow format:   2%|▏         | 10/557 [00:00<00:05, 96.79ba/s]\u001b[A\n",
      "Creating parquet from Arrow format:   9%|▉         | 50/557 [00:00<00:01, 271.64ba/s]\u001b[A\n",
      "Creating parquet from Arrow format:  17%|█▋        | 97/557 [00:00<00:01, 359.17ba/s]\u001b[A\n",
      "Creating parquet from Arrow format:  26%|██▋       | 147/557 [00:00<00:00, 411.55ba/s]\u001b[A\n",
      "Creating parquet from Arrow format:  35%|███▍      | 193/557 [00:00<00:00, 426.12ba/s]\u001b[A\n",
      "Creating parquet from Arrow format:  44%|████▎     | 243/557 [00:00<00:00, 449.12ba/s]\u001b[A\n",
      "Creating parquet from Arrow format:  52%|█████▏    | 292/557 [00:00<00:00, 459.20ba/s]\u001b[A\n",
      "Creating parquet from Arrow format:  62%|██████▏   | 345/557 [00:00<00:00, 480.17ba/s]\u001b[A\n",
      "Creating parquet from Arrow format:  72%|███████▏  | 399/557 [00:00<00:00, 498.47ba/s]\u001b[A\n",
      "Creating parquet from Arrow format:  82%|████████▏ | 455/557 [00:01<00:00, 515.45ba/s]\u001b[A\n",
      "Creating parquet from Arrow format: 100%|██████████| 557/557 [00:01<00:00, 472.03ba/s]\u001b[A\n",
      "Uploading the dataset shards:   9%|▊         | 2/23 [00:42<07:02, 20.10s/it]\n",
      "Creating parquet from Arrow format:   0%|          | 0/557 [00:00<?, ?ba/s]\u001b[A\n",
      "Creating parquet from Arrow format:   3%|▎         | 18/557 [00:00<00:03, 174.93ba/s]\u001b[A\n",
      "Creating parquet from Arrow format:  13%|█▎        | 73/557 [00:00<00:01, 392.37ba/s]\u001b[A\n",
      "Creating parquet from Arrow format:  24%|██▎       | 132/557 [00:00<00:00, 478.81ba/s]\u001b[A\n",
      "Creating parquet from Arrow format:  36%|███▌      | 198/557 [00:00<00:00, 548.99ba/s]\u001b[A\n",
      "Creating parquet from Arrow format:  46%|████▌     | 256/557 [00:00<00:00, 557.87ba/s]\u001b[A\n",
      "Creating parquet from Arrow format:  56%|█████▌    | 312/557 [00:00<00:00, 555.06ba/s]\u001b[A\n",
      "Creating parquet from Arrow format:  66%|██████▋   | 370/557 [00:00<00:00, 560.69ba/s]\u001b[A\n",
      "Creating parquet from Arrow format:  78%|███████▊  | 433/557 [00:00<00:00, 580.20ba/s]\u001b[A\n",
      "Creating parquet from Arrow format:  89%|████████▉ | 496/557 [00:00<00:00, 595.35ba/s]\u001b[A\n",
      "Creating parquet from Arrow format: 100%|██████████| 557/557 [00:01<00:00, 547.87ba/s]\u001b[A\n",
      "Uploading the dataset shards:  13%|█▎        | 3/23 [00:53<05:23, 16.16s/it]\n",
      "Creating parquet from Arrow format:   0%|          | 0/557 [00:00<?, ?ba/s]\u001b[A\n",
      "Creating parquet from Arrow format:   3%|▎         | 15/557 [00:00<00:03, 138.00ba/s]\u001b[A\n",
      "Creating parquet from Arrow format:  14%|█▍        | 77/557 [00:00<00:01, 407.71ba/s]\u001b[A\n",
      "Creating parquet from Arrow format:  25%|██▍       | 139/557 [00:00<00:00, 499.12ba/s]\u001b[A\n",
      "Creating parquet from Arrow format:  37%|███▋      | 206/557 [00:00<00:00, 561.52ba/s]\u001b[A\n",
      "Creating parquet from Arrow format:  48%|████▊     | 268/557 [00:00<00:00, 582.22ba/s]\u001b[A\n",
      "Creating parquet from Arrow format:  60%|█████▉    | 333/557 [00:00<00:00, 602.75ba/s]\u001b[A\n",
      "Creating parquet from Arrow format:  71%|███████▏  | 397/557 [00:00<00:00, 612.81ba/s]\u001b[A\n",
      "Creating parquet from Arrow format:  83%|████████▎ | 463/557 [00:00<00:00, 625.71ba/s]\u001b[A\n",
      "Creating parquet from Arrow format: 100%|██████████| 557/557 [00:00<00:00, 591.89ba/s]\u001b[A\n"
     ]
    }
   ],
   "source": [
    "dset_v2_aug.push_to_hub('indonlp/nusa_t2t_v2')"
   ]
  },
  {
   "cell_type": "markdown",
   "id": "95bc710f",
   "metadata": {},
   "source": [
    "## XLM Style Resampling (We don't use it)"
   ]
  },
  {
   "cell_type": "code",
   "execution_count": 108,
   "id": "63299d4c",
   "metadata": {
    "tags": []
   },
   "outputs": [],
   "source": [
    "v2_df = pd.concat([df,idf, ddf])\n",
    "v2_df.groupby('subset_name').size().sort_values(ascending=False) / len(v2_df)"
   ]
  },
  {
   "cell_type": "code",
   "execution_count": 279,
   "id": "2b9aa947",
   "metadata": {
    "tags": []
   },
   "outputs": [],
   "source": [
    "v2_dist_df = v2_df.groupby('subset_name').size().sort_values(ascending=False) / len(v2_df)\n",
    "sr_df = (v2_dist ** 0.5) / (v2_dist ** 0.5).sum()\n",
    "adj_sr_df= sr_df / v2_dist_df\n",
    "multiplier_df = np.ceil(adj_sr_df)"
   ]
  },
  {
   "cell_type": "code",
   "execution_count": 283,
   "id": "d7084e27",
   "metadata": {
    "tags": []
   },
   "outputs": [],
   "source": [
    "dfs = []\n",
    "for name, multiplier in multiplier_df.items():\n",
    "    if multiplier < 1:\n",
    "        multiplier = 1\n",
    "    if name == 'identity_prompt':\n",
    "        multiplier = 1000\n",
    "    xdf = v2_df.loc[v2_df['subset_name'] == name]\n",
    "    dfs += [xdf for _ in range(int(multiplier))]\n",
    "adj_v2_df = pd.concat(dfs)"
   ]
  },
  {
   "cell_type": "code",
   "execution_count": 291,
   "id": "a00e50b0",
   "metadata": {
    "tags": []
   },
   "outputs": [
    {
     "data": {
      "text/plain": [
       "subset_name\n",
       "wikipedia_id         0.368688\n",
       "wikipedia_min        0.173948\n",
       "wikipedia_ms         0.127253\n",
       "wikipedia_jv         0.068407\n",
       "wikipedia_su         0.056557\n",
       "indo_puisi           0.035102\n",
       "wikihow              0.029720\n",
       "wikipedia_ban        0.028180\n",
       "wikipedia_map-bms    0.023344\n",
       "wikipedia_gor        0.022625\n",
       "wikipedia_bjn        0.020260\n",
       "wikipedia_ace        0.012175\n",
       "dolly                0.010031\n",
       "identity_prompt      0.007593\n",
       "wikipedia_nia        0.007539\n",
       "wikipedia_tet        0.006617\n",
       "wikipedia_bug        0.001961\n",
       "dtype: float64"
      ]
     },
     "execution_count": 291,
     "metadata": {},
     "output_type": "execute_result"
    }
   ],
   "source": [
    "(adj_v2_df.groupby('subset_name').size() / len(adj_v2_df)).sort_values(ascending=False)"
   ]
  },
  {
   "cell_type": "code",
   "execution_count": null,
   "id": "e8f5c472",
   "metadata": {},
   "outputs": [],
   "source": []
  }
 ],
 "metadata": {
  "kernelspec": {
   "display_name": "Python 3 (ipykernel)",
   "language": "python",
   "name": "python3"
  },
  "language_info": {
   "codemirror_mode": {
    "name": "ipython",
    "version": 3
   },
   "file_extension": ".py",
   "mimetype": "text/x-python",
   "name": "python",
   "nbconvert_exporter": "python",
   "pygments_lexer": "ipython3",
   "version": "3.8.13"
  }
 },
 "nbformat": 4,
 "nbformat_minor": 5
}
