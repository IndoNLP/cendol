{
 "cells": [
  {
   "cell_type": "markdown",
   "metadata": {},
   "source": [
    "# Load nusacrowd dataset"
   ]
  },
  {
   "cell_type": "code",
   "execution_count": 2,
   "metadata": {},
   "outputs": [
    {
     "name": "stderr",
     "output_type": "stream",
     "text": [
      "No config specified, defaulting to: ty_di_qa_id_dataset/tydiqa_id_source\n",
      "Reusing dataset ty_di_qa_id_dataset (/home/nuurshadieq/.cache/huggingface/datasets/ty_di_qa_id_dataset/tydiqa_id_source/1.0.0/77be91de4a88147f2b8ff9e6c1d376d01d26f9b51dd36f775a5607518c034111)\n"
     ]
    },
    {
     "data": {
      "application/vnd.jupyter.widget-view+json": {
       "model_id": "63d47a7dc8d845a8a753d4f9654828b7",
       "version_major": 2,
       "version_minor": 0
      },
      "text/plain": [
       "  0%|          | 0/3 [00:00<?, ?it/s]"
      ]
     },
     "metadata": {},
     "output_type": "display_data"
    },
    {
     "name": "stdout",
     "output_type": "stream",
     "text": [
      "                                      id  \\\n",
      "0       indonesian-3276942661834849618-0   \n",
      "1      indonesian--3490295784041838171-0   \n",
      "2      indonesian--2869524876687282800-0   \n",
      "3      indonesian-1013703000028717705-17   \n",
      "4      indonesian--7079279670194229764-5   \n",
      "...                                  ...   \n",
      "4842    indonesian-3354489857280357121-1   \n",
      "4843     indonesian-694134937295158366-9   \n",
      "4844  indonesian--9013209943547957042-15   \n",
      "4845    indonesian-6449493724670395659-0   \n",
      "4846   indonesian--8209562410461040997-0   \n",
      "\n",
      "                                                context  \\\n",
      "0     \"Hotel California\" adalah judul lagu dari albu...   \n",
      "1     Shekel baru Israel (Hebrew: שקל חדש‎, Shekel Ḥ...   \n",
      "2     Harry Potter adalah seri tujuh novel fantasi y...   \n",
      "3     UU 44/1999 tentang Penyelenggaraan Keistimewaa...   \n",
      "4     Dikenal ada 3 versi tentang kelahiran Arya Wir...   \n",
      "...                                                 ...   \n",
      "4842  Sejarah tabel periodik mencerminkan perkembang...   \n",
      "4843  Bosnia merupakan salah satu negara paling mult...   \n",
      "4844  Pada tanggal 28 September 1945, pembacaan pern...   \n",
      "4845  Pencak silat atau silat adalah suatu seni bela...   \n",
      "4846  Kaisar Tang Gaozu (Hanzi: 唐高祖, 566-26 Juni 635...   \n",
      "\n",
      "                                           question                label  \n",
      "0                 Siapakah vokali Hotel California?               Henley  \n",
      "1                     apakah nama mata uang Israel?               Shekel  \n",
      "2             Siapakah pencipta novel Harry Potter?        J. K. Rowling  \n",
      "3     Kapan Aceh diangkat menjadi daerah Istimewa ?                 1999  \n",
      "4                        Kapan Aria Wiraraja lahir?          1232 Masehi  \n",
      "...                                             ...                  ...  \n",
      "4842            Siapa yang menyusun tabel periodik?     Dmitri Mendeleev  \n",
      "4843                   apakah nama ibukota Bosnia ?             Sarajevo  \n",
      "4844       Kapan PT Kereta api Indonesia  berdiri ?    28 September 1945  \n",
      "4845           Dari manakah asal dunia persilatan ?  Kepulauan Nusantara  \n",
      "4846       Kapan Kaisar Tang Gaozu mulai menjabat ?                  618  \n",
      "\n",
      "[4847 rows x 4 columns]\n"
     ]
    }
   ],
   "source": [
    "from datasets import load_dataset\n",
    "\n",
    "path = \"nusa-crowd/nusacrowd/nusa_datasets/tydiqa_id\"\n",
    "dataset = load_dataset(path)\n",
    "\n",
    "# see dataset sample:\n",
    "print(dataset['train'].to_pandas())\n"
   ]
  },
  {
   "cell_type": "code",
   "execution_count": 3,
   "metadata": {},
   "outputs": [
    {
     "ename": "AttributeError",
     "evalue": "'NoneType' object has no attribute 'name'",
     "output_type": "error",
     "traceback": [
      "\u001b[0;31m---------------------------------------------------------------------------\u001b[0m",
      "\u001b[0;31mAttributeError\u001b[0m                            Traceback (most recent call last)",
      "\u001b[0;32m<ipython-input-3-fa7e01a483c3>\u001b[0m in \u001b[0;36m<module>\u001b[0;34m()\u001b[0m\n\u001b[1;32m      1\u001b[0m \u001b[0mpath\u001b[0m \u001b[0;34m=\u001b[0m \u001b[0;34m\"nusa-crowd/nusacrowd/nusa_datasets/nusax_mt\"\u001b[0m\u001b[0;34m\u001b[0m\u001b[0;34m\u001b[0m\u001b[0m\n\u001b[0;32m----> 2\u001b[0;31m \u001b[0mdataset\u001b[0m \u001b[0;34m=\u001b[0m \u001b[0mload_dataset\u001b[0m\u001b[0;34m(\u001b[0m\u001b[0mpath\u001b[0m\u001b[0;34m)\u001b[0m\u001b[0;34m\u001b[0m\u001b[0;34m\u001b[0m\u001b[0m\n\u001b[0m\u001b[1;32m      3\u001b[0m \u001b[0;34m\u001b[0m\u001b[0m\n\u001b[1;32m      4\u001b[0m \u001b[0;31m# see dataset sample:\u001b[0m\u001b[0;34m\u001b[0m\u001b[0;34m\u001b[0m\u001b[0;34m\u001b[0m\u001b[0m\n\u001b[1;32m      5\u001b[0m \u001b[0mprint\u001b[0m\u001b[0;34m(\u001b[0m\u001b[0mdataset\u001b[0m\u001b[0;34m[\u001b[0m\u001b[0;34m'train'\u001b[0m\u001b[0;34m]\u001b[0m\u001b[0;34m.\u001b[0m\u001b[0mto_pandas\u001b[0m\u001b[0;34m(\u001b[0m\u001b[0;34m)\u001b[0m\u001b[0;34m)\u001b[0m\u001b[0;34m\u001b[0m\u001b[0;34m\u001b[0m\u001b[0m\n",
      "\u001b[0;32m/opt/conda/envs/prompt_source/lib/python3.7/site-packages/datasets/load.py\u001b[0m in \u001b[0;36mload_dataset\u001b[0;34m(path, name, data_dir, data_files, split, cache_dir, features, download_config, download_mode, ignore_verifications, keep_in_memory, save_infos, revision, use_auth_token, task, streaming, **config_kwargs)\u001b[0m\n\u001b[1;32m   1713\u001b[0m         \u001b[0mrevision\u001b[0m\u001b[0;34m=\u001b[0m\u001b[0mrevision\u001b[0m\u001b[0;34m,\u001b[0m\u001b[0;34m\u001b[0m\u001b[0;34m\u001b[0m\u001b[0m\n\u001b[1;32m   1714\u001b[0m         \u001b[0muse_auth_token\u001b[0m\u001b[0;34m=\u001b[0m\u001b[0muse_auth_token\u001b[0m\u001b[0;34m,\u001b[0m\u001b[0;34m\u001b[0m\u001b[0;34m\u001b[0m\u001b[0m\n\u001b[0;32m-> 1715\u001b[0;31m         \u001b[0;34m**\u001b[0m\u001b[0mconfig_kwargs\u001b[0m\u001b[0;34m,\u001b[0m\u001b[0;34m\u001b[0m\u001b[0;34m\u001b[0m\u001b[0m\n\u001b[0m\u001b[1;32m   1716\u001b[0m     )\n\u001b[1;32m   1717\u001b[0m \u001b[0;34m\u001b[0m\u001b[0m\n",
      "\u001b[0;32m/opt/conda/envs/prompt_source/lib/python3.7/site-packages/datasets/load.py\u001b[0m in \u001b[0;36mload_dataset_builder\u001b[0;34m(path, name, data_dir, data_files, cache_dir, features, download_config, download_mode, revision, use_auth_token, **config_kwargs)\u001b[0m\n\u001b[1;32m   1563\u001b[0m         \u001b[0muse_auth_token\u001b[0m\u001b[0;34m=\u001b[0m\u001b[0muse_auth_token\u001b[0m\u001b[0;34m,\u001b[0m\u001b[0;34m\u001b[0m\u001b[0;34m\u001b[0m\u001b[0m\n\u001b[1;32m   1564\u001b[0m         \u001b[0;34m**\u001b[0m\u001b[0mbuilder_kwargs\u001b[0m\u001b[0;34m,\u001b[0m\u001b[0;34m\u001b[0m\u001b[0;34m\u001b[0m\u001b[0m\n\u001b[0;32m-> 1565\u001b[0;31m         \u001b[0;34m**\u001b[0m\u001b[0mconfig_kwargs\u001b[0m\u001b[0;34m,\u001b[0m\u001b[0;34m\u001b[0m\u001b[0;34m\u001b[0m\u001b[0m\n\u001b[0m\u001b[1;32m   1566\u001b[0m     )\n\u001b[1;32m   1567\u001b[0m \u001b[0;34m\u001b[0m\u001b[0m\n",
      "\u001b[0;32m/opt/conda/envs/prompt_source/lib/python3.7/site-packages/datasets/builder.py\u001b[0m in \u001b[0;36m__init__\u001b[0;34m(self, writer_batch_size, *args, **kwargs)\u001b[0m\n\u001b[1;32m   1042\u001b[0m \u001b[0;34m\u001b[0m\u001b[0m\n\u001b[1;32m   1043\u001b[0m     \u001b[0;32mdef\u001b[0m \u001b[0m__init__\u001b[0m\u001b[0;34m(\u001b[0m\u001b[0mself\u001b[0m\u001b[0;34m,\u001b[0m \u001b[0;34m*\u001b[0m\u001b[0margs\u001b[0m\u001b[0;34m,\u001b[0m \u001b[0mwriter_batch_size\u001b[0m\u001b[0;34m=\u001b[0m\u001b[0;32mNone\u001b[0m\u001b[0;34m,\u001b[0m \u001b[0;34m**\u001b[0m\u001b[0mkwargs\u001b[0m\u001b[0;34m)\u001b[0m\u001b[0;34m:\u001b[0m\u001b[0;34m\u001b[0m\u001b[0;34m\u001b[0m\u001b[0m\n\u001b[0;32m-> 1044\u001b[0;31m         \u001b[0msuper\u001b[0m\u001b[0;34m(\u001b[0m\u001b[0;34m)\u001b[0m\u001b[0;34m.\u001b[0m\u001b[0m__init__\u001b[0m\u001b[0;34m(\u001b[0m\u001b[0;34m*\u001b[0m\u001b[0margs\u001b[0m\u001b[0;34m,\u001b[0m \u001b[0;34m**\u001b[0m\u001b[0mkwargs\u001b[0m\u001b[0;34m)\u001b[0m\u001b[0;34m\u001b[0m\u001b[0;34m\u001b[0m\u001b[0m\n\u001b[0m\u001b[1;32m   1045\u001b[0m         \u001b[0;31m# Batch size used by the ArrowWriter\u001b[0m\u001b[0;34m\u001b[0m\u001b[0;34m\u001b[0m\u001b[0;34m\u001b[0m\u001b[0m\n\u001b[1;32m   1046\u001b[0m         \u001b[0;31m# It defines the number of samples that are kept in memory before writing them\u001b[0m\u001b[0;34m\u001b[0m\u001b[0;34m\u001b[0m\u001b[0;34m\u001b[0m\u001b[0m\n",
      "\u001b[0;32m/opt/conda/envs/prompt_source/lib/python3.7/site-packages/datasets/builder.py\u001b[0m in \u001b[0;36m__init__\u001b[0;34m(self, cache_dir, name, hash, base_path, info, features, use_auth_token, repo_id, data_files, data_dir, **config_kwargs)\u001b[0m\n\u001b[1;32m    270\u001b[0m             \u001b[0mname\u001b[0m\u001b[0;34m,\u001b[0m\u001b[0;34m\u001b[0m\u001b[0;34m\u001b[0m\u001b[0m\n\u001b[1;32m    271\u001b[0m             \u001b[0mcustom_features\u001b[0m\u001b[0;34m=\u001b[0m\u001b[0mfeatures\u001b[0m\u001b[0;34m,\u001b[0m\u001b[0;34m\u001b[0m\u001b[0;34m\u001b[0m\u001b[0m\n\u001b[0;32m--> 272\u001b[0;31m             \u001b[0;34m**\u001b[0m\u001b[0mconfig_kwargs\u001b[0m\u001b[0;34m,\u001b[0m\u001b[0;34m\u001b[0m\u001b[0;34m\u001b[0m\u001b[0m\n\u001b[0m\u001b[1;32m    273\u001b[0m         )\n\u001b[1;32m    274\u001b[0m \u001b[0;34m\u001b[0m\u001b[0m\n",
      "\u001b[0;32m/opt/conda/envs/prompt_source/lib/python3.7/site-packages/datasets/builder.py\u001b[0m in \u001b[0;36m_create_builder_config\u001b[0;34m(self, name, custom_features, **config_kwargs)\u001b[0m\n\u001b[1;32m    345\u001b[0m             \u001b[0;32mif\u001b[0m \u001b[0mself\u001b[0m\u001b[0;34m.\u001b[0m\u001b[0mDEFAULT_CONFIG_NAME\u001b[0m \u001b[0;32mis\u001b[0m \u001b[0;32mnot\u001b[0m \u001b[0;32mNone\u001b[0m\u001b[0;34m:\u001b[0m\u001b[0;34m\u001b[0m\u001b[0;34m\u001b[0m\u001b[0m\n\u001b[1;32m    346\u001b[0m                 \u001b[0mbuilder_config\u001b[0m \u001b[0;34m=\u001b[0m \u001b[0mself\u001b[0m\u001b[0;34m.\u001b[0m\u001b[0mbuilder_configs\u001b[0m\u001b[0;34m.\u001b[0m\u001b[0mget\u001b[0m\u001b[0;34m(\u001b[0m\u001b[0mself\u001b[0m\u001b[0;34m.\u001b[0m\u001b[0mDEFAULT_CONFIG_NAME\u001b[0m\u001b[0;34m)\u001b[0m\u001b[0;34m\u001b[0m\u001b[0;34m\u001b[0m\u001b[0m\n\u001b[0;32m--> 347\u001b[0;31m                 \u001b[0mlogger\u001b[0m\u001b[0;34m.\u001b[0m\u001b[0mwarning\u001b[0m\u001b[0;34m(\u001b[0m\u001b[0;34mf\"No config specified, defaulting to: {self.name}/{builder_config.name}\"\u001b[0m\u001b[0;34m)\u001b[0m\u001b[0;34m\u001b[0m\u001b[0;34m\u001b[0m\u001b[0m\n\u001b[0m\u001b[1;32m    348\u001b[0m             \u001b[0;32melse\u001b[0m\u001b[0;34m:\u001b[0m\u001b[0;34m\u001b[0m\u001b[0;34m\u001b[0m\u001b[0m\n\u001b[1;32m    349\u001b[0m                 \u001b[0;32mif\u001b[0m \u001b[0mlen\u001b[0m\u001b[0;34m(\u001b[0m\u001b[0mself\u001b[0m\u001b[0;34m.\u001b[0m\u001b[0mBUILDER_CONFIGS\u001b[0m\u001b[0;34m)\u001b[0m \u001b[0;34m>\u001b[0m \u001b[0;36m1\u001b[0m\u001b[0;34m:\u001b[0m\u001b[0;34m\u001b[0m\u001b[0;34m\u001b[0m\u001b[0m\n",
      "\u001b[0;31mAttributeError\u001b[0m: 'NoneType' object has no attribute 'name'"
     ]
    }
   ],
   "source": [
    "path = \"nusa-crowd/nusacrowd/nusa_datasets/nusax_mt\"\n",
    "dataset = load_dataset(path)\n",
    "\n",
    "# see dataset sample:\n",
    "print(dataset['train'].to_pandas())"
   ]
  },
  {
   "cell_type": "code",
   "execution_count": 6,
   "metadata": {},
   "outputs": [
    {
     "data": {
      "text/plain": [
       "DatasetDict({\n",
       "    train: Dataset({\n",
       "        features: ['id', 'context', 'question', 'label'],\n",
       "        num_rows: 4847\n",
       "    })\n",
       "    validation: Dataset({\n",
       "        features: ['id', 'context', 'question', 'label'],\n",
       "        num_rows: 565\n",
       "    })\n",
       "    test: Dataset({\n",
       "        features: ['id', 'context', 'question', 'label'],\n",
       "        num_rows: 855\n",
       "    })\n",
       "})"
      ]
     },
     "execution_count": 6,
     "metadata": {},
     "output_type": "execute_result"
    }
   ],
   "source": [
    "dataset"
   ]
  },
  {
   "cell_type": "code",
   "execution_count": 1,
   "metadata": {},
   "outputs": [
    {
     "data": {
      "text/plain": [
       "['barasa',\n",
       " 'bible_en_id',\n",
       " 'bible_jv_id',\n",
       " 'bible_su_id',\n",
       " 'casa',\n",
       " 'cc100',\n",
       " 'cod',\n",
       " 'code_mixed_jv_id',\n",
       " 'covost2',\n",
       " 'cvss',\n",
       " 'emot',\n",
       " 'emotcmt',\n",
       " 'emotion_id_opinion',\n",
       " 'facqa',\n",
       " 'hoasa',\n",
       " 'id_abusive',\n",
       " 'id_abusive_news_comment',\n",
       " 'id_am2ico',\n",
       " 'id_clickbait',\n",
       " 'id_frog_story',\n",
       " 'id_google_play_review',\n",
       " 'id_hatespeech',\n",
       " 'id_hoax_news',\n",
       " 'id_hsd_nofaaulia',\n",
       " 'id_multilabel_hs',\n",
       " 'id_panl_bppt',\n",
       " 'id_qqp',\n",
       " 'id_short_answer_grading',\n",
       " 'id_stance',\n",
       " 'id_sts',\n",
       " 'id_wiki_parallel',\n",
       " 'identic',\n",
       " 'idk_mrc',\n",
       " 'idn_tagged_corpus_csui',\n",
       " 'imdb_jv',\n",
       " 'indo4b',\n",
       " 'indo4b_plus',\n",
       " 'indo_general_mt_en_id',\n",
       " 'indo_law',\n",
       " 'indo_puisi',\n",
       " 'indo_religious_mt_en_id',\n",
       " 'indocollex',\n",
       " 'indocoref',\n",
       " 'indolem_ner_ugm',\n",
       " 'indolem_nerui',\n",
       " 'indolem_ntp',\n",
       " 'indolem_sentiment',\n",
       " 'indolem_tweet_ordering',\n",
       " 'indolem_ud_id_gsd',\n",
       " 'indolem_ud_id_pud',\n",
       " 'indonli',\n",
       " 'indonlu_nergrit',\n",
       " 'indosum',\n",
       " 'indotacos',\n",
       " 'indspeech_digit_cdsr',\n",
       " 'indspeech_news_ethnicsr',\n",
       " 'indspeech_news_lvcsr',\n",
       " 'indspeech_news_tts',\n",
       " 'indspeech_newstra_ethnicsr',\n",
       " 'indspeech_teldialog_lvcsr',\n",
       " 'indspeech_teldialog_svcsr',\n",
       " 'inset_lexicon',\n",
       " 'jadi_ide',\n",
       " 'jv_id_asr',\n",
       " 'jv_id_tts',\n",
       " 'kamus_alay',\n",
       " 'karonese_sentiment',\n",
       " 'keps',\n",
       " 'kopi_cc',\n",
       " 'kopi_cc_news',\n",
       " 'kopi_nllb',\n",
       " 'korpus_nusantara',\n",
       " 'librivox_indonesia',\n",
       " 'liputan6',\n",
       " 'local_id_abusive',\n",
       " 'minangnlp_mt',\n",
       " 'multilexnorm',\n",
       " 'nergrit',\n",
       " 'nerp',\n",
       " 'netifier',\n",
       " 'news_en_id',\n",
       " 'nllb_seed',\n",
       " 'nusax_mt',\n",
       " 'nusax_senti',\n",
       " 'ojw',\n",
       " 'paracotta_id',\n",
       " 'parallel_su_id',\n",
       " 'pos_sun_mono',\n",
       " 'posp',\n",
       " 'sentiment_nathasa_review',\n",
       " 'singgalang',\n",
       " 'smsa',\n",
       " 'squad_id',\n",
       " 'stif_indonesia',\n",
       " 'su_emot',\n",
       " 'su_id_asr',\n",
       " 'su_id_tts',\n",
       " 'talpco',\n",
       " 'ted_en_id',\n",
       " 'term_a',\n",
       " 'tico_19',\n",
       " 'titml_idn',\n",
       " 'toxicity_200',\n",
       " 'tydiqa_id',\n",
       " 'ud_id_csui',\n",
       " 'unimorph_id',\n",
       " 'wikiann',\n",
       " 'wikilingua',\n",
       " 'wrete',\n",
       " 'x_fact',\n",
       " 'xcopa',\n",
       " 'xl_sum',\n",
       " 'xpersona_id',\n",
       " 'xsid']"
      ]
     },
     "execution_count": 1,
     "metadata": {},
     "output_type": "execute_result"
    }
   ],
   "source": [
    "from nusacrowd import NusantaraConfigHelper\n",
    "conhelps = NusantaraConfigHelper()\n",
    "conhelps.available_dataset_names"
   ]
  },
  {
   "cell_type": "code",
   "execution_count": 5,
   "metadata": {},
   "outputs": [
    {
     "name": "stderr",
     "output_type": "stream",
     "text": [
      "WARNING:datasets.builder:Reusing dataset nusa_xmt (/home/nuurshadieq/.cache/huggingface/datasets/nusa_xmt/nusax_mt_ace_ban_source/1.0.0/fbf7c378dc71d0f2e3616c8fe87d233936655fcdde5dd6b008240e55d71db59b)\n"
     ]
    },
    {
     "data": {
      "application/vnd.jupyter.widget-view+json": {
       "model_id": "f67d6377c98f4d07b7d3891780b9e3f0",
       "version_major": 2,
       "version_minor": 0
      },
      "text/plain": [
       "  0%|          | 0/3 [00:00<?, ?it/s]"
      ]
     },
     "metadata": {},
     "output_type": "display_data"
    },
    {
     "data": {
      "text/plain": [
       "DatasetDict({\n",
       "    train: Dataset({\n",
       "        features: ['id', 'text_1', 'text_2', 'text_1_name', 'text_2_name'],\n",
       "        num_rows: 500\n",
       "    })\n",
       "    validation: Dataset({\n",
       "        features: ['id', 'text_1', 'text_2', 'text_1_name', 'text_2_name'],\n",
       "        num_rows: 100\n",
       "    })\n",
       "    test: Dataset({\n",
       "        features: ['id', 'text_1', 'text_2', 'text_1_name', 'text_2_name'],\n",
       "        num_rows: 400\n",
       "    })\n",
       "})"
      ]
     },
     "execution_count": 5,
     "metadata": {},
     "output_type": "execute_result"
    }
   ],
   "source": [
    "smsa_dset = conhelps.filtered(lambda x: 'nusax_mt' in x.dataset_name)[0].load_dataset()\n",
    "smsa_dset"
   ]
  },
  {
   "cell_type": "code",
   "execution_count": null,
   "metadata": {},
   "outputs": [],
   "source": []
  },
  {
   "cell_type": "code",
   "execution_count": 6,
   "metadata": {},
   "outputs": [
    {
     "data": {
      "text/plain": [
       "{'id': '0',\n",
       " 'text_1': 'Neumeuseunang ngon neubayeue bacut-bacut angsuran 0% persen sampoe dua blah buleuen keu nyang bloe tiket kapai teureubang ngon keureutu kredit BNI!',\n",
       " 'text_2': 'Nikmati cicilan 0% kanti 12 bulan antuk pemesanan tiket pesawat air asia nganggen kartu kredit bni!',\n",
       " 'text_1_name': 'ace',\n",
       " 'text_2_name': 'ban'}"
      ]
     },
     "execution_count": 6,
     "metadata": {},
     "output_type": "execute_result"
    }
   ],
   "source": [
    "smsa_dset['train'][0]"
   ]
  },
  {
   "cell_type": "code",
   "execution_count": 7,
   "metadata": {},
   "outputs": [
    {
     "data": {
      "text/plain": [
       "{'id': '1',\n",
       " 'text_1': 'Kueh nyang dihidang peuingat lon masa dilee. Bandum moden kueh jameun, get dari beuntuk atawa rasa. Kuehjih mangat dan yum pih murah.',\n",
       " 'text_2': 'Jaje-jaje ne sane kasajiang ngaenang tiang bernostalgia. Makejang sakadi jaje jaman ipidan, uli penampilanne tur  rasa ne. Jajene jaan lan ajine mudah. ',\n",
       " 'text_1_name': 'ace',\n",
       " 'text_2_name': 'ban'}"
      ]
     },
     "execution_count": 7,
     "metadata": {},
     "output_type": "execute_result"
    }
   ],
   "source": [
    "smsa_dset['train'][1]\n"
   ]
  },
  {
   "cell_type": "markdown",
   "metadata": {},
   "source": [
    "# Test Created IndoPromptSource Template"
   ]
  },
  {
   "cell_type": "code",
   "execution_count": 18,
   "metadata": {},
   "outputs": [
    {
     "ename": "NameError",
     "evalue": "name 'example' is not defined",
     "output_type": "error",
     "traceback": [
      "\u001b[0;31m---------------------------------------------------------------------------\u001b[0m",
      "\u001b[0;31mNameError\u001b[0m                                 Traceback (most recent call last)",
      "\u001b[0;32m<ipython-input-18-9040363cbcc8>\u001b[0m in \u001b[0;36m<module>\u001b[0;34m()\u001b[0m\n\u001b[1;32m      2\u001b[0m \u001b[0mtydiqa_id_prompts\u001b[0m \u001b[0;34m=\u001b[0m \u001b[0mDatasetTemplates\u001b[0m\u001b[0;34m(\u001b[0m\u001b[0;34m\"tydiqa_id\"\u001b[0m\u001b[0;34m,\u001b[0m \u001b[0msubset_name\u001b[0m\u001b[0;34m=\u001b[0m\u001b[0;34m\"tydiqa_id_source\"\u001b[0m\u001b[0;34m)\u001b[0m\u001b[0;34m\u001b[0m\u001b[0;34m\u001b[0m\u001b[0m\n\u001b[1;32m      3\u001b[0m \u001b[0mprompt\u001b[0m \u001b[0;34m=\u001b[0m \u001b[0mtydiqa_id_prompts\u001b[0m\u001b[0;34m[\u001b[0m\u001b[0;34m\"extract_answer\"\u001b[0m\u001b[0;34m]\u001b[0m\u001b[0;34m\u001b[0m\u001b[0;34m\u001b[0m\u001b[0m\n\u001b[0;32m----> 4\u001b[0;31m \u001b[0mresult\u001b[0m \u001b[0;34m=\u001b[0m \u001b[0mprompt\u001b[0m\u001b[0;34m.\u001b[0m\u001b[0mapply\u001b[0m\u001b[0;34m(\u001b[0m\u001b[0mexample\u001b[0m\u001b[0;34m)\u001b[0m\u001b[0;34m\u001b[0m\u001b[0;34m\u001b[0m\u001b[0m\n\u001b[0m\u001b[1;32m      5\u001b[0m \u001b[0mprint\u001b[0m\u001b[0;34m(\u001b[0m\u001b[0;34m\"INPUT\"\u001b[0m\u001b[0;34m)\u001b[0m\u001b[0;34m\u001b[0m\u001b[0;34m\u001b[0m\u001b[0m\n\u001b[1;32m      6\u001b[0m \u001b[0mprint\u001b[0m\u001b[0;34m(\u001b[0m\u001b[0mresult\u001b[0m\u001b[0;34m[\u001b[0m\u001b[0;36m0\u001b[0m\u001b[0;34m]\u001b[0m\u001b[0;34m)\u001b[0m\u001b[0;34m\u001b[0m\u001b[0;34m\u001b[0m\u001b[0m\n",
      "\u001b[0;31mNameError\u001b[0m: name 'example' is not defined"
     ]
    }
   ],
   "source": [
    "from promptsource.templates import DatasetTemplates\n",
    "tydiqa_id_prompts = DatasetTemplates(\"tydiqa_id\", subset_name=\"tydiqa_id_source\")\n",
    "prompt = tydiqa_id_prompts[\"extract_answer\"]\n",
    "result = prompt.apply(example)\n",
    "print(\"INPUT\")\n",
    "print(result[0])\n",
    "\n",
    "print(\"\\n\")\n",
    "print(\"OUTPUT\")\n",
    "print(result[1])"
   ]
  },
  {
   "cell_type": "code",
   "execution_count": 15,
   "metadata": {},
   "outputs": [],
   "source": [
    "from promptsource.templates import DatasetTemplates\n",
    "tydiqa_id_prompts = DatasetTemplates(\"tydiqa_id\", subset_name=\"tydiqa_id_source\")\n"
   ]
  },
  {
   "cell_type": "code",
   "execution_count": 16,
   "metadata": {},
   "outputs": [],
   "source": [
    "prompt = tydiqa_id_prompts[\"extract_answer\"]\n"
   ]
  },
  {
   "cell_type": "code",
   "execution_count": 17,
   "metadata": {},
   "outputs": [
    {
     "data": {
      "text/plain": [
       "<promptsource.templates.Template at 0x7f2947064c90>"
      ]
     },
     "execution_count": 17,
     "metadata": {},
     "output_type": "execute_result"
    }
   ],
   "source": [
    "prompt."
   ]
  },
  {
   "cell_type": "code",
   "execution_count": 19,
   "metadata": {},
   "outputs": [
    {
     "name": "stderr",
     "output_type": "stream",
     "text": [
      "WARNING:datasets.builder:Reusing dataset ty_di_qa_id_dataset (/home/jupyter/.cache/huggingface/datasets/ty_di_qa_id_dataset/tydiqa_id_source/1.0.0/77be91de4a88147f2b8ff9e6c1d376d01d26f9b51dd36f775a5607518c034111)\n"
     ]
    },
    {
     "data": {
      "application/vnd.jupyter.widget-view+json": {
       "model_id": "db9db2e86c234975b6ace432bb9bb51e",
       "version_major": 2,
       "version_minor": 0
      },
      "text/plain": [
       "  0%|          | 0/3 [00:00<?, ?it/s]"
      ]
     },
     "metadata": {},
     "output_type": "display_data"
    }
   ],
   "source": [
    "tydiqa_id = conhelps.filtered(lambda x: 'tydiqa_id' in x.dataset_name)[0].load_dataset()\n"
   ]
  },
  {
   "cell_type": "code",
   "execution_count": 20,
   "metadata": {},
   "outputs": [
    {
     "data": {
      "text/plain": [
       "DatasetDict({\n",
       "    train: Dataset({\n",
       "        features: ['id', 'context', 'question', 'label'],\n",
       "        num_rows: 4847\n",
       "    })\n",
       "    validation: Dataset({\n",
       "        features: ['id', 'context', 'question', 'label'],\n",
       "        num_rows: 565\n",
       "    })\n",
       "    test: Dataset({\n",
       "        features: ['id', 'context', 'question', 'label'],\n",
       "        num_rows: 855\n",
       "    })\n",
       "})"
      ]
     },
     "execution_count": 20,
     "metadata": {},
     "output_type": "execute_result"
    }
   ],
   "source": [
    "tydiqa_id"
   ]
  },
  {
   "cell_type": "code",
   "execution_count": null,
   "metadata": {},
   "outputs": [],
   "source": []
  }
 ],
 "metadata": {
  "environment": {
   "kernel": "prompt_source",
   "name": "tf2-gpu.2-8.m106",
   "type": "gcloud",
   "uri": "gcr.io/deeplearning-platform-release/tf2-gpu.2-8:m106"
  },
  "kernelspec": {
   "display_name": "prompt_source",
   "language": "python",
   "name": "python3"
  },
  "language_info": {
   "codemirror_mode": {
    "name": "ipython",
    "version": 3
   },
   "file_extension": ".py",
   "mimetype": "text/x-python",
   "name": "python",
   "nbconvert_exporter": "python",
   "pygments_lexer": "ipython3",
   "version": "3.7.12"
  }
 },
 "nbformat": 4,
 "nbformat_minor": 4
}
