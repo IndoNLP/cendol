{
 "cells": [
  {
   "attachments": {},
   "cell_type": "markdown",
   "metadata": {},
   "source": [
    "# Load nusacrowd dataset"
   ]
  },
  {
   "cell_type": "code",
   "execution_count": 1,
   "metadata": {},
   "outputs": [
    {
     "name": "stderr",
     "output_type": "stream",
     "text": [
      "/home/emmanueldave/.local/lib/python3.8/site-packages/tqdm/auto.py:22: TqdmWarning: IProgress not found. Please update jupyter and ipywidgets. See https://ipywidgets.readthedocs.io/en/stable/user_install.html\n",
      "  from .autonotebook import tqdm as notebook_tqdm\n",
      "WARNING:datasets.builder:Reusing dataset ty_di_qa_id_dataset (/home/emmanueldave/.cache/huggingface/datasets/ty_di_qa_id_dataset/tydiqa_id_source/1.0.0/77be91de4a88147f2b8ff9e6c1d376d01d26f9b51dd36f775a5607518c034111)\n",
      "100%|██████████| 3/3 [00:00<00:00, 400.50it/s]"
     ]
    },
    {
     "name": "stdout",
     "output_type": "stream",
     "text": [
      "{'id': 'indonesian-3276942661834849618-0', 'context': '\"Hotel California\" adalah judul lagu dari album dengan nama yang sama karya Eagles dan dirilis sebagai singel pada bulan Februari 1977. Kredit penulisan untuk lagu dibagi oleh Don Felder, Don Henley dan Glenn Frey. Perekaman asli Eagles dari lagu ini menampilkan Henley menyanyikan vokal dan diakhiri dengan bagian diperpanjang dari interaksi gitar listrik antara Felder dan Joe Walsh.', 'question': 'Siapakah vokali Hotel California?', 'label': 'Henley'}\n"
     ]
    },
    {
     "name": "stderr",
     "output_type": "stream",
     "text": [
      "\n"
     ]
    }
   ],
   "source": [
    "from nusacrowd import NusantaraConfigHelper\n",
    "conhelps = NusantaraConfigHelper()\n",
    "tydiqa_id_dset = conhelps.filtered(lambda x: \"tydiqa_id\" in x.dataset_name and \"tydiqa_id_source\" in x.config.name)[0].load_dataset()\n",
    "example = tydiqa_id_dset[\"train\"][0]\n",
    "print(example)"
   ]
  },
  {
   "attachments": {},
   "cell_type": "markdown",
   "metadata": {},
   "source": [
    "# Test Created IndoPromtSource Template"
   ]
  },
  {
   "cell_type": "code",
   "execution_count": 2,
   "metadata": {},
   "outputs": [
    {
     "name": "stdout",
     "output_type": "stream",
     "text": [
      "INPUT\n",
      "Berdasarkan paragraf di bawah ini:\n",
      "\"Hotel California\" adalah judul lagu dari album dengan nama yang sama karya Eagles dan dirilis sebagai singel pada bulan Februari 1977. Kredit penulisan untuk lagu dibagi oleh Don Felder, Don Henley dan Glenn Frey. Perekaman asli Eagles dari lagu ini menampilkan Henley menyanyikan vokal dan diakhiri dengan bagian diperpanjang dari interaksi gitar listrik antara Felder dan Joe Walsh.\n",
      "\n",
      "Apakah jawaban dari pertanyaan: \n",
      "Siapakah vokali Hotel California?\n",
      "\n",
      "Jawaban:\n",
      "\n",
      "\n",
      "OUTPUT\n",
      "Henley\n"
     ]
    }
   ],
   "source": [
    "from promptsource.templates import DatasetTemplates\n",
    "tydiqa_id_prompts = DatasetTemplates(\"tydiqa_id\", subset_name=\"tydiqa_id_source\")\n",
    "prompt = tydiqa_id_prompts[\"extract_answer\"]\n",
    "result = prompt.apply(example)\n",
    "print(\"INPUT\")\n",
    "print(result[0])\n",
    "\n",
    "print(\"\\n\")\n",
    "print(\"OUTPUT\")\n",
    "print(result[1])"
   ]
  },
  {
   "cell_type": "code",
   "execution_count": null,
   "metadata": {},
   "outputs": [],
   "source": []
  }
 ],
 "metadata": {
  "kernelspec": {
   "display_name": "torch",
   "language": "python",
   "name": "torch"
  },
  "language_info": {
   "codemirror_mode": {
    "name": "ipython",
    "version": 3
   },
   "file_extension": ".py",
   "mimetype": "text/x-python",
   "name": "python",
   "nbconvert_exporter": "python",
   "pygments_lexer": "ipython3",
   "version": "3.8.10"
  },
  "orig_nbformat": 4
 },
 "nbformat": 4,
 "nbformat_minor": 2
}
