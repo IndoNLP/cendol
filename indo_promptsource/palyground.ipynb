{
 "cells": [
  {
   "cell_type": "code",
   "execution_count": null,
   "metadata": {},
   "outputs": [],
   "source": [
    "dataset_list = ['barasa', 'bible_en_id', 'bible_jv_id', 'bible_su_id', 'casa', 'cc100', 'cod', 'code_mixed_jv_id', 'covost2', 'cvss', 'emot', 'emotcmt', 'emotion_id_opinion', 'facqa', 'hoasa', 'id_abusive', 'id_abusive_news_comment', 'id_am2ico', 'id_clickbait', 'id_frog_story', 'id_google_play_review', 'id_hatespeech', 'id_hoax_news', 'id_hsd_nofaaulia', 'id_multilabel_hs', 'id_panl_bppt', 'id_qqp', 'id_short_answer_grading', 'id_stance', 'id_sts', 'id_wiki_parallel', 'identic', 'idk_mrc', 'idn_tagged_corpus_csui', 'imdb_jv', 'indo4b', 'indo4b_plus', 'indo_general_mt_en_id', 'indo_law', 'indo_puisi', 'indo_religious_mt_en_id', 'indocollex', 'indocoref', 'indolem_ner_ugm', 'indolem_nerui', 'indolem_ntp', 'indolem_sentiment', 'indolem_tweet_ordering', 'indolem_ud_id_gsd', 'indolem_ud_id_pud', 'indonli', 'indonlu_nergrit', 'indosum', 'indotacos', 'indspeech_digit_cdsr', 'indspeech_news_ethnicsr', 'indspeech_news_lvcsr', 'indspeech_news_tts', 'indspeech_newstra_ethnicsr', 'indspeech_teldialog_lvcsr', 'indspeech_teldialog_svcsr', 'inset_lexicon', 'jadi_ide', 'jv_id_asr', 'jv_id_tts', 'kamus_alay', 'karonese_sentiment', 'keps', 'kopi_cc', 'kopi_cc_news', 'kopi_nllb', 'korpus_nusantara', 'librivox_indonesia', 'liputan6', 'local_id_abusive', 'minangnlp_mt', 'multilexnorm', 'nergrit', 'nerp', 'netifier', 'news_en_id', 'nllb_seed', 'nusax_mt', 'nusax_senti', 'ojw', 'paracotta_id', 'parallel_su_id', 'pos_sun_mono', 'posp', 'sentiment_nathasa_review', 'singgalang', 'smsa', 'squad_id', 'stif_indonesia', 'su_emot', 'su_id_asr', 'su_id_tts', 'talpco', 'ted_en_id', 'term_a', 'tico_19', 'titml_idn', 'toxicity_200', 'tydiqa_id', 'ud_id_csui', 'unimorph_id', 'wikiann', 'wikilingua', 'wrete', 'x_fact', 'xcopa', 'xl_sum', 'xpersona_id', 'xsid']"
   ]
  },
  {
   "cell_type": "code",
   "execution_count": 1,
   "metadata": {},
   "outputs": [],
   "source": [
    "dataset_list = ['barasa', 'bible_en_id', 'bible_jv_id', 'bible_su_id', 'casa', 'cc100', 'cod', 'code_mixed_jv_id', 'covost2', 'cvss', 'emot', 'emotcmt', 'emotion_id_opinion', 'facqa', 'hoasa', 'id_abusive', 'id_abusive_news_comment', 'id_am2ico', 'id_clickbait', 'id_frog_story', 'id_google_play_review', 'id_hatespeech', 'id_hoax_news', 'id_hsd_nofaaulia', 'id_multilabel_hs', 'id_panl_bppt', 'id_qqp', 'id_short_answer_grading', 'id_stance', 'id_sts', 'id_wiki_parallel', 'identic', 'idk_mrc', 'idn_tagged_corpus_csui', 'imdb_jv', 'indo4b', 'indo4b_plus', 'indo_general_mt_en_id', 'indo_law', 'indo_puisi', 'indo_religious_mt_en_id', 'indocollex', 'indocoref', 'indolem_ner_ugm', 'indolem_nerui', 'indolem_ntp', 'indolem_sentiment', 'indolem_tweet_ordering', 'indolem_ud_id_gsd', 'indolem_ud_id_pud', 'indonli', 'indonlu_nergrit', 'indosum', 'indotacos', 'indspeech_digit_cdsr', 'indspeech_news_ethnicsr', 'indspeech_news_lvcsr', 'indspeech_news_tts', 'indspeech_newstra_ethnicsr', 'indspeech_teldialog_lvcsr', 'indspeech_teldialog_svcsr', 'inset_lexicon', 'jadi_ide', 'jv_id_asr', 'jv_id_tts', 'kamus_alay', 'karonese_sentiment', 'keps', 'kopi_cc', 'kopi_cc_news', 'kopi_nllb', 'korpus_nusantara', 'librivox_indonesia', 'liputan6', 'local_id_abusive', 'minangnlp_mt', 'multilexnorm', 'nergrit', 'nerp', 'netifier', 'news_en_id', 'nllb_seed', 'nusax_mt', 'nusax_senti', 'ojw', 'paracotta_id', 'parallel_su_id', 'pos_sun_mono', 'posp', 'sentiment_nathasa_review', 'singgalang', 'smsa', 'squad_id', 'stif_indonesia', 'su_emot', 'su_id_asr', 'su_id_tts', 'talpco', 'ted_en_id', 'term_a', 'tico_19', 'titml_idn', 'toxicity_200', 'tydiqa_id', 'ud_id_csui', 'unimorph_id', 'wikiann', 'wikilingua', 'wrete', 'x_fact', 'xcopa', 'xl_sum', 'xpersona_id', 'xsid']"
   ]
  },
  {
   "cell_type": "code",
   "execution_count": 3,
   "metadata": {},
   "outputs": [],
   "source": [
    "dataset_key = dataset_list.index(\"tydiqa_id\")"
   ]
  },
  {
   "cell_type": "code",
   "execution_count": 6,
   "metadata": {},
   "outputs": [],
   "source": [
    "from nusacrowd import NusantaraConfigHelper\n",
    "conhelps = NusantaraConfigHelper()"
   ]
  },
  {
   "cell_type": "code",
   "execution_count": 27,
   "metadata": {},
   "outputs": [
    {
     "name": "stderr",
     "output_type": "stream",
     "text": [
      "WARNING:datasets.builder:Reusing dataset smsa (/home/emmanueldave/.cache/huggingface/datasets/smsa/smsa_nusantara_text/1.0.0/75dac0cd43d6209d8adf37537e99e00ba3791bcc74250d08523137e992f351cb)\n",
      "100%|██████████| 3/3 [00:00<00:00, 40.69it/s]\n"
     ]
    }
   ],
   "source": [
    "smsa_dset = conhelps.filtered(lambda x: 'smsa' in x.dataset_name and \"nusantara_text\" in x.config.name)[0].load_dataset()"
   ]
  },
  {
   "cell_type": "code",
   "execution_count": 29,
   "metadata": {},
   "outputs": [
    {
     "data": {
      "text/plain": [
       "dict_keys(['train', 'validation', 'test'])"
      ]
     },
     "execution_count": 29,
     "metadata": {},
     "output_type": "execute_result"
    }
   ],
   "source": [
    "smsa_dset.keys()"
   ]
  },
  {
   "cell_type": "code",
   "execution_count": 25,
   "metadata": {},
   "outputs": [
    {
     "data": {
      "text/plain": [
       "NusantaraMetadata(script='/home/emmanueldave/.local/lib/python3.8/site-packages/nusacrowd/nusa_datasets/smsa/smsa.py', dataset_name='smsa', tasks=[<Tasks.SENTIMENT_ANALYSIS: 'SA'>], languages=['ind'], config=NusantaraConfig(name='smsa_source', version=1.0.0, data_dir=None, data_files=None, description='SMSA source schema', schema='source', subset_id='smsa'), is_local=False, is_nusantara_schema=False, nusantara_schema_caps=None, is_large=False, is_resource=False, is_default=True, is_broken=False, nusantara_version='1.0.0', source_version='1.0.0', citation='@INPROCEEDINGS{8904199,\\n    author={Purwarianti, Ayu and Crisdayanti, Ida Ayu Putu Ari},\\n    booktitle={2019 International Conference of Advanced Informatics: Concepts, Theory and Applications (ICAICTA)},\\n    title={Improving Bi-LSTM Performance for Indonesian Sentiment Analysis Using Paragraph Vector},\\n    year={2019},\\n    pages={1-5},\\n    doi={10.1109/ICAICTA.2019.8904199}\\n}\\n\\n@inproceedings{wilie2020indonlu,\\n  title={IndoNLU: Benchmark and Resources for Evaluating Indonesian Natural Language Understanding},\\n  author={Wilie, Bryan and Vincentio, Karissa and Winata, Genta Indra and Cahyawijaya, Samuel and Li, Xiaohong and Lim, Zhi Yuan and Soleman, Sidik and Mahendra, Rahmad and Fung, Pascale and Bahar, Syafri and others},\\n  booktitle={Proceedings of the 1st Conference of the Asia-Pacific Chapter of the Association for Computational Linguistics and the 10th International Joint Conference on Natural Language Processing},\\n  pages={843--857},\\n  year={2020}\\n}\\n', description='SmSA is a sentence-level sentiment analysis dataset (Purwarianti and Crisdayanti, 2019) is a collection of comments and reviews\\nin Indonesian obtained from multiple online platforms. The text was crawled and then annotated by several Indonesian linguists\\nto construct this dataset. There are three possible sentiments on the SmSA dataset: positive, negative, and neutral\\n', homepage='https://github.com/IndoNLP/indonlu', license='Creative Commons Attribution Share-Alike 4.0 International')"
      ]
     },
     "execution_count": 25,
     "metadata": {},
     "output_type": "execute_result"
    }
   ],
   "source": [
    "smsa_dset.for_config_name(\"smsa_source\")"
   ]
  },
  {
   "cell_type": "code",
   "execution_count": 31,
   "metadata": {},
   "outputs": [],
   "source": [
    "import ast\n",
    "from jinja2 import Environment\n",
    "\n",
    "def str_to_dict(value: str):\n",
    "    return ast.literal_eval(value)\n",
    "\n",
    "env = Environment()\n",
    "env.filters['str_to_dict'] = str_to_dict"
   ]
  },
  {
   "cell_type": "code",
   "execution_count": 32,
   "metadata": {},
   "outputs": [
    {
     "data": {
      "text/plain": [
       "<jinja2.environment.Environment at 0x7f29302f2220>"
      ]
     },
     "execution_count": 32,
     "metadata": {},
     "output_type": "execute_result"
    }
   ],
   "source": [
    "env"
   ]
  },
  {
   "cell_type": "code",
   "execution_count": null,
   "metadata": {},
   "outputs": [],
   "source": []
  }
 ],
 "metadata": {
  "kernelspec": {
   "display_name": "torch",
   "language": "python",
   "name": "torch"
  },
  "language_info": {
   "codemirror_mode": {
    "name": "ipython",
    "version": 3
   },
   "file_extension": ".py",
   "mimetype": "text/x-python",
   "name": "python",
   "nbconvert_exporter": "python",
   "pygments_lexer": "ipython3",
   "version": "3.8.10"
  },
  "orig_nbformat": 4
 },
 "nbformat": 4,
 "nbformat_minor": 2
}
