{
 "cells": [
  {
   "cell_type": "markdown",
   "id": "a4059df4-b2a9-435c-be46-5e88a4ad3083",
   "metadata": {
    "tags": []
   },
   "source": [
    "# Load Sample Dataset"
   ]
  },
  {
   "cell_type": "code",
   "execution_count": 16,
   "id": "5d974fc8-0f3a-4dcb-9908-7ef1c571902a",
   "metadata": {},
   "outputs": [
    {
     "name": "stderr",
     "output_type": "stream",
     "text": [
      "Using custom data configuration default\n",
      "Found cached dataset ag_news (/Users/wawan.cenggoro/.cache/huggingface/datasets/ag_news/default/0.0.0/bc2bcb40336ace1a0374767fc29bb0296cdaf8a6da7298436239c54d79180548)\n"
     ]
    },
    {
     "name": "stdout",
     "output_type": "stream",
     "text": [
      "{'text': 'Carlyle Looks Toward Commercial Aerospace (Reuters) Reuters - Private investment firm Carlyle Group,\\\\which has a reputation for making well-timed and occasionally\\\\controversial plays in the defense industry, has quietly placed\\\\its bets on another part of the market.', 'label': 2}\n"
     ]
    }
   ],
   "source": [
    "from datasets import load_dataset\n",
    "dataset = load_dataset(\"ag_news\", split=\"train\")\n",
    "example = dataset[1]\n",
    "print(example)"
   ]
  },
  {
   "cell_type": "markdown",
   "id": "c488ed68-e696-47c1-a523-a0de843b5d39",
   "metadata": {},
   "source": [
    "# Test Custom PromptSource"
   ]
  },
  {
   "cell_type": "code",
   "execution_count": 17,
   "id": "24a11613-8bee-458a-ae4b-cdbc749971e4",
   "metadata": {},
   "outputs": [
    {
     "name": "stdout",
     "output_type": "stream",
     "text": [
      "['What label best elaborates this news article?\\\\nCarlyle Looks Toward Commercial Aerospace (Reuters) Reuters - Private investment firm Carlyle Group,\\\\which has a reputation for making well-timed and occasionally\\\\controversial plays in the defense industry, has quietly placed\\\\its bets on another part of the market.', '\\\\nBisnis']\n"
     ]
    }
   ],
   "source": [
    "from promptsource.templates import DatasetTemplates\n",
    "ag_news_prompts = DatasetTemplates('ag_news_2')\n",
    "prompt = ag_news_prompts[\"classify_question_first\"]\n",
    "result = prompt.apply(example)\n",
    "print(result)"
   ]
  },
  {
   "cell_type": "code",
   "execution_count": null,
   "id": "49d12bce-c6d2-4a3b-8b97-9b274bf0135a",
   "metadata": {},
   "outputs": [],
   "source": []
  }
 ],
 "metadata": {
  "kernelspec": {
   "display_name": "Python 3 (ipykernel)",
   "language": "python",
   "name": "python3"
  },
  "language_info": {
   "codemirror_mode": {
    "name": "ipython",
    "version": 3
   },
   "file_extension": ".py",
   "mimetype": "text/x-python",
   "name": "python",
   "nbconvert_exporter": "python",
   "pygments_lexer": "ipython3",
   "version": "3.8.16"
  }
 },
 "nbformat": 4,
 "nbformat_minor": 5
}
