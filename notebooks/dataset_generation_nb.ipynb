{
 "cells": [
  {
   "cell_type": "code",
   "execution_count": 1,
   "metadata": {},
   "outputs": [],
   "source": [
    "from tqdm import tqdm\n",
    "import pandas as pd"
   ]
  },
  {
   "attachments": {},
   "cell_type": "markdown",
   "metadata": {},
   "source": [
    "# Load nusacrowd dataset"
   ]
  },
  {
   "cell_type": "code",
   "execution_count": 2,
   "metadata": {},
   "outputs": [
    {
     "name": "stderr",
     "output_type": "stream",
     "text": [
      "/home/emmanueldave/.local/lib/python3.8/site-packages/tqdm/auto.py:22: TqdmWarning: IProgress not found. Please update jupyter and ipywidgets. See https://ipywidgets.readthedocs.io/en/stable/user_install.html\n",
      "  from .autonotebook import tqdm as notebook_tqdm\n",
      "WARNING:datasets.builder:Reusing dataset ty_di_qa_id_dataset (/home/emmanueldave/.cache/huggingface/datasets/ty_di_qa_id_dataset/tydiqa_id_source/1.0.0/77be91de4a88147f2b8ff9e6c1d376d01d26f9b51dd36f775a5607518c034111)\n",
      "100%|██████████| 3/3 [00:00<00:00, 554.44it/s]"
     ]
    },
    {
     "name": "stdout",
     "output_type": "stream",
     "text": [
      "{'id': 'indonesian-3276942661834849618-0', 'context': '\"Hotel California\" adalah judul lagu dari album dengan nama yang sama karya Eagles dan dirilis sebagai singel pada bulan Februari 1977. Kredit penulisan untuk lagu dibagi oleh Don Felder, Don Henley dan Glenn Frey. Perekaman asli Eagles dari lagu ini menampilkan Henley menyanyikan vokal dan diakhiri dengan bagian diperpanjang dari interaksi gitar listrik antara Felder dan Joe Walsh.', 'question': 'Siapakah vokali Hotel California?', 'label': 'Henley'}\n"
     ]
    },
    {
     "name": "stderr",
     "output_type": "stream",
     "text": [
      "\n"
     ]
    }
   ],
   "source": [
    "from nusacrowd import NusantaraConfigHelper\n",
    "conhelps = NusantaraConfigHelper()\n",
    "tydiqa_id_dset = conhelps.filtered(lambda x: \"tydiqa_id\" in x.dataset_name and \"tydiqa_id_source\" in x.config.name)[0].load_dataset()\n",
    "example = tydiqa_id_dset[\"train\"][0]\n",
    "print(example)"
   ]
  },
  {
   "attachments": {},
   "cell_type": "markdown",
   "metadata": {},
   "source": [
    "# Test Created IndoPromptSource Template"
   ]
  },
  {
   "cell_type": "code",
   "execution_count": 3,
   "metadata": {},
   "outputs": [
    {
     "name": "stdout",
     "output_type": "stream",
     "text": [
      "INPUT\n",
      "Berdasarkan paragraf di bawah ini:\n",
      "\"Hotel California\" adalah judul lagu dari album dengan nama yang sama karya Eagles dan dirilis sebagai singel pada bulan Februari 1977. Kredit penulisan untuk lagu dibagi oleh Don Felder, Don Henley dan Glenn Frey. Perekaman asli Eagles dari lagu ini menampilkan Henley menyanyikan vokal dan diakhiri dengan bagian diperpanjang dari interaksi gitar listrik antara Felder dan Joe Walsh.\n",
      "\n",
      "Apakah jawaban dari pertanyaan: \n",
      "Siapakah vokali Hotel California?\n",
      "\n",
      "Jawaban:\n",
      "\n",
      "\n",
      "OUTPUT\n",
      "Henley\n"
     ]
    }
   ],
   "source": [
    "from promptsource.templates import DatasetTemplates\n",
    "tydiqa_id_prompts = DatasetTemplates(\"tydiqa_id\", subset_name=\"tydiqa_id_source\")\n",
    "prompt = tydiqa_id_prompts[\"extract_answer\"]\n",
    "result = prompt.apply(example)\n",
    "print(\"INPUT\")\n",
    "print(result[0])\n",
    "\n",
    "print(\"\\n\")\n",
    "print(\"OUTPUT\")\n",
    "print(result[1])"
   ]
  },
  {
   "cell_type": "markdown",
   "metadata": {},
   "source": [
    "# Full Pipeline"
   ]
  },
  {
   "cell_type": "code",
   "execution_count": 4,
   "metadata": {},
   "outputs": [],
   "source": [
    "from promptsource.templates import TemplateCollection\n",
    "collection = TemplateCollection()"
   ]
  },
  {
   "cell_type": "code",
   "execution_count": 5,
   "metadata": {},
   "outputs": [
    {
     "name": "stdout",
     "output_type": "stream",
     "text": [
      "82\n"
     ]
    }
   ],
   "source": [
    "nusa_templates = []\n",
    "for k in collection.datasets_templates:\n",
    "    if k is None or k[1] is None:\n",
    "        continue\n",
    "    \n",
    "    if \"nusa\" in k[1]:\n",
    "        nusa_templates.append(k)\n",
    "\n",
    "print(len(nusa_templates))"
   ]
  },
  {
   "cell_type": "code",
   "execution_count": 6,
   "metadata": {},
   "outputs": [],
   "source": [
    "import logging\n",
    "# Set up the logger\n",
    "logging.basicConfig(\n",
    "    level=logging.DEBUG,  # Set the desired logging level (DEBUG, INFO, WARNING, ERROR, CRITICAL)\n",
    "    format='%(asctime)s [%(levelname)s]: %(message)s',  # Customize the log message format\n",
    "    datefmt='%Y-%m-%d %H:%M:%S'  # Customize the date/time format\n",
    ")\n",
    "\n",
    "# Create a file handler to write logs into a file\n",
    "file_handler = logging.FileHandler('app.log')\n",
    "file_handler.setLevel(logging.DEBUG)  # Set the log level for the file handler\n",
    "\n",
    "# Create a formatter for the file handler (customize the log format for the file)\n",
    "file_formatter = logging.Formatter('%(asctime)s [%(levelname)s]: %(message)s', datefmt='%Y-%m-%d %H:%M:%S')\n",
    "file_handler.setFormatter(file_formatter)\n",
    "\n",
    "logger = logging.getLogger(\"IndoP3 Dataset Generation\")\n",
    "logger.addHandler(file_handler)"
   ]
  },
  {
   "cell_type": "code",
   "execution_count": 7,
   "metadata": {},
   "outputs": [
    {
     "name": "stderr",
     "output_type": "stream",
     "text": [
      "  0%|          | 0/82 [00:00<?, ?it/s]WARNING:datasets.builder:Reusing dataset nusa_xmt (/home/emmanueldave/.cache/huggingface/datasets/nusa_xmt/nusax_mt_ban_ind_source/1.0.0/fbf7c378dc71d0f2e3616c8fe87d233936655fcdde5dd6b008240e55d71db59b)\n",
      "100%|██████████| 3/3 [00:00<00:00, 506.35it/s]\n",
      "  1%|          | 1/82 [00:33<45:39, 33.82s/it]"
     ]
    },
    {
     "name": "stdout",
     "output_type": "stream",
     "text": [
      "df_.shape: (10000, 7)\n"
     ]
    },
    {
     "name": "stderr",
     "output_type": "stream",
     "text": [
      "WARNING:datasets.builder:Reusing dataset nusa_xmt (/home/emmanueldave/.cache/huggingface/datasets/nusa_xmt/nusax_mt_jav_ind_nusantara_t2t/1.0.0/fbf7c378dc71d0f2e3616c8fe87d233936655fcdde5dd6b008240e55d71db59b)\n",
      "100%|██████████| 3/3 [00:00<00:00, 359.27it/s]\n"
     ]
    },
    {
     "name": "stdout",
     "output_type": "stream",
     "text": [
      "df_.shape: (35000, 7)\n"
     ]
    },
    {
     "name": "stderr",
     "output_type": "stream",
     "text": [
      "  2%|▏         | 2/82 [01:55<1:22:35, 61.94s/it]WARNING:datasets.builder:Reusing dataset nusa_xmt (/home/emmanueldave/.cache/huggingface/datasets/nusa_xmt/nusax_mt_ind_bbc_nusantara_t2t/1.0.0/fbf7c378dc71d0f2e3616c8fe87d233936655fcdde5dd6b008240e55d71db59b)\n",
      "100%|██████████| 3/3 [00:00<00:00, 111.15it/s]\n"
     ]
    },
    {
     "name": "stdout",
     "output_type": "stream",
     "text": [
      "df_.shape: (45000, 7)\n"
     ]
    },
    {
     "name": "stderr",
     "output_type": "stream",
     "text": [
      "  4%|▎         | 3/82 [02:28<1:03:58, 48.59s/it]WARNING:datasets.builder:Reusing dataset nusa_xmt (/home/emmanueldave/.cache/huggingface/datasets/nusa_xmt/nusax_mt_ind_mad_nusantara_t2t/1.0.0/fbf7c378dc71d0f2e3616c8fe87d233936655fcdde5dd6b008240e55d71db59b)\n",
      "100%|██████████| 3/3 [00:00<00:00, 116.82it/s]\n"
     ]
    },
    {
     "name": "stdout",
     "output_type": "stream",
     "text": [
      "df_.shape: (55000, 7)\n"
     ]
    },
    {
     "name": "stderr",
     "output_type": "stream",
     "text": [
      "  5%|▍         | 4/82 [02:53<51:02, 39.26s/it]  WARNING:datasets.builder:Reusing dataset nusa_xmt (/home/emmanueldave/.cache/huggingface/datasets/nusa_xmt/nusax_mt_sun_ind_nusantara_t2t/1.0.0/fbf7c378dc71d0f2e3616c8fe87d233936655fcdde5dd6b008240e55d71db59b)\n",
      "100%|██████████| 3/3 [00:00<00:00, 126.92it/s]\n",
      "INFO:IndoP3 Dataset Generation:Output not available for {'dataset_name': 'nusax_mt', 'subset_name': 'nusax_mt_sun_ind_nusantara_t2t', 'prompt_id': '1b053ce2-f6ea-4f26-a759-25cce2cea8cd', 'template_name': 'nusax_mt / nusax_mt_sun_ind_nusantara_t2t_6', 'dataset_key': 'train'}.\n",
      "INFO:IndoP3 Dataset Generation:Output not available for {'dataset_name': 'nusax_mt', 'subset_name': 'nusax_mt_sun_ind_nusantara_t2t', 'prompt_id': '1b053ce2-f6ea-4f26-a759-25cce2cea8cd', 'template_name': 'nusax_mt / nusax_mt_sun_ind_nusantara_t2t_6', 'dataset_key': 'validation'}.\n",
      "INFO:IndoP3 Dataset Generation:Output not available for {'dataset_name': 'nusax_mt', 'subset_name': 'nusax_mt_sun_ind_nusantara_t2t', 'prompt_id': '1b053ce2-f6ea-4f26-a759-25cce2cea8cd', 'template_name': 'nusax_mt / nusax_mt_sun_ind_nusantara_t2t_6', 'dataset_key': 'test'}.\n",
      "INFO:IndoP3 Dataset Generation:Output not available for {'dataset_name': 'nusax_mt', 'subset_name': 'nusax_mt_sun_ind_nusantara_t2t', 'prompt_id': '4e531c36-4f86-4456-9fea-da8283fc1e0e', 'template_name': 'nusax_mt / nusax_mt_sun_ind_nusantara_t2t_3', 'dataset_key': 'train'}.\n",
      "INFO:IndoP3 Dataset Generation:Output not available for {'dataset_name': 'nusax_mt', 'subset_name': 'nusax_mt_sun_ind_nusantara_t2t', 'prompt_id': '4e531c36-4f86-4456-9fea-da8283fc1e0e', 'template_name': 'nusax_mt / nusax_mt_sun_ind_nusantara_t2t_3', 'dataset_key': 'validation'}.\n",
      "INFO:IndoP3 Dataset Generation:Output not available for {'dataset_name': 'nusax_mt', 'subset_name': 'nusax_mt_sun_ind_nusantara_t2t', 'prompt_id': '4e531c36-4f86-4456-9fea-da8283fc1e0e', 'template_name': 'nusax_mt / nusax_mt_sun_ind_nusantara_t2t_3', 'dataset_key': 'test'}.\n",
      "INFO:IndoP3 Dataset Generation:Output not available for {'dataset_name': 'nusax_mt', 'subset_name': 'nusax_mt_sun_ind_nusantara_t2t', 'prompt_id': '4eed9ee2-23ec-490a-a6cd-2a4b64b89517', 'template_name': 'nusax_mt / nusax_mt_sun_ind_nusantara_t2t_5', 'dataset_key': 'train'}.\n",
      "INFO:IndoP3 Dataset Generation:Output not available for {'dataset_name': 'nusax_mt', 'subset_name': 'nusax_mt_sun_ind_nusantara_t2t', 'prompt_id': '4eed9ee2-23ec-490a-a6cd-2a4b64b89517', 'template_name': 'nusax_mt / nusax_mt_sun_ind_nusantara_t2t_5', 'dataset_key': 'validation'}.\n",
      "INFO:IndoP3 Dataset Generation:Output not available for {'dataset_name': 'nusax_mt', 'subset_name': 'nusax_mt_sun_ind_nusantara_t2t', 'prompt_id': '4eed9ee2-23ec-490a-a6cd-2a4b64b89517', 'template_name': 'nusax_mt / nusax_mt_sun_ind_nusantara_t2t_5', 'dataset_key': 'test'}.\n",
      "INFO:IndoP3 Dataset Generation:Output not available for {'dataset_name': 'nusax_mt', 'subset_name': 'nusax_mt_sun_ind_nusantara_t2t', 'prompt_id': '6a6aa730-dc29-45b4-b179-4d61a870b29b', 'template_name': 'nusax_mt / nusax_mt_sun_ind_nusantara_t2t_2', 'dataset_key': 'train'}.\n",
      "INFO:IndoP3 Dataset Generation:Output not available for {'dataset_name': 'nusax_mt', 'subset_name': 'nusax_mt_sun_ind_nusantara_t2t', 'prompt_id': '6a6aa730-dc29-45b4-b179-4d61a870b29b', 'template_name': 'nusax_mt / nusax_mt_sun_ind_nusantara_t2t_2', 'dataset_key': 'validation'}.\n",
      "INFO:IndoP3 Dataset Generation:Output not available for {'dataset_name': 'nusax_mt', 'subset_name': 'nusax_mt_sun_ind_nusantara_t2t', 'prompt_id': '6a6aa730-dc29-45b4-b179-4d61a870b29b', 'template_name': 'nusax_mt / nusax_mt_sun_ind_nusantara_t2t_2', 'dataset_key': 'test'}.\n",
      "INFO:IndoP3 Dataset Generation:Output not available for {'dataset_name': 'nusax_mt', 'subset_name': 'nusax_mt_sun_ind_nusantara_t2t', 'prompt_id': '7718a137-06fc-4e0b-b213-397b2dcf7550', 'template_name': 'nusax_mt / nusax_mt_sun_ind_nusantara_t2t_10', 'dataset_key': 'train'}.\n",
      "INFO:IndoP3 Dataset Generation:Output not available for {'dataset_name': 'nusax_mt', 'subset_name': 'nusax_mt_sun_ind_nusantara_t2t', 'prompt_id': '7718a137-06fc-4e0b-b213-397b2dcf7550', 'template_name': 'nusax_mt / nusax_mt_sun_ind_nusantara_t2t_10', 'dataset_key': 'validation'}.\n",
      "INFO:IndoP3 Dataset Generation:Output not available for {'dataset_name': 'nusax_mt', 'subset_name': 'nusax_mt_sun_ind_nusantara_t2t', 'prompt_id': '7718a137-06fc-4e0b-b213-397b2dcf7550', 'template_name': 'nusax_mt / nusax_mt_sun_ind_nusantara_t2t_10', 'dataset_key': 'test'}.\n",
      "INFO:IndoP3 Dataset Generation:Output not available for {'dataset_name': 'nusax_mt', 'subset_name': 'nusax_mt_sun_ind_nusantara_t2t', 'prompt_id': '88a12d63-42a5-4d47-b60b-0c0054fe8cc2', 'template_name': 'nusax_mt / nusax_mt_sun_ind_nusantara_t2t_4', 'dataset_key': 'train'}.\n",
      "INFO:IndoP3 Dataset Generation:Output not available for {'dataset_name': 'nusax_mt', 'subset_name': 'nusax_mt_sun_ind_nusantara_t2t', 'prompt_id': '88a12d63-42a5-4d47-b60b-0c0054fe8cc2', 'template_name': 'nusax_mt / nusax_mt_sun_ind_nusantara_t2t_4', 'dataset_key': 'validation'}.\n",
      "INFO:IndoP3 Dataset Generation:Output not available for {'dataset_name': 'nusax_mt', 'subset_name': 'nusax_mt_sun_ind_nusantara_t2t', 'prompt_id': '88a12d63-42a5-4d47-b60b-0c0054fe8cc2', 'template_name': 'nusax_mt / nusax_mt_sun_ind_nusantara_t2t_4', 'dataset_key': 'test'}.\n",
      "INFO:IndoP3 Dataset Generation:Output not available for {'dataset_name': 'nusax_mt', 'subset_name': 'nusax_mt_sun_ind_nusantara_t2t', 'prompt_id': '94c4bb26-ca97-422c-8066-0cb9aae0586e', 'template_name': 'nusax_mt / nusax_mt_sun_ind_nusantara_t2t_9', 'dataset_key': 'train'}.\n",
      "INFO:IndoP3 Dataset Generation:Output not available for {'dataset_name': 'nusax_mt', 'subset_name': 'nusax_mt_sun_ind_nusantara_t2t', 'prompt_id': '94c4bb26-ca97-422c-8066-0cb9aae0586e', 'template_name': 'nusax_mt / nusax_mt_sun_ind_nusantara_t2t_9', 'dataset_key': 'validation'}.\n",
      "INFO:IndoP3 Dataset Generation:Output not available for {'dataset_name': 'nusax_mt', 'subset_name': 'nusax_mt_sun_ind_nusantara_t2t', 'prompt_id': '94c4bb26-ca97-422c-8066-0cb9aae0586e', 'template_name': 'nusax_mt / nusax_mt_sun_ind_nusantara_t2t_9', 'dataset_key': 'test'}.\n",
      "INFO:IndoP3 Dataset Generation:Output not available for {'dataset_name': 'nusax_mt', 'subset_name': 'nusax_mt_sun_ind_nusantara_t2t', 'prompt_id': 'bb34dba3-8f8a-4af4-b5cf-9038c1eedf05', 'template_name': 'nusax_mt / nusax_mt_sun_ind_nusantara_t2t_8', 'dataset_key': 'train'}.\n",
      "INFO:IndoP3 Dataset Generation:Output not available for {'dataset_name': 'nusax_mt', 'subset_name': 'nusax_mt_sun_ind_nusantara_t2t', 'prompt_id': 'bb34dba3-8f8a-4af4-b5cf-9038c1eedf05', 'template_name': 'nusax_mt / nusax_mt_sun_ind_nusantara_t2t_8', 'dataset_key': 'validation'}.\n",
      "INFO:IndoP3 Dataset Generation:Output not available for {'dataset_name': 'nusax_mt', 'subset_name': 'nusax_mt_sun_ind_nusantara_t2t', 'prompt_id': 'bb34dba3-8f8a-4af4-b5cf-9038c1eedf05', 'template_name': 'nusax_mt / nusax_mt_sun_ind_nusantara_t2t_8', 'dataset_key': 'test'}.\n",
      "INFO:IndoP3 Dataset Generation:Output not available for {'dataset_name': 'nusax_mt', 'subset_name': 'nusax_mt_sun_ind_nusantara_t2t', 'prompt_id': 'e7137aec-d05f-44e5-bf19-238a20bbfc76', 'template_name': 'nusax_mt / nusax_mt_sun_ind_nusantara_t2t_7', 'dataset_key': 'train'}.\n",
      "INFO:IndoP3 Dataset Generation:Output not available for {'dataset_name': 'nusax_mt', 'subset_name': 'nusax_mt_sun_ind_nusantara_t2t', 'prompt_id': 'e7137aec-d05f-44e5-bf19-238a20bbfc76', 'template_name': 'nusax_mt / nusax_mt_sun_ind_nusantara_t2t_7', 'dataset_key': 'validation'}.\n",
      "INFO:IndoP3 Dataset Generation:Output not available for {'dataset_name': 'nusax_mt', 'subset_name': 'nusax_mt_sun_ind_nusantara_t2t', 'prompt_id': 'e7137aec-d05f-44e5-bf19-238a20bbfc76', 'template_name': 'nusax_mt / nusax_mt_sun_ind_nusantara_t2t_7', 'dataset_key': 'test'}.\n",
      "INFO:IndoP3 Dataset Generation:Output not available for {'dataset_name': 'nusax_mt', 'subset_name': 'nusax_mt_sun_ind_nusantara_t2t', 'prompt_id': 'f7b8f7bf-64b5-43d1-b357-8d130597c9a2', 'template_name': 'nusax_mt / nusax_mt_sun_ind_nusantara_t2t_1', 'dataset_key': 'train'}.\n",
      "INFO:IndoP3 Dataset Generation:Output not available for {'dataset_name': 'nusax_mt', 'subset_name': 'nusax_mt_sun_ind_nusantara_t2t', 'prompt_id': 'f7b8f7bf-64b5-43d1-b357-8d130597c9a2', 'template_name': 'nusax_mt / nusax_mt_sun_ind_nusantara_t2t_1', 'dataset_key': 'validation'}.\n",
      "INFO:IndoP3 Dataset Generation:Output not available for {'dataset_name': 'nusax_mt', 'subset_name': 'nusax_mt_sun_ind_nusantara_t2t', 'prompt_id': 'f7b8f7bf-64b5-43d1-b357-8d130597c9a2', 'template_name': 'nusax_mt / nusax_mt_sun_ind_nusantara_t2t_1', 'dataset_key': 'test'}.\n"
     ]
    },
    {
     "name": "stdout",
     "output_type": "stream",
     "text": [
      "df_.shape: (55000, 7)\n"
     ]
    },
    {
     "name": "stderr",
     "output_type": "stream",
     "text": [
      "  6%|▌         | 5/82 [02:55<33:12, 25.87s/it]WARNING:datasets.builder:Reusing dataset nusa_xmt (/home/emmanueldave/.cache/huggingface/datasets/nusa_xmt/nusax_mt_eng_ind_source/1.0.0/fbf7c378dc71d0f2e3616c8fe87d233936655fcdde5dd6b008240e55d71db59b)\n",
      "100%|██████████| 3/3 [00:00<00:00, 215.13it/s]\n"
     ]
    },
    {
     "name": "stdout",
     "output_type": "stream",
     "text": [
      "df_.shape: (65000, 7)\n"
     ]
    },
    {
     "name": "stderr",
     "output_type": "stream",
     "text": [
      "  7%|▋         | 6/82 [03:20<32:28, 25.63s/it]WARNING:datasets.builder:Reusing dataset nusa_xmt (/home/emmanueldave/.cache/huggingface/datasets/nusa_xmt/nusax_mt_min_ind_nusantara_t2t/1.0.0/fbf7c378dc71d0f2e3616c8fe87d233936655fcdde5dd6b008240e55d71db59b)\n",
      "100%|██████████| 3/3 [00:00<00:00, 315.80it/s]\n"
     ]
    },
    {
     "name": "stdout",
     "output_type": "stream",
     "text": [
      "df_.shape: (75000, 7)\n"
     ]
    },
    {
     "name": "stderr",
     "output_type": "stream",
     "text": [
      "  9%|▊         | 7/82 [03:47<32:50, 26.27s/it]WARNING:datasets.builder:Reusing dataset nusa_xmt (/home/emmanueldave/.cache/huggingface/datasets/nusa_xmt/nusax_mt_ind_ace_source/1.0.0/fbf7c378dc71d0f2e3616c8fe87d233936655fcdde5dd6b008240e55d71db59b)\n",
      "100%|██████████| 3/3 [00:00<00:00, 257.05it/s]\n"
     ]
    },
    {
     "name": "stdout",
     "output_type": "stream",
     "text": [
      "df_.shape: (85000, 7)\n"
     ]
    },
    {
     "name": "stderr",
     "output_type": "stream",
     "text": [
      " 10%|▉         | 8/82 [04:20<34:48, 28.22s/it]WARNING:datasets.builder:Reusing dataset nusa_xmt (/home/emmanueldave/.cache/huggingface/datasets/nusa_xmt/nusax_mt_eng_ind_nusantara_t2t/1.0.0/fbf7c378dc71d0f2e3616c8fe87d233936655fcdde5dd6b008240e55d71db59b)\n",
      "100%|██████████| 3/3 [00:00<00:00, 287.88it/s]\n"
     ]
    },
    {
     "name": "stdout",
     "output_type": "stream",
     "text": [
      "df_.shape: (95000, 7)\n"
     ]
    },
    {
     "name": "stderr",
     "output_type": "stream",
     "text": [
      " 11%|█         | 9/82 [04:49<34:33, 28.40s/it]WARNING:datasets.builder:Reusing dataset nusa_xmt (/home/emmanueldave/.cache/huggingface/datasets/nusa_xmt/nusax_mt_bjn_ind_nusantara_t2t/1.0.0/fbf7c378dc71d0f2e3616c8fe87d233936655fcdde5dd6b008240e55d71db59b)\n",
      "100%|██████████| 3/3 [00:00<00:00, 363.35it/s]\n"
     ]
    },
    {
     "name": "stdout",
     "output_type": "stream",
     "text": [
      "df_.shape: (105000, 7)\n"
     ]
    },
    {
     "name": "stderr",
     "output_type": "stream",
     "text": [
      " 12%|█▏        | 10/82 [05:18<34:35, 28.82s/it]WARNING:datasets.builder:Reusing dataset nusa_xmt (/home/emmanueldave/.cache/huggingface/datasets/nusa_xmt/nusax_mt_ind_ace_nusantara_t2t/1.0.0/fbf7c378dc71d0f2e3616c8fe87d233936655fcdde5dd6b008240e55d71db59b)\n",
      "100%|██████████| 3/3 [00:00<00:00, 434.13it/s]\n"
     ]
    },
    {
     "name": "stdout",
     "output_type": "stream",
     "text": [
      "df_.shape: (115000, 7)\n"
     ]
    },
    {
     "name": "stderr",
     "output_type": "stream",
     "text": [
      " 13%|█▎        | 11/82 [05:46<33:31, 28.33s/it]WARNING:datasets.builder:Reusing dataset nusa_xmt (/home/emmanueldave/.cache/huggingface/datasets/nusa_xmt/nusax_mt_ind_eng_source/1.0.0/fbf7c378dc71d0f2e3616c8fe87d233936655fcdde5dd6b008240e55d71db59b)\n",
      "100%|██████████| 3/3 [00:00<00:00, 224.02it/s]\n"
     ]
    },
    {
     "name": "stdout",
     "output_type": "stream",
     "text": [
      "df_.shape: (125000, 7)\n"
     ]
    },
    {
     "name": "stderr",
     "output_type": "stream",
     "text": [
      " 15%|█▍        | 12/82 [06:29<38:12, 32.75s/it]WARNING:datasets.builder:Reusing dataset nusa_xmt (/home/emmanueldave/.cache/huggingface/datasets/nusa_xmt/nusax_mt_ban_ind_nusantara_t2t/1.0.0/fbf7c378dc71d0f2e3616c8fe87d233936655fcdde5dd6b008240e55d71db59b)\n",
      "100%|██████████| 3/3 [00:00<00:00, 256.80it/s]\n"
     ]
    },
    {
     "name": "stdout",
     "output_type": "stream",
     "text": [
      "df_.shape: (135000, 7)\n"
     ]
    },
    {
     "name": "stderr",
     "output_type": "stream",
     "text": [
      " 16%|█▌        | 13/82 [07:01<37:33, 32.66s/it]WARNING:datasets.builder:Reusing dataset nusa_xmt (/home/emmanueldave/.cache/huggingface/datasets/nusa_xmt/nusax_mt_ind_ban_source/1.0.0/fbf7c378dc71d0f2e3616c8fe87d233936655fcdde5dd6b008240e55d71db59b)\n",
      "100%|██████████| 3/3 [00:00<00:00, 325.22it/s]\n"
     ]
    },
    {
     "name": "stdout",
     "output_type": "stream",
     "text": [
      "df_.shape: (145000, 7)\n"
     ]
    },
    {
     "name": "stderr",
     "output_type": "stream",
     "text": [
      " 17%|█▋        | 14/82 [07:35<37:21, 32.96s/it]WARNING:datasets.builder:Reusing dataset nusa_xmt (/home/emmanueldave/.cache/huggingface/datasets/nusa_xmt/nusax_mt_bjn_ind_source/1.0.0/fbf7c378dc71d0f2e3616c8fe87d233936655fcdde5dd6b008240e55d71db59b)\n",
      "100%|██████████| 3/3 [00:00<00:00, 251.51it/s]\n"
     ]
    },
    {
     "name": "stdout",
     "output_type": "stream",
     "text": [
      "df_.shape: (155000, 7)\n"
     ]
    },
    {
     "name": "stderr",
     "output_type": "stream",
     "text": [
      " 18%|█▊        | 15/82 [07:59<34:03, 30.50s/it]WARNING:datasets.builder:Reusing dataset nusa_xmt (/home/emmanueldave/.cache/huggingface/datasets/nusa_xmt/nusax_mt_ind_bjn_nusantara_t2t/1.0.0/fbf7c378dc71d0f2e3616c8fe87d233936655fcdde5dd6b008240e55d71db59b)\n",
      "100%|██████████| 3/3 [00:00<00:00, 244.95it/s]\n"
     ]
    },
    {
     "name": "stdout",
     "output_type": "stream",
     "text": [
      "df_.shape: (165000, 7)\n"
     ]
    },
    {
     "name": "stderr",
     "output_type": "stream",
     "text": [
      " 20%|█▉        | 16/82 [08:27<32:30, 29.56s/it]WARNING:datasets.builder:Reusing dataset nusa_xmt (/home/emmanueldave/.cache/huggingface/datasets/nusa_xmt/nusax_mt_ace_ind_source/1.0.0/fbf7c378dc71d0f2e3616c8fe87d233936655fcdde5dd6b008240e55d71db59b)\n",
      "100%|██████████| 3/3 [00:00<00:00, 116.13it/s]\n"
     ]
    },
    {
     "name": "stdout",
     "output_type": "stream",
     "text": [
      "df_.shape: (175000, 7)\n"
     ]
    },
    {
     "name": "stderr",
     "output_type": "stream",
     "text": [
      " 21%|██        | 17/82 [08:57<32:06, 29.64s/it]WARNING:datasets.builder:Reusing dataset nusa_xmt (/home/emmanueldave/.cache/huggingface/datasets/nusa_xmt/nusax_mt_ind_bjn_source/1.0.0/fbf7c378dc71d0f2e3616c8fe87d233936655fcdde5dd6b008240e55d71db59b)\n",
      "100%|██████████| 3/3 [00:00<00:00, 271.60it/s]\n"
     ]
    },
    {
     "name": "stdout",
     "output_type": "stream",
     "text": [
      "df_.shape: (185000, 7)\n"
     ]
    },
    {
     "name": "stderr",
     "output_type": "stream",
     "text": [
      " 22%|██▏       | 18/82 [09:24<30:54, 28.98s/it]WARNING:datasets.builder:Reusing dataset nusa_xmt (/home/emmanueldave/.cache/huggingface/datasets/nusa_xmt/nusax_mt_bug_ind_nusantara_t2t/1.0.0/fbf7c378dc71d0f2e3616c8fe87d233936655fcdde5dd6b008240e55d71db59b)\n",
      "100%|██████████| 3/3 [00:00<00:00, 227.32it/s]\n"
     ]
    },
    {
     "name": "stdout",
     "output_type": "stream",
     "text": [
      "df_.shape: (195000, 7)\n"
     ]
    },
    {
     "name": "stderr",
     "output_type": "stream",
     "text": [
      " 23%|██▎       | 19/82 [09:52<30:05, 28.66s/it]WARNING:datasets.builder:Reusing dataset nusa_xmt (/home/emmanueldave/.cache/huggingface/datasets/nusa_xmt/nusax_mt_ind_bug_source/1.0.0/fbf7c378dc71d0f2e3616c8fe87d233936655fcdde5dd6b008240e55d71db59b)\n",
      "100%|██████████| 3/3 [00:00<00:00, 264.33it/s]\n",
      "INFO:IndoP3 Dataset Generation:Output not available for {'dataset_name': 'nusax_mt', 'subset_name': 'nusax_mt_ind_bug_source', 'prompt_id': '7fddc8da-cd54-4702-ad8b-9fa5cd04c9f6', 'template_name': 'nusax_mt / nusax_mt_ind_bug_source 1', 'dataset_key': 'train'}.\n",
      "INFO:IndoP3 Dataset Generation:Output not available for {'dataset_name': 'nusax_mt', 'subset_name': 'nusax_mt_ind_bug_source', 'prompt_id': '7fddc8da-cd54-4702-ad8b-9fa5cd04c9f6', 'template_name': 'nusax_mt / nusax_mt_ind_bug_source 1', 'dataset_key': 'validation'}.\n",
      "INFO:IndoP3 Dataset Generation:Output not available for {'dataset_name': 'nusax_mt', 'subset_name': 'nusax_mt_ind_bug_source', 'prompt_id': '7fddc8da-cd54-4702-ad8b-9fa5cd04c9f6', 'template_name': 'nusax_mt / nusax_mt_ind_bug_source 1', 'dataset_key': 'test'}.\n"
     ]
    },
    {
     "name": "stdout",
     "output_type": "stream",
     "text": [
      "df_.shape: (195000, 7)\n"
     ]
    },
    {
     "name": "stderr",
     "output_type": "stream",
     "text": [
      " 24%|██▍       | 20/82 [09:56<21:58, 21.27s/it]WARNING:datasets.builder:Reusing dataset nusa_xmt (/home/emmanueldave/.cache/huggingface/datasets/nusa_xmt/nusax_mt_ind_nij_nusantara_t2t/1.0.0/fbf7c378dc71d0f2e3616c8fe87d233936655fcdde5dd6b008240e55d71db59b)\n",
      "100%|██████████| 3/3 [00:00<00:00, 210.59it/s]\n"
     ]
    },
    {
     "name": "stdout",
     "output_type": "stream",
     "text": [
      "df_.shape: (205000, 7)\n"
     ]
    },
    {
     "name": "stderr",
     "output_type": "stream",
     "text": [
      " 26%|██▌       | 21/82 [10:17<21:36, 21.26s/it]WARNING:datasets.builder:Reusing dataset nusa_xmt (/home/emmanueldave/.cache/huggingface/datasets/nusa_xmt/nusax_mt_ind_sun_nusantara_t2t/1.0.0/fbf7c378dc71d0f2e3616c8fe87d233936655fcdde5dd6b008240e55d71db59b)\n",
      "100%|██████████| 3/3 [00:00<00:00, 259.14it/s]\n",
      "INFO:IndoP3 Dataset Generation:Output not available for {'dataset_name': 'nusax_mt', 'subset_name': 'nusax_mt_ind_sun_nusantara_t2t', 'prompt_id': '34a07ff3-d243-4eb7-839l-87db75bb033a', 'template_name': 'nusax_mt_ind_sun_prompt_template_6', 'dataset_key': 'train'}.\n",
      "INFO:IndoP3 Dataset Generation:Output not available for {'dataset_name': 'nusax_mt', 'subset_name': 'nusax_mt_ind_sun_nusantara_t2t', 'prompt_id': '34a07ff3-d243-4eb7-839l-87db75bb033a', 'template_name': 'nusax_mt_ind_sun_prompt_template_6', 'dataset_key': 'validation'}.\n",
      "INFO:IndoP3 Dataset Generation:Output not available for {'dataset_name': 'nusax_mt', 'subset_name': 'nusax_mt_ind_sun_nusantara_t2t', 'prompt_id': '34a07ff3-d243-4eb7-839l-87db75bb033a', 'template_name': 'nusax_mt_ind_sun_prompt_template_6', 'dataset_key': 'test'}.\n"
     ]
    },
    {
     "name": "stdout",
     "output_type": "stream",
     "text": [
      "df_.shape: (229000, 7)\n"
     ]
    },
    {
     "name": "stderr",
     "output_type": "stream",
     "text": [
      " 27%|██▋       | 22/82 [11:16<32:22, 32.37s/it]WARNING:datasets.builder:Reusing dataset nusa_xmt (/home/emmanueldave/.cache/huggingface/datasets/nusa_xmt/nusax_mt_ace_ind_nusantara_t2t/1.0.0/fbf7c378dc71d0f2e3616c8fe87d233936655fcdde5dd6b008240e55d71db59b)\n",
      "100%|██████████| 3/3 [00:00<00:00, 242.23it/s]\n"
     ]
    },
    {
     "name": "stdout",
     "output_type": "stream",
     "text": [
      "df_.shape: (239000, 7)\n"
     ]
    },
    {
     "name": "stderr",
     "output_type": "stream",
     "text": [
      " 28%|██▊       | 23/82 [11:44<30:45, 31.28s/it]WARNING:datasets.builder:Reusing dataset nusa_xmt (/home/emmanueldave/.cache/huggingface/datasets/nusa_xmt/nusax_mt_ind_bug_nusantara_t2t/1.0.0/fbf7c378dc71d0f2e3616c8fe87d233936655fcdde5dd6b008240e55d71db59b)\n",
      "100%|██████████| 3/3 [00:00<00:00, 326.62it/s]\n"
     ]
    },
    {
     "name": "stdout",
     "output_type": "stream",
     "text": [
      "df_.shape: (249000, 7)\n"
     ]
    },
    {
     "name": "stderr",
     "output_type": "stream",
     "text": [
      " 29%|██▉       | 24/82 [12:09<28:17, 29.27s/it]WARNING:datasets.builder:Reusing dataset nusa_xmt (/home/emmanueldave/.cache/huggingface/datasets/nusa_xmt/nusax_mt_ind_eng_nusantara_t2t/1.0.0/fbf7c378dc71d0f2e3616c8fe87d233936655fcdde5dd6b008240e55d71db59b)\n",
      "100%|██████████| 3/3 [00:00<00:00, 375.03it/s]\n"
     ]
    },
    {
     "name": "stdout",
     "output_type": "stream",
     "text": [
      "df_.shape: (259000, 7)\n"
     ]
    },
    {
     "name": "stderr",
     "output_type": "stream",
     "text": [
      " 30%|███       | 25/82 [12:31<25:53, 27.25s/it]WARNING:datasets.builder:Reusing dataset nusa_xmt (/home/emmanueldave/.cache/huggingface/datasets/nusa_xmt/nusax_mt_ind_min_nusantara_t2t/1.0.0/fbf7c378dc71d0f2e3616c8fe87d233936655fcdde5dd6b008240e55d71db59b)\n",
      "100%|██████████| 3/3 [00:00<00:00, 259.60it/s]\n"
     ]
    },
    {
     "name": "stdout",
     "output_type": "stream",
     "text": [
      "df_.shape: (284000, 7)\n"
     ]
    },
    {
     "name": "stderr",
     "output_type": "stream",
     "text": [
      " 32%|███▏      | 26/82 [13:37<36:15, 38.85s/it]WARNING:datasets.builder:Reusing dataset nusa_xmt (/home/emmanueldave/.cache/huggingface/datasets/nusa_xmt/nusax_mt_bug_ind_source/1.0.0/fbf7c378dc71d0f2e3616c8fe87d233936655fcdde5dd6b008240e55d71db59b)\n",
      "100%|██████████| 3/3 [00:00<00:00, 391.30it/s]\n"
     ]
    },
    {
     "name": "stdout",
     "output_type": "stream",
     "text": [
      "df_.shape: (294000, 7)\n"
     ]
    },
    {
     "name": "stderr",
     "output_type": "stream",
     "text": [
      " 33%|███▎      | 27/82 [14:03<32:06, 35.03s/it]WARNING:datasets.builder:Reusing dataset nusa_xmt (/home/emmanueldave/.cache/huggingface/datasets/nusa_xmt/nusax_mt_ind_ban_nusantara_t2t/1.0.0/fbf7c378dc71d0f2e3616c8fe87d233936655fcdde5dd6b008240e55d71db59b)\n",
      "100%|██████████| 3/3 [00:00<00:00, 265.59it/s]\n"
     ]
    },
    {
     "name": "stdout",
     "output_type": "stream",
     "text": [
      "df_.shape: (304000, 7)\n"
     ]
    },
    {
     "name": "stderr",
     "output_type": "stream",
     "text": [
      " 34%|███▍      | 28/82 [14:26<28:16, 31.42s/it]WARNING:datasets.builder:Reusing dataset nusa_xmt (/home/emmanueldave/.cache/huggingface/datasets/nusa_xmt/nusax_mt_ind_jav_nusantara_t2t/1.0.0/fbf7c378dc71d0f2e3616c8fe87d233936655fcdde5dd6b008240e55d71db59b)\n",
      "100%|██████████| 3/3 [00:00<00:00, 296.57it/s]\n"
     ]
    },
    {
     "name": "stdout",
     "output_type": "stream",
     "text": [
      "df_.shape: (329000, 7)\n"
     ]
    },
    {
     "name": "stderr",
     "output_type": "stream",
     "text": [
      " 35%|███▌      | 29/82 [15:33<37:09, 42.07s/it]WARNING:datasets.builder:Reusing dataset nusa_xmt (/home/emmanueldave/.cache/huggingface/datasets/nusa_xmt/nusax_mt_min_ind_source/1.0.0/fbf7c378dc71d0f2e3616c8fe87d233936655fcdde5dd6b008240e55d71db59b)\n",
      "100%|██████████| 3/3 [00:00<00:00, 253.70it/s]\n",
      "INFO:IndoP3 Dataset Generation:Output not available for {'dataset_name': 'nusax_mt', 'subset_name': 'nusax_mt_min_ind_source', 'prompt_id': '15eea955-6542-4ede-8537-dbe88f7c870f', 'template_name': 'nusax_mt_min_ind_source_9', 'dataset_key': 'train'}.\n",
      "INFO:IndoP3 Dataset Generation:Output not available for {'dataset_name': 'nusax_mt', 'subset_name': 'nusax_mt_min_ind_source', 'prompt_id': '15eea955-6542-4ede-8537-dbe88f7c870f', 'template_name': 'nusax_mt_min_ind_source_9', 'dataset_key': 'validation'}.\n",
      "INFO:IndoP3 Dataset Generation:Output not available for {'dataset_name': 'nusax_mt', 'subset_name': 'nusax_mt_min_ind_source', 'prompt_id': '15eea955-6542-4ede-8537-dbe88f7c870f', 'template_name': 'nusax_mt_min_ind_source_9', 'dataset_key': 'test'}.\n",
      "INFO:IndoP3 Dataset Generation:Output not available for {'dataset_name': 'nusax_mt', 'subset_name': 'nusax_mt_min_ind_source', 'prompt_id': '1a929618-bf13-4fd2-b28f-3067510dc4dd', 'template_name': 'nusax_mt_min_ind_source_5', 'dataset_key': 'train'}.\n",
      "INFO:IndoP3 Dataset Generation:Output not available for {'dataset_name': 'nusax_mt', 'subset_name': 'nusax_mt_min_ind_source', 'prompt_id': '1a929618-bf13-4fd2-b28f-3067510dc4dd', 'template_name': 'nusax_mt_min_ind_source_5', 'dataset_key': 'validation'}.\n",
      "INFO:IndoP3 Dataset Generation:Output not available for {'dataset_name': 'nusax_mt', 'subset_name': 'nusax_mt_min_ind_source', 'prompt_id': '1a929618-bf13-4fd2-b28f-3067510dc4dd', 'template_name': 'nusax_mt_min_ind_source_5', 'dataset_key': 'test'}.\n",
      "INFO:IndoP3 Dataset Generation:Output not available for {'dataset_name': 'nusax_mt', 'subset_name': 'nusax_mt_min_ind_source', 'prompt_id': '3e38e514-530e-4fc9-acdd-1d956d841700', 'template_name': 'nusax_mt_min_ind_source_4', 'dataset_key': 'train'}.\n",
      "INFO:IndoP3 Dataset Generation:Output not available for {'dataset_name': 'nusax_mt', 'subset_name': 'nusax_mt_min_ind_source', 'prompt_id': '3e38e514-530e-4fc9-acdd-1d956d841700', 'template_name': 'nusax_mt_min_ind_source_4', 'dataset_key': 'validation'}.\n",
      "INFO:IndoP3 Dataset Generation:Output not available for {'dataset_name': 'nusax_mt', 'subset_name': 'nusax_mt_min_ind_source', 'prompt_id': '3e38e514-530e-4fc9-acdd-1d956d841700', 'template_name': 'nusax_mt_min_ind_source_4', 'dataset_key': 'test'}.\n",
      "INFO:IndoP3 Dataset Generation:Output not available for {'dataset_name': 'nusax_mt', 'subset_name': 'nusax_mt_min_ind_source', 'prompt_id': '40a7a530-4203-4b33-bb00-b105b5a259e5', 'template_name': 'nusax_mt_min_ind_source_3', 'dataset_key': 'train'}.\n",
      "INFO:IndoP3 Dataset Generation:Output not available for {'dataset_name': 'nusax_mt', 'subset_name': 'nusax_mt_min_ind_source', 'prompt_id': '40a7a530-4203-4b33-bb00-b105b5a259e5', 'template_name': 'nusax_mt_min_ind_source_3', 'dataset_key': 'validation'}.\n",
      "INFO:IndoP3 Dataset Generation:Output not available for {'dataset_name': 'nusax_mt', 'subset_name': 'nusax_mt_min_ind_source', 'prompt_id': '40a7a530-4203-4b33-bb00-b105b5a259e5', 'template_name': 'nusax_mt_min_ind_source_3', 'dataset_key': 'test'}.\n",
      "INFO:IndoP3 Dataset Generation:Output not available for {'dataset_name': 'nusax_mt', 'subset_name': 'nusax_mt_min_ind_source', 'prompt_id': '54982678-9b4b-45d8-8ebc-b30c14e894c9', 'template_name': 'nusax_mt_min_ind_source_7', 'dataset_key': 'train'}.\n",
      "INFO:IndoP3 Dataset Generation:Output not available for {'dataset_name': 'nusax_mt', 'subset_name': 'nusax_mt_min_ind_source', 'prompt_id': '54982678-9b4b-45d8-8ebc-b30c14e894c9', 'template_name': 'nusax_mt_min_ind_source_7', 'dataset_key': 'validation'}.\n",
      "INFO:IndoP3 Dataset Generation:Output not available for {'dataset_name': 'nusax_mt', 'subset_name': 'nusax_mt_min_ind_source', 'prompt_id': '54982678-9b4b-45d8-8ebc-b30c14e894c9', 'template_name': 'nusax_mt_min_ind_source_7', 'dataset_key': 'test'}.\n",
      "INFO:IndoP3 Dataset Generation:Output not available for {'dataset_name': 'nusax_mt', 'subset_name': 'nusax_mt_min_ind_source', 'prompt_id': '7ff60239-c1c6-4e95-b96b-e4563519452b', 'template_name': 'nusax_mt_min_ind_source_2', 'dataset_key': 'train'}.\n",
      "INFO:IndoP3 Dataset Generation:Output not available for {'dataset_name': 'nusax_mt', 'subset_name': 'nusax_mt_min_ind_source', 'prompt_id': '7ff60239-c1c6-4e95-b96b-e4563519452b', 'template_name': 'nusax_mt_min_ind_source_2', 'dataset_key': 'validation'}.\n",
      "INFO:IndoP3 Dataset Generation:Output not available for {'dataset_name': 'nusax_mt', 'subset_name': 'nusax_mt_min_ind_source', 'prompt_id': '7ff60239-c1c6-4e95-b96b-e4563519452b', 'template_name': 'nusax_mt_min_ind_source_2', 'dataset_key': 'test'}.\n",
      "INFO:IndoP3 Dataset Generation:Output not available for {'dataset_name': 'nusax_mt', 'subset_name': 'nusax_mt_min_ind_source', 'prompt_id': '8195f750-15e3-46b9-828b-edc96ae348a1', 'template_name': 'nusax_mt_min_ind_source_1', 'dataset_key': 'train'}.\n",
      "INFO:IndoP3 Dataset Generation:Output not available for {'dataset_name': 'nusax_mt', 'subset_name': 'nusax_mt_min_ind_source', 'prompt_id': '8195f750-15e3-46b9-828b-edc96ae348a1', 'template_name': 'nusax_mt_min_ind_source_1', 'dataset_key': 'validation'}.\n",
      "INFO:IndoP3 Dataset Generation:Output not available for {'dataset_name': 'nusax_mt', 'subset_name': 'nusax_mt_min_ind_source', 'prompt_id': '8195f750-15e3-46b9-828b-edc96ae348a1', 'template_name': 'nusax_mt_min_ind_source_1', 'dataset_key': 'test'}.\n",
      "INFO:IndoP3 Dataset Generation:Output not available for {'dataset_name': 'nusax_mt', 'subset_name': 'nusax_mt_min_ind_source', 'prompt_id': '9a473484-b4b9-4f55-9f99-104be68eb383', 'template_name': 'nusax_mt_min_ind_source_6', 'dataset_key': 'train'}.\n",
      "INFO:IndoP3 Dataset Generation:Output not available for {'dataset_name': 'nusax_mt', 'subset_name': 'nusax_mt_min_ind_source', 'prompt_id': '9a473484-b4b9-4f55-9f99-104be68eb383', 'template_name': 'nusax_mt_min_ind_source_6', 'dataset_key': 'validation'}.\n",
      "INFO:IndoP3 Dataset Generation:Output not available for {'dataset_name': 'nusax_mt', 'subset_name': 'nusax_mt_min_ind_source', 'prompt_id': '9a473484-b4b9-4f55-9f99-104be68eb383', 'template_name': 'nusax_mt_min_ind_source_6', 'dataset_key': 'test'}.\n",
      "INFO:IndoP3 Dataset Generation:Output not available for {'dataset_name': 'nusax_mt', 'subset_name': 'nusax_mt_min_ind_source', 'prompt_id': 'dcf15174-dd67-47fb-a4ea-6be5209558f5', 'template_name': 'nusax_mt_min_ind_source_8', 'dataset_key': 'train'}.\n",
      "INFO:IndoP3 Dataset Generation:Output not available for {'dataset_name': 'nusax_mt', 'subset_name': 'nusax_mt_min_ind_source', 'prompt_id': 'dcf15174-dd67-47fb-a4ea-6be5209558f5', 'template_name': 'nusax_mt_min_ind_source_8', 'dataset_key': 'validation'}.\n",
      "INFO:IndoP3 Dataset Generation:Output not available for {'dataset_name': 'nusax_mt', 'subset_name': 'nusax_mt_min_ind_source', 'prompt_id': 'dcf15174-dd67-47fb-a4ea-6be5209558f5', 'template_name': 'nusax_mt_min_ind_source_8', 'dataset_key': 'test'}.\n",
      "INFO:IndoP3 Dataset Generation:Output not available for {'dataset_name': 'nusax_mt', 'subset_name': 'nusax_mt_min_ind_source', 'prompt_id': 'fdbb0dca-088b-4575-bd6d-a9c382f767db', 'template_name': 'nusax_mt_min_ind_source_10', 'dataset_key': 'train'}.\n",
      "INFO:IndoP3 Dataset Generation:Output not available for {'dataset_name': 'nusax_mt', 'subset_name': 'nusax_mt_min_ind_source', 'prompt_id': 'fdbb0dca-088b-4575-bd6d-a9c382f767db', 'template_name': 'nusax_mt_min_ind_source_10', 'dataset_key': 'validation'}.\n",
      "INFO:IndoP3 Dataset Generation:Output not available for {'dataset_name': 'nusax_mt', 'subset_name': 'nusax_mt_min_ind_source', 'prompt_id': 'fdbb0dca-088b-4575-bd6d-a9c382f767db', 'template_name': 'nusax_mt_min_ind_source_10', 'dataset_key': 'test'}.\n"
     ]
    },
    {
     "name": "stdout",
     "output_type": "stream",
     "text": [
      "df_.shape: (329000, 7)\n"
     ]
    },
    {
     "name": "stderr",
     "output_type": "stream",
     "text": [
      " 37%|███▋      | 30/82 [15:42<27:46, 32.05s/it]WARNING:datasets.builder:Reusing dataset id_hoax_news (/home/emmanueldave/.cache/huggingface/datasets/id_hoax_news/id_hoax_news_nusantara_text/1.0.0/4e0f15f72f44a9250ca675d550ccf2213a5fec53a945964370c0d2bcd201aab3)\n",
      "100%|██████████| 1/1 [00:00<00:00, 182.16it/s]\n"
     ]
    },
    {
     "name": "stdout",
     "output_type": "stream",
     "text": [
      "df_.shape: (331500, 7)\n"
     ]
    },
    {
     "name": "stderr",
     "output_type": "stream",
     "text": [
      " 38%|███▊      | 31/82 [15:59<23:23, 27.52s/it]WARNING:datasets.builder:Reusing dataset id_google_play_review (/home/emmanueldave/.cache/huggingface/datasets/id_google_play_review/id_google_play_review_posneg_nusantara_text/1.0.0/1dc59e0d6d39416ae3f99952cb46990fee3f92404b98d9c1a61c241365310dcb)\n",
      "100%|██████████| 2/2 [00:00<00:00, 331.87it/s]\n",
      "ERROR:IndoP3 Dataset Generation:Exception occurred on {'dataset_name': 'id_google_play_review', 'subset_name': 'id_google_play_review_posneg_nusantara_text', 'prompt_id': '98501ac8-8bbb-4626-b177-f38b19730cd5', 'template_name': 'sentiment_analysis_10', 'dataset_key': 'train'}. Please rectify: expected token 'end of statement block', got '{'\n",
      "ERROR:IndoP3 Dataset Generation:Exception occurred on {'dataset_name': 'id_google_play_review', 'subset_name': 'id_google_play_review_posneg_nusantara_text', 'prompt_id': '98501ac8-8bbb-4626-b177-f38b19730cd5', 'template_name': 'sentiment_analysis_10', 'dataset_key': 'validation'}. Please rectify: expected token 'end of statement block', got '{'\n"
     ]
    },
    {
     "name": "stdout",
     "output_type": "stream",
     "text": [
      "df_.shape: (451980, 7)\n"
     ]
    },
    {
     "name": "stderr",
     "output_type": "stream",
     "text": [
      " 39%|███▉      | 32/82 [33:58<4:45:43, 342.87s/it]"
     ]
    },
    {
     "name": "stdout",
     "output_type": "stream",
     "text": [
      "Downloading and preparing dataset nusa_x_senti/nusax_senti_nij_nusantara_text to /home/emmanueldave/.cache/huggingface/datasets/nusa_x_senti/nusax_senti_nij_nusantara_text/1.0.0/49f13943e0484d3a31e67a1ef385a46d0869fa4960e9a064566c6265f1f2c32d...\n"
     ]
    },
    {
     "name": "stderr",
     "output_type": "stream",
     "text": [
      "Downloading data: 82.4kB [00:00, 16.4MB/s]                   \n",
      "Downloading data: 16.6kB [00:00, 5.02MB/s]                   \n",
      "Downloading data: 66.9kB [00:00, 16.7MB/s]                   \n"
     ]
    },
    {
     "name": "stdout",
     "output_type": "stream",
     "text": [
      "Dataset nusa_x_senti downloaded and prepared to /home/emmanueldave/.cache/huggingface/datasets/nusa_x_senti/nusax_senti_nij_nusantara_text/1.0.0/49f13943e0484d3a31e67a1ef385a46d0869fa4960e9a064566c6265f1f2c32d. Subsequent calls will reuse this data.\n"
     ]
    },
    {
     "name": "stderr",
     "output_type": "stream",
     "text": [
      "100%|██████████| 3/3 [00:00<00:00, 485.00it/s]\n",
      "ERROR:IndoP3 Dataset Generation:Exception occurred on {'dataset_name': 'nusax_senti', 'subset_name': 'nusax_senti_nij_nusantara_text', 'prompt_id': '98501ac8-8bbb-4626-b177-f38b19730cd5', 'template_name': 'sentiment_analysis_10', 'dataset_key': 'train'}. Please rectify: expected token 'end of statement block', got '{'\n",
      "ERROR:IndoP3 Dataset Generation:Exception occurred on {'dataset_name': 'nusax_senti', 'subset_name': 'nusax_senti_nij_nusantara_text', 'prompt_id': '98501ac8-8bbb-4626-b177-f38b19730cd5', 'template_name': 'sentiment_analysis_10', 'dataset_key': 'validation'}. Please rectify: expected token 'end of statement block', got '{'\n",
      "ERROR:IndoP3 Dataset Generation:Exception occurred on {'dataset_name': 'nusax_senti', 'subset_name': 'nusax_senti_nij_nusantara_text', 'prompt_id': '98501ac8-8bbb-4626-b177-f38b19730cd5', 'template_name': 'sentiment_analysis_10', 'dataset_key': 'test'}. Please rectify: expected token 'end of statement block', got '{'\n"
     ]
    },
    {
     "name": "stdout",
     "output_type": "stream",
     "text": [
      "df_.shape: (467980, 7)\n"
     ]
    },
    {
     "name": "stderr",
     "output_type": "stream",
     "text": [
      " 40%|████      | 33/82 [36:22<3:51:25, 283.37s/it]"
     ]
    },
    {
     "name": "stdout",
     "output_type": "stream",
     "text": [
      "Downloading and preparing dataset nusa_x_senti/nusax_senti_bjn_nusantara_text to /home/emmanueldave/.cache/huggingface/datasets/nusa_x_senti/nusax_senti_bjn_nusantara_text/1.0.0/49f13943e0484d3a31e67a1ef385a46d0869fa4960e9a064566c6265f1f2c32d...\n"
     ]
    },
    {
     "name": "stderr",
     "output_type": "stream",
     "text": [
      "Downloading data: 83.9kB [00:00, 16.0MB/s]                   \n",
      "Downloading data: 16.5kB [00:00, 5.89MB/s]                   \n",
      "Downloading data: 67.0kB [00:00, 17.4MB/s]                   \n"
     ]
    },
    {
     "name": "stdout",
     "output_type": "stream",
     "text": [
      "Dataset nusa_x_senti downloaded and prepared to /home/emmanueldave/.cache/huggingface/datasets/nusa_x_senti/nusax_senti_bjn_nusantara_text/1.0.0/49f13943e0484d3a31e67a1ef385a46d0869fa4960e9a064566c6265f1f2c32d. Subsequent calls will reuse this data.\n"
     ]
    },
    {
     "name": "stderr",
     "output_type": "stream",
     "text": [
      "100%|██████████| 3/3 [00:00<00:00, 896.54it/s]\n",
      "ERROR:IndoP3 Dataset Generation:Exception occurred on {'dataset_name': 'nusax_senti', 'subset_name': 'nusax_senti_bjn_nusantara_text', 'prompt_id': '98501ac8-8bbb-4626-b177-f38b19730cd5', 'template_name': 'sentiment_analysis_10', 'dataset_key': 'train'}. Please rectify: expected token 'end of statement block', got '{'\n",
      "ERROR:IndoP3 Dataset Generation:Exception occurred on {'dataset_name': 'nusax_senti', 'subset_name': 'nusax_senti_bjn_nusantara_text', 'prompt_id': '98501ac8-8bbb-4626-b177-f38b19730cd5', 'template_name': 'sentiment_analysis_10', 'dataset_key': 'validation'}. Please rectify: expected token 'end of statement block', got '{'\n",
      "ERROR:IndoP3 Dataset Generation:Exception occurred on {'dataset_name': 'nusax_senti', 'subset_name': 'nusax_senti_bjn_nusantara_text', 'prompt_id': '98501ac8-8bbb-4626-b177-f38b19730cd5', 'template_name': 'sentiment_analysis_10', 'dataset_key': 'test'}. Please rectify: expected token 'end of statement block', got '{'\n"
     ]
    },
    {
     "name": "stdout",
     "output_type": "stream",
     "text": [
      "df_.shape: (483980, 7)\n"
     ]
    },
    {
     "name": "stderr",
     "output_type": "stream",
     "text": [
      " 41%|████▏     | 34/82 [39:11<3:19:17, 249.11s/it]"
     ]
    },
    {
     "name": "stdout",
     "output_type": "stream",
     "text": [
      "Downloading and preparing dataset nusa_x_senti/nusax_senti_bug_nusantara_text to /home/emmanueldave/.cache/huggingface/datasets/nusa_x_senti/nusax_senti_bug_nusantara_text/1.0.0/49f13943e0484d3a31e67a1ef385a46d0869fa4960e9a064566c6265f1f2c32d...\n"
     ]
    },
    {
     "name": "stderr",
     "output_type": "stream",
     "text": [
      "Downloading data: 88.1kB [00:00, 13.5MB/s]                   \n",
      "Downloading data: 17.3kB [00:00, 3.50MB/s]                   \n",
      "Downloading data: 71.1kB [00:00, 14.6MB/s]                   \n"
     ]
    },
    {
     "name": "stdout",
     "output_type": "stream",
     "text": [
      "Dataset nusa_x_senti downloaded and prepared to /home/emmanueldave/.cache/huggingface/datasets/nusa_x_senti/nusax_senti_bug_nusantara_text/1.0.0/49f13943e0484d3a31e67a1ef385a46d0869fa4960e9a064566c6265f1f2c32d. Subsequent calls will reuse this data.\n"
     ]
    },
    {
     "name": "stderr",
     "output_type": "stream",
     "text": [
      "100%|██████████| 3/3 [00:00<00:00, 454.31it/s]\n",
      "ERROR:IndoP3 Dataset Generation:Exception occurred on {'dataset_name': 'nusax_senti', 'subset_name': 'nusax_senti_bug_nusantara_text', 'prompt_id': '98501ac8-8bbb-4626-b177-f38b19730cd5', 'template_name': 'sentiment_analysis_10', 'dataset_key': 'train'}. Please rectify: expected token 'end of statement block', got '{'\n",
      "ERROR:IndoP3 Dataset Generation:Exception occurred on {'dataset_name': 'nusax_senti', 'subset_name': 'nusax_senti_bug_nusantara_text', 'prompt_id': '98501ac8-8bbb-4626-b177-f38b19730cd5', 'template_name': 'sentiment_analysis_10', 'dataset_key': 'validation'}. Please rectify: expected token 'end of statement block', got '{'\n",
      "ERROR:IndoP3 Dataset Generation:Exception occurred on {'dataset_name': 'nusax_senti', 'subset_name': 'nusax_senti_bug_nusantara_text', 'prompt_id': '98501ac8-8bbb-4626-b177-f38b19730cd5', 'template_name': 'sentiment_analysis_10', 'dataset_key': 'test'}. Please rectify: expected token 'end of statement block', got '{'\n"
     ]
    },
    {
     "name": "stdout",
     "output_type": "stream",
     "text": [
      "df_.shape: (499980, 7)\n"
     ]
    },
    {
     "name": "stderr",
     "output_type": "stream",
     "text": [
      " 43%|████▎     | 35/82 [41:57<2:55:24, 223.93s/it]"
     ]
    },
    {
     "name": "stdout",
     "output_type": "stream",
     "text": [
      "Downloading and preparing dataset nusa_x_senti/nusax_senti_ace_nusantara_text to /home/emmanueldave/.cache/huggingface/datasets/nusa_x_senti/nusax_senti_ace_nusantara_text/1.0.0/49f13943e0484d3a31e67a1ef385a46d0869fa4960e9a064566c6265f1f2c32d...\n"
     ]
    },
    {
     "name": "stderr",
     "output_type": "stream",
     "text": [
      "Downloading data: 81.4kB [00:00, 16.6MB/s]                   \n",
      "Downloading data: 16.2kB [00:00, 5.12MB/s]                   \n",
      "Downloading data: 65.6kB [00:00, 16.0MB/s]                   \n"
     ]
    },
    {
     "name": "stdout",
     "output_type": "stream",
     "text": [
      "Dataset nusa_x_senti downloaded and prepared to /home/emmanueldave/.cache/huggingface/datasets/nusa_x_senti/nusax_senti_ace_nusantara_text/1.0.0/49f13943e0484d3a31e67a1ef385a46d0869fa4960e9a064566c6265f1f2c32d. Subsequent calls will reuse this data.\n"
     ]
    },
    {
     "name": "stderr",
     "output_type": "stream",
     "text": [
      "100%|██████████| 3/3 [00:00<00:00, 790.48it/s]\n",
      "ERROR:IndoP3 Dataset Generation:Exception occurred on {'dataset_name': 'nusax_senti', 'subset_name': 'nusax_senti_ace_nusantara_text', 'prompt_id': '98501ac8-8bbb-4626-b177-f38b19730cd5', 'template_name': 'sentiment_analysis_10', 'dataset_key': 'train'}. Please rectify: expected token 'end of statement block', got '{'\n",
      "ERROR:IndoP3 Dataset Generation:Exception occurred on {'dataset_name': 'nusax_senti', 'subset_name': 'nusax_senti_ace_nusantara_text', 'prompt_id': '98501ac8-8bbb-4626-b177-f38b19730cd5', 'template_name': 'sentiment_analysis_10', 'dataset_key': 'validation'}. Please rectify: expected token 'end of statement block', got '{'\n",
      "ERROR:IndoP3 Dataset Generation:Exception occurred on {'dataset_name': 'nusax_senti', 'subset_name': 'nusax_senti_ace_nusantara_text', 'prompt_id': '98501ac8-8bbb-4626-b177-f38b19730cd5', 'template_name': 'sentiment_analysis_10', 'dataset_key': 'test'}. Please rectify: expected token 'end of statement block', got '{'\n"
     ]
    },
    {
     "name": "stdout",
     "output_type": "stream",
     "text": [
      "df_.shape: (515980, 7)\n"
     ]
    },
    {
     "name": "stderr",
     "output_type": "stream",
     "text": [
      " 44%|████▍     | 36/82 [45:38<2:51:07, 223.20s/it]"
     ]
    },
    {
     "name": "stdout",
     "output_type": "stream",
     "text": [
      "Downloading and preparing dataset nusa_x_senti/nusax_senti_mad_nusantara_text to /home/emmanueldave/.cache/huggingface/datasets/nusa_x_senti/nusax_senti_mad_nusantara_text/1.0.0/49f13943e0484d3a31e67a1ef385a46d0869fa4960e9a064566c6265f1f2c32d...\n"
     ]
    },
    {
     "name": "stderr",
     "output_type": "stream",
     "text": [
      "Downloading data: 84.5kB [00:00, 5.42MB/s]                   \n",
      "Downloading data: 16.8kB [00:00, 874kB/s]                    \n",
      "Downloading data: 68.0kB [00:00, 4.04MB/s]                   \n"
     ]
    },
    {
     "name": "stdout",
     "output_type": "stream",
     "text": [
      "Dataset nusa_x_senti downloaded and prepared to /home/emmanueldave/.cache/huggingface/datasets/nusa_x_senti/nusax_senti_mad_nusantara_text/1.0.0/49f13943e0484d3a31e67a1ef385a46d0869fa4960e9a064566c6265f1f2c32d. Subsequent calls will reuse this data.\n"
     ]
    },
    {
     "name": "stderr",
     "output_type": "stream",
     "text": [
      "100%|██████████| 3/3 [00:00<00:00, 123.52it/s]\n",
      "ERROR:IndoP3 Dataset Generation:Exception occurred on {'dataset_name': 'nusax_senti', 'subset_name': 'nusax_senti_mad_nusantara_text', 'prompt_id': '98501ac8-8bbb-4626-b177-f38b19730cd5', 'template_name': 'sentiment_analysis_10', 'dataset_key': 'train'}. Please rectify: expected token 'end of statement block', got '{'\n",
      "ERROR:IndoP3 Dataset Generation:Exception occurred on {'dataset_name': 'nusax_senti', 'subset_name': 'nusax_senti_mad_nusantara_text', 'prompt_id': '98501ac8-8bbb-4626-b177-f38b19730cd5', 'template_name': 'sentiment_analysis_10', 'dataset_key': 'validation'}. Please rectify: expected token 'end of statement block', got '{'\n",
      "ERROR:IndoP3 Dataset Generation:Exception occurred on {'dataset_name': 'nusax_senti', 'subset_name': 'nusax_senti_mad_nusantara_text', 'prompt_id': '98501ac8-8bbb-4626-b177-f38b19730cd5', 'template_name': 'sentiment_analysis_10', 'dataset_key': 'test'}. Please rectify: expected token 'end of statement block', got '{'\n"
     ]
    },
    {
     "name": "stdout",
     "output_type": "stream",
     "text": [
      "df_.shape: (531980, 7)\n"
     ]
    },
    {
     "name": "stderr",
     "output_type": "stream",
     "text": [
      " 45%|████▌     | 37/82 [49:29<2:49:02, 225.39s/it]"
     ]
    },
    {
     "name": "stdout",
     "output_type": "stream",
     "text": [
      "Downloading and preparing dataset nusa_x_senti/nusax_senti_ban_nusantara_text to /home/emmanueldave/.cache/huggingface/datasets/nusa_x_senti/nusax_senti_ban_nusantara_text/1.0.0/49f13943e0484d3a31e67a1ef385a46d0869fa4960e9a064566c6265f1f2c32d...\n"
     ]
    },
    {
     "name": "stderr",
     "output_type": "stream",
     "text": [
      "Downloading data: 83.9kB [00:00, 10.6MB/s]                   \n",
      "Downloading data: 16.6kB [00:00, 4.89MB/s]                   \n",
      "Downloading data: 67.3kB [00:00, 10.9MB/s]                   \n"
     ]
    },
    {
     "name": "stdout",
     "output_type": "stream",
     "text": [
      "Dataset nusa_x_senti downloaded and prepared to /home/emmanueldave/.cache/huggingface/datasets/nusa_x_senti/nusax_senti_ban_nusantara_text/1.0.0/49f13943e0484d3a31e67a1ef385a46d0869fa4960e9a064566c6265f1f2c32d. Subsequent calls will reuse this data.\n"
     ]
    },
    {
     "name": "stderr",
     "output_type": "stream",
     "text": [
      "100%|██████████| 3/3 [00:00<00:00, 269.31it/s]\n",
      "ERROR:IndoP3 Dataset Generation:Exception occurred on {'dataset_name': 'nusax_senti', 'subset_name': 'nusax_senti_ban_nusantara_text', 'prompt_id': '98501ac8-8bbb-4626-b177-f38b19730cd5', 'template_name': 'sentiment_analysis_10', 'dataset_key': 'train'}. Please rectify: expected token 'end of statement block', got '{'\n",
      "ERROR:IndoP3 Dataset Generation:Exception occurred on {'dataset_name': 'nusax_senti', 'subset_name': 'nusax_senti_ban_nusantara_text', 'prompt_id': '98501ac8-8bbb-4626-b177-f38b19730cd5', 'template_name': 'sentiment_analysis_10', 'dataset_key': 'validation'}. Please rectify: expected token 'end of statement block', got '{'\n",
      "ERROR:IndoP3 Dataset Generation:Exception occurred on {'dataset_name': 'nusax_senti', 'subset_name': 'nusax_senti_ban_nusantara_text', 'prompt_id': '98501ac8-8bbb-4626-b177-f38b19730cd5', 'template_name': 'sentiment_analysis_10', 'dataset_key': 'test'}. Please rectify: expected token 'end of statement block', got '{'\n"
     ]
    },
    {
     "name": "stdout",
     "output_type": "stream",
     "text": [
      "df_.shape: (547980, 7)\n"
     ]
    },
    {
     "name": "stderr",
     "output_type": "stream",
     "text": [
      " 46%|████▋     | 38/82 [53:08<2:43:52, 223.47s/it]"
     ]
    },
    {
     "name": "stdout",
     "output_type": "stream",
     "text": [
      "Downloading and preparing dataset id_hsd_nofaaulia/id_hsd_nofaaulia_nusantara_text to /home/emmanueldave/.cache/huggingface/datasets/id_hsd_nofaaulia/id_hsd_nofaaulia_nusantara_text/1.0.0/f4f0da66231b2dff4a39c7c40d73634a9773cc4075095988ec818827f03cdafc...\n"
     ]
    },
    {
     "name": "stderr",
     "output_type": "stream",
     "text": [
      "Downloading data: 1.55MB [00:00, 13.7MB/s]\n"
     ]
    },
    {
     "name": "stdout",
     "output_type": "stream",
     "text": [
      "Dataset id_hsd_nofaaulia downloaded and prepared to /home/emmanueldave/.cache/huggingface/datasets/id_hsd_nofaaulia/id_hsd_nofaaulia_nusantara_text/1.0.0/f4f0da66231b2dff4a39c7c40d73634a9773cc4075095988ec818827f03cdafc. Subsequent calls will reuse this data.\n"
     ]
    },
    {
     "name": "stderr",
     "output_type": "stream",
     "text": [
      "100%|██████████| 2/2 [00:00<00:00, 404.62it/s]\n"
     ]
    },
    {
     "name": "stdout",
     "output_type": "stream",
     "text": [
      "df_.shape: (557040, 7)\n"
     ]
    },
    {
     "name": "stderr",
     "output_type": "stream",
     "text": [
      " 48%|████▊     | 39/82 [54:14<2:06:19, 176.26s/it]"
     ]
    },
    {
     "name": "stdout",
     "output_type": "stream",
     "text": [
      "Downloading and preparing dataset news_en_id/news_en_id_nusantara_t2t to /home/emmanueldave/.cache/huggingface/datasets/news_en_id/news_en_id_nusantara_t2t/1.0.0/206e5dd1880f1e4f87e9af37ca6a7308e447d350ff4c12ebeaf15a5ed6960cc5...\n"
     ]
    },
    {
     "name": "stderr",
     "output_type": "stream",
     "text": []
    },
    {
     "name": "stdout",
     "output_type": "stream",
     "text": [
      "Dataset news_en_id downloaded and prepared to /home/emmanueldave/.cache/huggingface/datasets/news_en_id/news_en_id_nusantara_t2t/1.0.0/206e5dd1880f1e4f87e9af37ca6a7308e447d350ff4c12ebeaf15a5ed6960cc5. Subsequent calls will reuse this data.\n"
     ]
    },
    {
     "name": "stderr",
     "output_type": "stream",
     "text": [
      "100%|██████████| 3/3 [00:00<00:00, 315.57it/s]\n"
     ]
    },
    {
     "name": "stdout",
     "output_type": "stream",
     "text": [
      "df_.shape: (1616265, 7)\n"
     ]
    },
    {
     "name": "stderr",
     "output_type": "stream",
     "text": [
      " 49%|████▉     | 40/82 [1:48:33<12:50:47, 1101.13s/it]"
     ]
    },
    {
     "name": "stdout",
     "output_type": "stream",
     "text": [
      "Downloading and preparing dataset id_panl_bppt/id_panl_bppt_nusantara_t2t to /home/emmanueldave/.cache/huggingface/datasets/id_panl_bppt/id_panl_bppt_nusantara_t2t/1.0.0/5ac7b48c59f84ceeeee2aca72ddf850609bb87fda8fc8341fc56b4461e307cc2...\n"
     ]
    },
    {
     "name": "stderr",
     "output_type": "stream",
     "text": [
      "Downloading data: 100%|██████████| 2.37M/2.37M [00:00<00:00, 11.1MB/s]\n"
     ]
    },
    {
     "name": "stdout",
     "output_type": "stream",
     "text": [
      "Dataset id_panl_bppt downloaded and prepared to /home/emmanueldave/.cache/huggingface/datasets/id_panl_bppt/id_panl_bppt_nusantara_t2t/1.0.0/5ac7b48c59f84ceeeee2aca72ddf850609bb87fda8fc8341fc56b4461e307cc2. Subsequent calls will reuse this data.\n"
     ]
    },
    {
     "name": "stderr",
     "output_type": "stream",
     "text": [
      "100%|██████████| 1/1 [00:00<00:00, 96.59it/s]\n",
      "INFO:IndoP3 Dataset Generation:Output not available for {'dataset_name': 'id_panl_bppt', 'subset_name': 'id_panl_bppt_nusantara_t2t', 'prompt_id': '3b01df54-52ef-4d18-a17b-a11b326df02d', 'template_name': 'id_panl_bppt_template_1', 'dataset_key': 'train'}.\n"
     ]
    },
    {
     "name": "stdout",
     "output_type": "stream",
     "text": [
      "df_.shape: (2192769, 7)\n"
     ]
    },
    {
     "name": "stderr",
     "output_type": "stream",
     "text": [
      " 50%|█████     | 41/82 [2:20:40<15:21:51, 1349.07s/it]"
     ]
    },
    {
     "name": "stdout",
     "output_type": "stream",
     "text": [
      "Downloading and preparing dataset xl_sum/xl_sum_nusantara_t2t to /home/emmanueldave/.cache/huggingface/datasets/xl_sum/xl_sum_nusantara_t2t/1.0.0/370168f70442e4e1ff43cad9e260fa9f2cb0489c3458f64dfee803f69413749c...\n"
     ]
    },
    {
     "name": "stderr",
     "output_type": "stream",
     "text": [
      "Downloading data: 100%|██████████| 41.1M/41.1M [00:05<00:00, 7.62MB/s]\n"
     ]
    },
    {
     "name": "stdout",
     "output_type": "stream",
     "text": [
      "Dataset xl_sum downloaded and prepared to /home/emmanueldave/.cache/huggingface/datasets/xl_sum/xl_sum_nusantara_t2t/1.0.0/370168f70442e4e1ff43cad9e260fa9f2cb0489c3458f64dfee803f69413749c. Subsequent calls will reuse this data.\n"
     ]
    },
    {
     "name": "stderr",
     "output_type": "stream",
     "text": [
      "100%|██████████| 3/3 [00:00<00:00, 204.18it/s]\n",
      "INFO:IndoP3 Dataset Generation:Output not available for {'dataset_name': 'xl_sum', 'subset_name': 'xl_sum_nusantara_t2t', 'prompt_id': '1b6038ac-04e4-4739-8b18-232a16ee6d9d', 'template_name': 'xl_sum_template_28', 'dataset_key': 'train'}.\n",
      "INFO:IndoP3 Dataset Generation:Output not available for {'dataset_name': 'xl_sum', 'subset_name': 'xl_sum_nusantara_t2t', 'prompt_id': '1b6038ac-04e4-4739-8b18-232a16ee6d9d', 'template_name': 'xl_sum_template_28', 'dataset_key': 'validation'}.\n",
      "INFO:IndoP3 Dataset Generation:Output not available for {'dataset_name': 'xl_sum', 'subset_name': 'xl_sum_nusantara_t2t', 'prompt_id': '1b6038ac-04e4-4739-8b18-232a16ee6d9d', 'template_name': 'xl_sum_template_28', 'dataset_key': 'test'}.\n"
     ]
    },
    {
     "ename": "",
     "evalue": "",
     "output_type": "error",
     "traceback": [
      "\u001b[1;31mCannot execute code, session has been disposed. Please try restarting the Kernel."
     ]
    },
    {
     "ename": "",
     "evalue": "",
     "output_type": "error",
     "traceback": [
      "\u001b[1;31mThe Kernel crashed while executing code in the the current cell or a previous cell. Please review the code in the cell(s) to identify a possible cause of the failure. Click <a href='https://aka.ms/vscodeJupyterKernelCrash'>here</a> for more info. View Jupyter <a href='command:jupyter.viewOutput'>log</a> for further details."
     ]
    }
   ],
   "source": [
    "all_data = []\n",
    "checkpoint_save_path = \"/home/emmanueldave/indo-t0/indo_promptsource/dataset/checkpoints\"\n",
    "\n",
    "for nusa_template_i in tqdm(nusa_templates):\n",
    "    dataset_name = nusa_template_i[0]\n",
    "    subset_name = nusa_template_i[1]\n",
    "\n",
    "    # Load dataset\n",
    "    dset = conhelps.filtered(lambda x: dataset_name in x.dataset_name and subset_name in x.config.name)[0].load_dataset()\n",
    "\n",
    "    # Load prompt\n",
    "    prompt = DatasetTemplates(dataset_name, subset_name=subset_name)\n",
    "\n",
    "    # Iterate to each prompt templates\n",
    "    for prompt_id in prompt.templates:\n",
    "        template_name = prompt.templates[prompt_id].name\n",
    "\n",
    "        for dataset_key in dset.keys():\n",
    "            for example in dset[dataset_key]:\n",
    "                data_details = {\n",
    "                    \"dataset_name\": dataset_name,\n",
    "                    \"subset_name\": subset_name,\n",
    "                    \"prompt_id\": prompt_id,\n",
    "                    \"template_name\": template_name,\n",
    "                    \"dataset_key\": dataset_key,\n",
    "                }\n",
    "                input = None\n",
    "                output = None\n",
    "\n",
    "                try:\n",
    "                    render = prompt[template_name].apply(example)\n",
    "                    if len(render) != 2:\n",
    "                        if len(render) == 1:\n",
    "                            input = render[0]\n",
    "\n",
    "                        logger.info(f\"Output not available for {data_details}.\")\n",
    "                        break\n",
    "                    else:\n",
    "                        input = render[0]\n",
    "                        output = render[1]\n",
    "                except Exception as e:\n",
    "                    logger.error(f\"Exception occurred on {data_details}. Please rectify: {e}\")\n",
    "                    break\n",
    "                \n",
    "                data_details[\"input\"] = input\n",
    "                data_details[\"output\"] = output\n",
    "\n",
    "                all_data.append(\n",
    "                    data_details\n",
    "                )\n",
    "        \n",
    "    df_ = pd.DataFrame(all_data)\n",
    "    print(f\"df_.shape: {df_.shape}\")\n",
    "    df_.to_csv(f\"{checkpoint_save_path}/ckpt.csv\")"
   ]
  },
  {
   "cell_type": "code",
   "execution_count": 76,
   "metadata": {},
   "outputs": [
    {
     "name": "stdout",
     "output_type": "stream",
     "text": [
      "df.shape: (55000, 7)\n"
     ]
    }
   ],
   "source": [
    "import pandas as pd\n",
    "df = pd.DataFrame(all_data)\n",
    "print(f\"df.shape: {df.shape}\")"
   ]
  },
  {
   "cell_type": "code",
   "execution_count": 78,
   "metadata": {},
   "outputs": [],
   "source": [
    "df.to_csv(\"first_run.csv\")"
   ]
  },
  {
   "cell_type": "code",
   "execution_count": null,
   "metadata": {},
   "outputs": [],
   "source": []
  }
 ],
 "metadata": {
  "kernelspec": {
   "display_name": "torch",
   "language": "python",
   "name": "torch"
  },
  "language_info": {
   "codemirror_mode": {
    "name": "ipython",
    "version": 3
   },
   "file_extension": ".py",
   "mimetype": "text/x-python",
   "name": "python",
   "nbconvert_exporter": "python",
   "pygments_lexer": "ipython3",
   "version": "3.8.10"
  },
  "orig_nbformat": 4
 },
 "nbformat": 4,
 "nbformat_minor": 2
}
